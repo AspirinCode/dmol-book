{
 "cells": [
  {
   "cell_type": "markdown",
   "metadata": {},
   "source": [
    "# Graph Neural Networks\n",
    "\n",
    "The biggest difficulty for deep learning with molecules is the choice and computation of \"descriptors\". Graph neural networks (GNNs) are a category of deep neural networks whose inputs are graphs. As usual, they are composed of specific layers that input a graph and those layers are what we're interested in. You can find reviews of GNNs in X, Y, and Z. Before we dive too deep into them, we must first understand how a graph is represented and how molecules are converted into graphs. "
   ]
  },
  {
   "cell_type": "markdown",
   "metadata": {},
   "source": [
    "## Representing a Graph\n",
    "\n",
    "A graph $\\mathbf{G}$ is a set of nodes $\\mathbf{V}$ and edges $\\mathbf{E}$. In our setting, node $i$ is defined by a vector $\\vec{v}_i$, so that the set of nodes can be written as a rank 2 tensor. The edges can be represented as an adjacency matrix $\\mathbf{E}$, where if $e_{ij} = 1$ then nodes $i$ and $j$ are connected by an edge. In many fields, graphs are often immediately simplified to be directed and acyclic, which simplifies things. Molecules are instead undirected and have cycles (rings). Thus, our adjacency matrices are always symmetric $e_{ij} = e_{ji}$. Often our edges themselves have features, so that $e_{ij}$ is itself a vector. Then the adjacency matrix becomes a rank 3 tensor. Examples of edge features might be covalent bond order or distance between two nodes.\n",
    "\n",
    "\n",
    "Let's see how a graph can be constructed from a molecule. Consider methanol, shown in Figure. I've numbered the atoms so that we have an order for defining the nodes/edges. First, the node features. You can use anything for node features, but often we'll begin with one-hot encoded feature vectors:\n",
    "\n",
    "| Node | C  | H  | O  |\n",
    "|:-----|----|----|---:|\n",
    "| 1    | 0  | 1  |  0 |\n",
    "| 2    | 0  | 1  |  0 |\n",
    "| 3    | 0  | 1  |  0 |\n",
    "| 4    | 1  | 0  |  0 |\n",
    "| 5    | 0  | 0  |  1 |\n",
    "| 6    | 0  | 1  |  0 |\n",
    "\n",
    "$\\mathbf{V}$ will be the combined feature vectors of these nodes. The adjacency matrix $\\mathbf{E}$ will look like:\n",
    "\n",
    "\n",
    "|    | 1  | 2  | 3  | 4  | 5  | 6  | \n",
    "|:---|----|----|----|----|----|---:|\n",
    "| 1  | 0  | 0  | 0  | 1  | 0  |  0 |\n",
    "| 2  | 0  | 0  | 0  | 1  | 0  |  0 |\n",
    "| 3  | 0  | 0  | 0  | 1  | 0  |  0 |\n",
    "| 4  | 1  | 1  | 1  | 0  | 1  |  0 |\n",
    "| 5  | 0  | 0  | 0  | 1  | 0  |  1 |\n",
    "| 6  | 0  | 0  | 0  | 0  | 1  |  0 |\n",
    "\n",
    "\n",
    "Take a moment to understand these two. For example, notice that rows 1, 2, and 3 only have the 4th column as non-zero. That's because atoms 1-3 are bonded only to carbon (atom 4). Also, the diagonal is always 0 because atoms cannot be bonded with themselves. \n"
   ]
  },
  {
   "cell_type": "code",
   "execution_count": 1,
   "metadata": {},
   "outputs": [],
   "source": [
    "import matplotlib.pyplot as plt\n",
    "import seaborn as sns\n",
    "import matplotlib as mpl\n",
    "import numpy as np\n",
    "import tensorflow as tf\n",
    "import warnings\n",
    "import pandas as pd\n",
    "import rdkit, rdkit.Chem, rdkit.Chem.rdDepictor, rdkit.Chem.Draw\n",
    "import networkx as nx\n",
    "warnings.filterwarnings('ignore')\n",
    "sns.set_context('notebook')\n",
    "sns.set_style('dark',  {'xtick.bottom':True, 'ytick.left':True, 'xtick.color': '#666666', 'ytick.color': '#666666',\n",
    "                        'axes.edgecolor': '#666666', 'axes.linewidth':     0.8 , 'figure.dpi': 300})\n",
    "color_cycle = ['#1BBC9B', '#F06060', '#5C4B51', '#F3B562', '#6e5687']\n",
    "mpl.rcParams['axes.prop_cycle'] = mpl.cycler(color=color_cycle) \n",
    "soldata = pd.read_csv('https://dataverse.harvard.edu/api/access/datafile/3407241?format=original&gbrecs=true')\n",
    "np.random.seed(0)\n",
    "my_elements = {6: 'C', 8: 'O', 1: 'H'}"
   ]
  },
  {
   "cell_type": "code",
   "execution_count": 2,
   "metadata": {},
   "outputs": [],
   "source": [
    "def smiles2graph(sml):\n",
    "    '''Argument for the RD2NX function should be a valid SMILES sequence\n",
    "    returns: the graph\n",
    "    '''\n",
    "    m = rdkit.Chem.MolFromSmiles(sml)\n",
    "    m = rdkit.Chem.AddHs(m)\n",
    "    order_string = {rdkit.Chem.rdchem.BondType.SINGLE: 1,\n",
    "                    rdkit.Chem.rdchem.BondType.DOUBLE: 2,\n",
    "                    rdkit.Chem.rdchem.BondType.TRIPLE: 3,\n",
    "                    rdkit.Chem.rdchem.BondType.AROMATIC: 4}\n",
    "    N = len(list(m.GetAtoms()))\n",
    "    nodes = np.zeros((N,len(my_elements)))\n",
    "    lookup = list(my_elements.keys())\n",
    "    for i in m.GetAtoms():\n",
    "        nodes[i.GetIdx(), lookup.index(i.GetAtomicNum())] = 1\n",
    "    \n",
    "    adj = np.zeros((N,N,5))\n",
    "    for j in m.GetBonds():\n",
    "        u = min(j.GetBeginAtomIdx(),j.GetEndAtomIdx())\n",
    "        v = max(j.GetBeginAtomIdx(),j.GetEndAtomIdx())        \n",
    "        order = j.GetBondType()\n",
    "        if order in order_string:\n",
    "            order = order_string[order]\n",
    "        else:\n",
    "            raise Warning('Ignoring bond order' + order)\n",
    "        adj[u, v, order] = 1        \n",
    "        adj[v, u, order] = 1        \n",
    "    return nodes, adj"
   ]
  },
  {
   "cell_type": "code",
   "execution_count": 22,
   "metadata": {},
   "outputs": [],
   "source": [
    "nodes, adj = smiles2graph('CO')"
   ]
  },
  {
   "cell_type": "markdown",
   "metadata": {},
   "source": [
    "## A Graph Neural Network\n",
    "\n",
    "A graph neural network (GNN) is a neural network with two defining attributes:\n",
    "\n",
    "1. It's input is a graph\n",
    "2. It's output is permutation invariant\n",
    "\n",
    "We can understand clearly the first point. Here, a graph permutation means re-ordering our nodes. In our methanol example above, we could have easily made the carbon be atom 1 instead of atom 4. Our new adjacency matrix would then be:\n",
    "\n",
    "|    | 1  | 2  | 3  | 4  | 5  | 6  | \n",
    "|:---|----|----|----|----|----|---:|\n",
    "| 1  | 0  | 1  | 1  | 1  | 1  |  0 |\n",
    "| 2  | 1  | 0  | 0  | 0  | 0  |  0 |\n",
    "| 3  | 1  | 0  | 0  | 0  | 0  |  0 |\n",
    "| 4  | 1  | 0  | 0  | 0  | 1  |  0 |\n",
    "| 5  | 1  | 0  | 0  | 0  | 0  |  1 |\n",
    "| 6  | 0  | 0  | 0  | 0  | 1  |  0 |\n",
    "\n",
    "\n",
    "```{margin}\n",
    "Ok, so technically we might want our GNN to be permutation *equivariant*. If our GNN outputs per-node features, then obviously if we swap the node order of input, we want our per-node output to swap.\n",
    "```\n",
    "\n",
    "A GNN is permutation invariant if the output is insensitive to these kind of exchanges. Of course, there may exist GNNs out there which are not permutation invariant, especially if they are for trees where it is possible to deterministically order all nodes. Yet all the GNNs used in chemistry and most of the deep learning work is concerned with GNNs that are permutation invariant."
   ]
  },
  {
   "cell_type": "markdown",
   "metadata": {},
   "source": [
    "### A simple GNN\n",
    "\n",
    "We will often mention a GNN when we really mean a layer from a GNN. Most GNNs implement a specific layer that can deal with graphs, and so usually we are only concerned with this layer. Let's see an example of a simple layer for a GNN:\n",
    "\n",
    "\\begin{equation}\n",
    "f_k = \\sigma\\left( \\sum_i \\sum_jn_{ij}w_{jk}  \\right)\n",
    "\\end{equation}\n",
    "\n",
    "This equation shows that we first multiply every node feature by trainable weights $w_{jk}$, sum over all node features, and then apply an activation. This will yield a single feature vector for the graph. Is this equation permutation invariant? Yes, because the node index in our expression is index $i$ which can be re-ordered without affecting the output.\n",
    "\n",
    "Let's see an example that is similar, but not permutation invariant:\n",
    "\n",
    "\\begin{equation}\n",
    "f_k = \\sigma\\left( \\sum_i n_{ij}w_{ik}  \\right)\n",
    "\\end{equation}\n",
    "\n",
    "This is a small change. We have one weight vector per node now. This makes the trainable weights depend on the ordering of the nodes. Then if we swap the node ordering, our weights will no longer align. So if we were to input two methanol molecules, which should have the same output, but we switched two atom numbers, we would get different answers. These simple examples differ from real GNNs in two important ways: (i) they give a single feature vector output, which throws away per-node information, and (ii) they do not use the adjacency matrix. Let's see a real GNN that has these properties while maintaining permutation invariance."
   ]
  },
  {
   "cell_type": "markdown",
   "metadata": {},
   "source": [
    "## Kipf & Welling GCN\n",
    "\n",
    "One of the first popular GNNs is the Kipf & Welling graph convolutional network (GCN) {cite}`kipf2016semi`. Although some people consider GCNs to be a broad class of GNNs, we'll use GCNs to refer specifically the Kipf & Welling GCN. \n",
    "Thomas Kipf has written an [excellent article introducing the GCN](https://tkipf.github.io/graph-convolutional-networks/). I will not repeat this article, so please take a look at it.\n",
    "\n",
    "The input to a GCN layer is $\\mathbf{V}$, $\\mathbf{E}$ and it outputs an updated $\\mathbf{V}'$. Each node feature vector is updated. The way it updates a node feature vector is by averaging the feature vectors of its neigbhors, as determined by $\\mathbf{E}$. The choice of averaging over neigbhors is what makes a GCN layer permutation invariant. Averaging over neighbors is not trainable, so we must add trainable parameters. We multiply the neighbor features by a trainable matrix before the averaging, which gives the GCN the ability to learn. In Einstein notation, this process is:\n",
    "\n",
    "\\begin{equation}\n",
    "v_{il} = \\sigma\\left(\\frac{1}{d_i}e_{ij}v_{jk}w_{lk}\\right)\n",
    "\\end{equation}\n",
    "\n",
    "where $i$ is the node we're considering, $j$ is the neighbor index, $k$ is the node input feature, $l$ is the ouput node feature, $d_i$ is the degree of node i (which makes it an average instead of sum), $e_{ij}$ isolates neighbors so that all non-neighbor $v_{jk}$s are zero, $\\sigma$ is our activation, and $w_{lk}$ is the trainable weights. This equation is a mouthful, but it truly just is the average over neighbors with a trainable matrix thrown in. One common modification is to make all nodes neighbors of themselves. This is so that the output node features $v_{il}$ depends on the input features $v_{ik}$. We do not need to change our equation, just make the adjacency matrix have $1$s on the diagonal instead of $0$ by adding the identity matrix during pre-processing.\n",
    "\n",
    "Building understanding about the GCN is important for understanding other GNNs. You can view the GCN layer as a way to \"communicate\" between a node and its neigbhors. The output for node $i$ will depend only on its immediate neigbhors. For chemistry, this is not satisfactory. So you can stack multiple layers. If you have two layers, then the output for node $i$ will include information about node $i$'s neighbors' neigbhors. Another important detail to understand in GCNs is that the averaging procedure accomplishes two goals: (i) it gives permutation invariance by removing the effect of neighbor order and (ii) it prevents a change in magnitude in node features. A sum would accomplish (i) but would cause the magnitude of the node features to grow after each layer. Of course, you could ad-hoc put a batch normalization layer after each GCN layer to keep output magnitudes stable but averaging is easy."
   ]
  },
  {
   "cell_type": "code",
   "execution_count": 26,
   "metadata": {
    "tags": [
     "remove-cell"
    ]
   },
   "outputs": [
    {
     "data": {
      "application/papermill.record/image/png": "iVBORw0KGgoAAAANSUhEUgAAAV0AAADnCAYAAAC9roUQAAAAOXRFWHRTb2Z0d2FyZQBNYXRwbG90bGliIHZlcnNpb24zLjMuMiwgaHR0cHM6Ly9tYXRwbG90bGliLm9yZy8vihELAAAACXBIWXMAAAsTAAALEwEAmpwYAAAv50lEQVR4nO3deXxU1f3/8desmcxkYZNFDCSQkLAvhkXABQTx2xrAiC0uoFDFNihowQWxglp/tQ1frGjAopWotHWjJOAGonxdQBCoVZYkJkCQGAwGSEgyzH5/f4wMhKwTZu5k+TwfDx8PZu6Ze8+Mlw9n7pzzvhpFURSEEEKoQhvqDgghRFsiRVcIIVQkRVcIIVQkRVcIIVQkRVcIIVQkRVcIIVQkRVcIIVQkRVcIIVQkRVcIIVQkRVcIIVQkRVcIIVSkb8qLnE4nR48e5cwZW6PaK4rCAWcFec5KzihuwjU6Eg0R9DNEotFomtKFNic83ERMTAwGgyHUXRFCXARNUwJvDh06hF4fRkREdL1F06l4WF96kDUlOZxw2XApCi7Fg16jRa/R0FFvYlaXvtzYqTcGjQy666IoChUV5bjddnr16hXq7gghLkKTiu7+/Qfo1q1HvQXX6nbyu4JPyTlzkjMed53tTBod/cwdWBV/NWadjOLqoigKx459T//+/ULdFSHERWjS5QWgwRHu7wo+ZZ/1BA7FU+9+bIqbfdYT/K7gU17uM15GvHWQyzAtX0pKCseOHQvZ8bt168bGjRtDdnzh1eSiW5/1pQfJOXOywYJ7lkPxcMB6kqzSg9x8SUIwuiREyB07dozdu3eH7PjJyckhO7Y4J+DDSkVRWFOSU+8lhdrYFDevlOTQHDLVX3rpRZxOZ6i7IVq5tWvXkpqayoABA3jkkUfqbZuZmcmYMWMYNmwYixYtwuFw+LYVFRUxY8YMBg8ezPXXX8/27duD3XVxEQJedL+pKuWEq3GzGi50wmXnm6rSAPfIf3//++omFV2XyxWE3ojWqnPnzqSlpXHTTTfV2+7zzz9n9erVZGZmsnXrVoqKilixYoVv+4IFC+jXrx87d+7kgQceYN68eZw8eTLY3RdNdNGXFzacOMz6E4d8j0scVmx+jnLPsnlcPFq4gy5GMwA3duzF5I5xjXrt3r3f8Pzzz2G1VgFw333307VrN559dhnl5WU4nU6mT7+VG26YAsCoUcP47W/n8umnWykvL+fee+9n/PhrSU//EwB3330nWq2WlStfQqvV8Ne/LufgwXzsdjuXXz6c+fN/j06n43e/u5s+ffqwb99eoqKiefbZ55v03kXbc9111wGwd+9eSkpK6myXlZXFtGnTSEjwXnpLS0tj4cKFLFy4kMOHD7N//37+/ve/YzKZmDRpEq+++iqbNm3illtuUeV9CP8E/JquG4WmXiBQfn69v8rLy3n44YU888wyBg0ajNvt5vTp09x//1yeeOJpYmPjqKqqYtas2xkwYBCxsd5CbrFYWLNmLd98818ee+xhxo+/lgcfXMS6dW/z0kuZmM3e4v/0008ybNgwFi9+HI/Hw5Ili9m4MZupU1MB+OGHH/jb315Brw/KJXLRxuXn53Pttdf6HicmJlJaWsqpU6coKCggJiaGiIgI3/akpCQKCgpC0VXRCBddJSZ3jKs2Gn39eC7P/vANzkb+iHY+g0bLjM6J3N450a/X7dv3LXFxcQwaNBgAnU5HWdkpCgsL+cMfFvnaORwOCgsP+4ruxImTABgwYCA//fQTdrudsLCwGvv/4otPOXBgH//851oAbDYbnTt39m2fNOl/pOCKoLFardWKamRkJABVVVVUVVX5Hp+/vb6RswitgFeKgeaO6DUanE0Y7uo1WgaYOwSkH4qi0K5dO15//Y062xiN3gKr0+kAcLtrvyyiKAp/+ctyune/rNbt4eHhF9lbIepmNpuprKz0PT77Z4vFgsViqbbt7HaLxaJqH0XjBfyHtMGWTnTUm5r02o76MAZbOvn9ugEDBnH48GH27v0G8BbP9u07YDKZ+OCDd33tCgsPU1VVWddufMzm6ifylVdezWuvrfEV5bKyUxQX/+B3P4VoioSEBPLy8nyPc3Nz6dSpE+3btyc+Pp6jR49WO19zc3OJj48PRVdFIwS86Go0GmZ16Uu4VufX60waHbO79G3SIoDo6GieeWYZzz23nNtu+xV33nkb+fnfkZ7+Vz76aDO33fYrbrllGunpf2rUrIRbb72de++9hxkzplNRUcH99y9Eq9UxY8Z0brvtV9x//70cP37c734KcT6Xy4Xdbsfj8eB2u7Hb7bXOgJkyZQrvvPMOBQUFnD59mlWrVnHjjTcCEBcXR9++fcnIyMBut/PRRx+Rl5fHpEmT1H47opGavAz40kt71rndqXi467tPGrUiDcCo0TLQ3JGXZEVavYqLj8gy4BYsOTm52uKI559/nhdeeKFam3vvvZebbrqJX/7yl7z33ntceumlAKxZs4aXXnoJm83GpEmTeOKJJzAajYB3nu6iRYv45ptv6NatG0uWLGH06NENHl+ERlCKLpzLXjhgPYlNqT97ob+5Aysle6FBUnRbtlAXvVAfX3gF7Sd3s87Ay33Gk1V6kFdKcjjhsuNSPOeljGnpqA9jdpe+TJWUMSFEGxHUeU4GjZabL0lgWsfeFOT+l9OH81FsDjQmE1FxvYlPGoJGK8VWCNF2BHdyqdsNO7ej/WQLfSorvI/dbtDp4POdEJGNMn4CjBztfU6IVsxkMoU0dMZkatqsIhFYwSu6djua1Svhh6NozgvnAM4V35MnIHs97NmNMicNalmYIERrYbPZQn5NV4RecL7bu93egnv0SM2CewGN0+Ftt3qltxAL0YaUlZUxd+5chgwZwrhx4+rMu1UUhfT0dEaOHMnIkSNJT0+vlsiXk5NDamoqgwcPJjU1lZycHLXegvBTcIruzu3eEW4jU7c0LhcUHYWdXwalO0I0V08++SQGg4Ft27aRnp7O0qVLyc/Pr9HuzTffZMuWLWRnZ7Nhwwa2bt3KG294V1s6HA7S0tKYPHkyu3btYurUqaSlpVWLfxTNR+CLrqKg+WRLgyPcC2mcDjSffAQq5en+9NNPpKXNaVTbUaOGYbVa/d4mRH2sViubN29m/vz5WCwWkpOTGT9+PNnZ2TXaZmVlMXv2bLp27UqXLl2YNWsW69evB+Crr77C5XJxxx13YDQamTlzJoqisGPHDrXfkmiEwBfdwsNQWdG011ZWeF+vgksuuYSVK1ercqyG1JX5IFq3wsJCdDodcXHnAqPqSgjLz88nKSmpWruzI+KCggISExOrreZMTEyUpLFm6uJ/SNu1E81X510WKCuDpn6tcTjQ/PM1aNcOAGXEFTB8ZIMvqysbF2Dfvr2sXPm8L3NhzpzfMWbMlRQXFzNr1u1s2vQJAJ988jF/+1sGYWFhjB8/gRdfzOCTT77wxTu+9da/at0/wD/+8SqfffYpdrud3/72Xt+2L7/cxqpVL/ycBdGehx9eTExMD/bs2c3y5X8hKakv332Xxz33pFFa+hP/+tc/MBqNeDwenn76z740NNE6XZgeBt6EsKqqqgbbRkZGYrVaURSl1qSxiIiIWvcjQi/wsxc8/kc6VtOESEioPRu3oqKCv/zl/7F8+Qo6dbqE0tKfmDVrBv/859vVXnvixAmeeeaPvPzyq/To0YN//Wtto/Z/llar4/XX3+DIkULuvnsWQ4YMBeCJJ/7AqlUvExfXiw0bsliy5DFeeeU1AA4fPsQjjyxm4EBvHOW1117Fm2+uo1OnS3A4HHiaGAQvWo4L08Og7oQws9lcrYhWVlZiNpvRaDS1Jo1VVVVJ0lgzdfFFd/hIlPNHo59uRfNuVtNmIuj0KFeNg6vG+f3S2rJx9+79huLiH3jggft87TQaDUVFR4mObud7bv/+fSQmJtGjRw8AUlKm8Nxzyxvc/9ns3ZSUqQD07BlLYmIS+/btRaOB+Pg+xMX1AuCGGyaTnv4n31+cmJgevoILkJw8nCefXMLYsVcxZszYOmMkResRGxuL2+2msLCQ2NhYoO6EsISEBHJzcxk0aJCv3dk7ScTHx/PKK6+gKIrvEkNeXh633nqrOm9E+CXw13R79Gz6QgedFmLqz3SoS23ZuIqiEB+fwOuvv+H7b8OGD+jb1//8gsZm7zbWhRm8zzyzjHvuScNmO8PcuXPYvn3bRe1fNH9ms5mJEyeyYsUKrFYre/bs4eOPP2bKlCk12k6ZMoU1a9ZQUlJCSUkJa9as8SWNjRgxAp1Ox2uvvYbD4WDtWu83tVGjRqn6fkTjBL7oxsZBRGTD7WoTGel9fYAMHDiYo0ePsmfPLt9zBw7sr3HH4f79B5CXl0tR0VEA3nvvXfzx7rsbAPj+++/57rs8BgwYyIABgygo+I7Cn38YfP/9jfTpk1jrVz6Xy8UPPxTRv/8AZs6cxYgRV/Ddd7l+9UG0TEuWLMFmszF69GgWLFjA0qVLSUhIYPfu3QwdOtTXbvr06YwbN46UlBRSUlK4+uqrmT59OgBGo5GMjAyys7NJTk5m3bp1ZGRk+FLIRPMS+Gu6Go13ae+G9X5NG1MMRpRxE6EJebp1iYqKIj39WZ5//q88++wynE4n3btfxrJlf63WrmPHjjz88KP8/vfzMJlMjBlzJXq9vtHLJt1uFzNn3oLNZuPhhxfToYP37hdLljzF448vxu120b59e5Yu/WOtr/d4PDz11BIqKyvRaDR06dKFuXPvq7WtaF3atWvHypUrazyfnJzM119/7Xus0Wh46KGHeOihh2rdT79+/fj3v/8dtH6KwAlOtKPbjWblCu9Ks0YskFD0eujRE+V380KWwXD+Dw/vvpvNhg3ZrF79Skj6UheJdmzZQh2tGOrjC6/gZC/odChz0tCsXolSdNS71LcOisEIMTEod6eFNPTmrbf+xSefbMHtdhMVFcWiRY+FrC+idZLAGwFBDDEHfk4Z+9K70qyyAtwecLtAp/f+aBYZ6b2kMPIKSRlrBBnptmyhHmmG+vjCq8kj3fOnp9RJp4PRY1GuGONdaXb0CNjt3jSxHj2hZ1xAr+G2Zk34t1G0AGVlZSxevJht27bRvn17fv/735OSklKjnaIoLFu2jHfeeQeAadOmsXDhQt/fwZycHBYvXszBgwfp3bs3Tz/9NH379lX1vYjGaVLRDQ83UVFRTmRkdONuJKnRQFwv73/Cb4qiUFFRTni4fD1sbc4PvMnJyeGee+4hKSnJNwf3rPMDbzQaDbNmzeKyyy7jlltu8QXe3HHHHdx666288cYbpKWlsWnTJpnB0Aw1qejGxMRw9OhRjh37PtD9EXUIDzcRExMT6m6IADobeLNx48YagTcLFy6s1vb8wBuAWbNm8fbbb3PLLbdUC7zRaDTMnDmTV155hR07dnDVVVeF4q2JejSp6BoMBnr1klGrEBejrsCbXbt21Wjb1MAbKbrNj9ygTIgQkcCbtkmKrhAhIoE3bZMUXSFC5PzAm7MaCrw5v935gTd5eXnVZrjk5eXVuh8RelJ0hQgRCbxpm6ToChFCEnjT9jRpRZoQwn933nknmZmZITu+rEhrHmSkK4RKnn322VB3QTQDUnSFUMmFwfWibQpOypgQogaTyYTNZmPmzJkcOnRI9eN369ZN9WOKmuSarhBCqEguLwjhp9jYWLZs2VLtuczMTMaOHRuiHomWRIquEEKoSIquEEKoSIquEEKoSGYvCNEEU6dORa8/99fH4XAwbNiwEPZItBQy0hWiCbKysigrK/P9V9tt1IWojRRdIYRQkRRdIYRQkRRdIYRQkaxIE0IIFbXY2QuK04bGEJpbkofy2E2l4ESDoc0du61obZ9xSkoKx44dC8mxu3XrxsaNG4O2/xZbdDUGE+6lmoYbBoFuacv7cqDBwA8sDsmxu/N0SI7b3Ci4sHOYE2QGfN+t7TM+duxYyLJ/k5OTg7r/VnFN9x/ftePmTT0Y/GY8j+7oUm/bV3PbceX6Xgx/uzeLd3TB4T5XuH+o1HPnx5cx7K14fvluLNt/NAe76yFzuszBH+Zu5xdD1jN93Pt8vPH7WtspisLq9G+ZOnIDU0duYHX6t9XuxVWQU8Y9qVv4n8HruSd1CwU5ZSq9g+avrKyMuXPnMmTIEMaNG8fGjRs4xTs12slnXL+1a9eSmprKgAEDeOSRR+ptm5mZyZgxYxg2bBiLFi3C4XD4thUVFTFjxgwGDx7M9ddfz/bt24Pd9Vq1iqLbOdzFPf1PkNrrdL3tvjhm5uUDHXhlfBFbphymqMrAC3s7+rYv3N6Nvu3tbE89yPzBpTzwRTdO2nTB7n5IPPfk1xgMWtZtS2Fx+gj+uvQ/HM4vr9Hu3TcP88WWYl7KnsBLGyby5dZjbHzDG0vodHh4LG07Eyb3IHvXZCZN7cljadtxOjxqv51m6cknn8RgMLBt2zb+kv4MS5cu5WD+DzXayWdcv86dO5OWlsZNN91Ub7vPP/+c1atXk5mZydatWykqKmLFihW+7QsWLKBfv37s3LmTBx54gHnz5nHy5Mlgd7+GVlF0J8ZUMuGyKtqFuettl304itTe5SREO4g2evht/xOsPxwFQOFpAwdOhXHvwFJMeoXrYipJaGdn89EINd6Cqs5YXXy+uYhZ8/sTbtEzMLkTV4y/lI+ya452N2UV8qvZfbikq5lLuoRz86w+bFp/BID/fnUct8vDtDsSMBp1pM5MAEXh6x3H1X5LzY7VamXz5s3Mnz+fcIuB3smHuWJ8F/mMm+C6665jwoQJtGvXrt52WVlZTJs2jYSEBKKjo0lLS2P9+vUAHD58mP3793PfffdhMpmYNGkSffr0YdOmTSq8g+paRdFtrILyMJLa2X2Pk9rbOWHTU2bXUlAeRkyEE4vh3Ne6pHYOCspb3839igor0Om0xMRF+p7rnRRNYUHNbwpH8k/TOym6ert8b7vCgtP0ToxGozl3iaZXYu37aWsKCwvR6XT0iLuEE7zGGfbKZxxk+fn5JCUl+R4nJiZSWlrKqVOnKCgoICYmhoiIc4OopKQkCgoKVO9nmyq6VpeGCMO5r2Vn/1zl1NbY5t3uxupqfR/RGasLc0T131AtkQbOVDlrbWuJMFRvZ3WhKAq2KheWyOq/mFsiDFhr2U9b4sFBlfU0logwSvhfHBwG5DMONqvVWq2oRkZ6BxVVVVVUVVX5Hp+/vaqqStU+QguevdAUZr1C5XlFtMrp/bPF4PFuc1YvsJVOLWZ967t2Fm7WY610VXvOWuki3FJzylG4WU9Vlat6O7MejUaDyaKn6oL9VFW5MNeyn9bG6XSi0Wiqhd4AOPkJK3s4Y95MZWUlCud+yJHPOLjMZjOVlZW+x2f/bLFYsFgs1bad3W6xWFTtI7SxkW58tJ28U2G+x7mnwuhoctEuzEN8tJ2iSgNVznNf4/LKwoiPdtS2qxbtsthI3G4PRYUVvucO5pYRGx9Vo23PhCgO5pZVb5fgbRcbH8WhvPJqv7QfyiuvdT+ticfjoUePHthsthrbjvNXKvmcS2MN8hmrLCEhgby8PN/j3NxcOnXqRPv27YmPj+fo0aPVCm9ubi7x8fGq97NVFF2XB+xuDW6PBreiwe7W4KplgDo59jTrDkVTUG7ktEPL3/Z35MY477Wx2CgnSe3tZOzriN2tYcvRCL4rC+O6mMqaO2rhws16rpzYnTUrDnDG6mLfnlK2f1zMxCk9arS9bkpP3lmTz08lZygtOcNba/KZdGNPAIaM6IxWp+HfrxXgcLhZv9Z7fWzoqM6qvh+1ff/99+h0umpfZS8kn3HguFwu7HY7Ho8Ht9uN3W7H5XLVaDdlyhTeeecdCgoKOH36NKtWreLGG28EIC4ujr59+5KRkYHdbuejjz4iLy+PSZMmqf12WkfRfXF/R4a+lcDLOR3YWBjF0LcSeHF/R4qr9Fz+djzFVd6vgFdeauU3fU8y6+PLuDY7jm4WJ/cOPOHbz/+OPsb+kyZGrevN8m868ezYY3Qw1T8joqWav2QYDpubm0Zv5I8LdnL/0mHEJUTz7e6f+MXQ9b52KdN7ccW4btyVspnfpGxm1NVdSZneCwCDUctTGVewOfsIk5Oz+WBdIU9lXIHB2CpOqzrt37+f/v37N9hOPuPAWLVqFYMGDWL16tVs2LCBQYMGsWrVKoqLixk6dCjFxcUAXHXVVdx1113MnDmTa665hu7duzNv3jzffpYvX86+ffsYPnw4y5YtY8WKFXTo0EH199OisxdkRZp/ZEVaYKSnp1NcXMyzzz5bY5t8xoGRnJwc0hVpwTx22/nnUogA2b9/P/369Qt1N0QL1WJnLyjOMyEbcSrOM2gM4SE5dlMpipPumtCMhhTFiUbTen5tP3DgAHPmzKnxvIIzZCPO1hZ4YzKZgp6BUN+xg6nFFl2NITx0X+UMLe+rnEZjkMsxAaAoCjk5ObWOdCVUKHBsNpsE3jR3EuDiHwkJaprvv/+eqKioBpekgpyTgVQzPKj26EVFUUhPT2fkyJGMHDmS9PT0ap9lTk4OqampDB48mNTUVHJyctR6Cz6tpuhKgIt/JCSoaQ4cONDo67lyTgbO+eFB6enpLF26lPz8/Brt3nzzTbZs2UJ2djYbNmxg69atvPHGG4D3js1paWlMnjyZXbt2MXXqVNLS0qolkamhVRRdCXDxn4QENU1jp4vJORk454cHWSwWkpOTGT9+PNnZ2TXaZmVlMXv2bLp27UqXLl2YNWuWL/Tmq6++wuVycccdd2A0Gpk5cyaKorBjxw5V30+rKLoS4BI8EhJUXWNHunJOBs7Z8KC4uDjfc3WF1VwYepOUlOQbERcUFJCYmFjts0xMTFQ99KZVFF0JcAkeCQmqzp+RrpyTgXFhkA3UHVZTW+iN1WpFUZRaQ28iIiJUD71pFX87JMAleCQk6Jz6Zi5cSM7JwLkwyAbqDqsxm83VimhlZSVmsxmNRlNr6E1VVZXqoTetouhKgEvwSEjQOUePHiUiIoL27ds32FbOycCJjY3F7XZTWFjoe66usJqEhARyc3OrtUtISAAgPj6evLy8ap9lXl6e6qE3raLoSriI/yQkyH/+zFyQczJwzGYzEydOZMWKFVitVvbs2cPHH3/MlClTarSdMmUKa9asoaSkhJKSEtasWeMLvRkxYgQ6nY7XXnsNh8PB2rVrARg1apSq76dVFF2QcBF/SUiQ/w4cONCo67lnyTkZOEuWLMFmszF69GgWLFjA0qVLSUhIYPfu3QwdOtTXbvr06YwbN46UlBRSUlK4+uqrmT59OgBGo5GMjAyys7NJTk5m3bp1ZGRkYDSq+8Nviw68kdU//pEVaRfnN7/5DSNGjOCee+6ps42ck4EhgTdCCL9HukLURoquEI2gKAoHDhygb9++oe6KaOFa7OWFUKYqtcREp1Amo7XEVLYLFRUVkZyczI8//lhnm1CmqbW2JLexY8fWejskNZhMJr744oug7b/lpoxJopNfJJXt4jRmUYQkuQWOpIy1AJLo5B/5vPzjz3QxkBS3QJOUsWZIEp38I5+Xfxq7/PcsSXELLEkZa2Yk0ck/8nn5z9+RrqS4BY6kjDVDkujkH/m8/HN25kIwpotJilvDWlvKWMh+SFMUBc+PP+I+fBj3oUN4Tp0CRUETEYG+Vy90sbFoY2LQ6Br+KtVWEp1KHWf45vRPfF3+E/nWMhweN+FaPf0jOzAo6hIGR11ClL7hv5Bt5fPyl6IoeEpKqp+THg9ngDsTEoguL0eJjkajD9xfm6akuB0/02J//26S1pYypvr/PeXMGRzbtmH/4AOUykrQauGCqSHOnTu9z2u1GMePJ2z8eLT1hIy05kQnj6Lw6ckiVhZ+y57yEsK0OqxuF27OjX4++KkQk1aHQ/FwbccY7uk5iMuj616b35o/r6ZQ7HYcX37pPSfLymqckwbg0X79qEpPB8B4zTWETZiAtmPH2nfoB0lxa5ikjF0E59dfc3rhQmxvv41y8iQ4HDUKLnDueasVx4cfUvHII9g+/BDFU/vJ1loTnY6cOU3Krmzu2fsxX5Ydw6F4qHA7qxVcAOfPz9s9bj78qZDp/3mf2d9s5qSj9nmOrfXzagrn3r1ULFyI7Y03UI4fr/OcDDtbiG02HFu2ULFoEbYNG1DcF5czISluDZOUsSZQXC6qVq3C+uKLYLV6T+zGcrnA4cC+fj2VTz6Jp6KiRpPWmOi07lg+E3b8m30VJ7C6XQ2/4Gce4IzHxf+dKGLM9rfYdrK4RpvW+Hn5S3G7sb7yCtYXXvB+47LbG37RWS4XOJ3Y33uPyscf916GuLCJpLgFTGtLGQv6ijTF5aJq+XLcBw/6V2xro9OhadeOiMcfRxsVVW2y/+kyB+mP7mbP9hKi2hm5e8FArk3pwbe7f+KRu7/g/a+9H7x33ule3n/nMAC/mBbHnAcH+i6u5x84xbLH9nCk4DQ9ekfx4NOXk9Cv+qWNYC+OePXoAZ4q2InNc/FpXeFaHS8Nmsg1HS9rtZ+XvxS3G+vzz+PKybn4c1KrRRMZ6T0nO3TwLY54YW9HVu6rfvkhbcAJUnuVk/J+LBt/UcilFu8/ppm57fj7gQ7Y3BomxlSydPhxjDrvX8sfKvU8urMr354w0c3s4rHk44zuaq3Rjda2OOLC0JmysjIeffRRtm/fTrt27ViwYAEpKSns3r2bu+++m6+//ho4N0/3nXfeAWDatGk8+OCDvvP1wIEDPPbYYxQUFNC7d2+efvrpGrNSgh14E/Sia33xRZxff33xJ/dZOh3aLl2IeOIJivVLArNPPwWziGwp/Z7f7v04IAX3rHCtnuzkFKIjlwdsn/5obkX3zKuv4ti+PXDnpFaLpkMHIp9+Gs//C2u4fRC0tqJ71VVX8dlnn4Xk2C06Zcz53/8GtuACuN14Skuxb9gQuH02E6ecNubt/7+AFlwAm8fFb/d+XOvX27bGlZMT2IIL4PGglJdje+utwO2zjXvwwQdD3YWgCdrsBcVmw/ryy4E9uc9yOLB/+CFdRy5B17174PffgGAF3izO3Y7Nj+u3jaUAx+xVrC+8ift7DQv4/hs+fvMICFKcTu/vCsE4J51OHJ99huGRg+h79Qr8/hugOG1oDCbVjxssEydOZM6cOfznP/9R/djdunUL6v6DdnnB/skn2N58MzgnOIBWi2HkSMxz5gRn/yr70V7F6O1v4QjwKPd8kToD31x1O0Zt21tGCuD48kvOvPqqfz+a+Uk/ZAiW+fODtn/R8gXl8oKiKNg/+KBRBXfg22/zf8XVf2H/R34+17//fv0v9Hhw7t6NYq35o0JL9HpRDo3Np6ratI2Su5ZS/Mu5HLt5AWV/XYunsuHPwQN8cLzwYrrZotnff9+vgvv2oUNcs3Ej3deuJfHNN5n20Ud8WVJS72tc+/bhKa+ZYdFWxcbGsmXLlmrPZWZmMnbs2BD1KPSCUnQ9x4+jnFZhKahOh3Pv3uAfRwX//rEAeyNGuRVvb+b0S+uInjONbtnPccnzi3AdP0HpQ8tRnPVfmqhyO3n7WM2QkLbAU16Op54s3Au9sH8/i776it8PGsR3v/41+26+md8kJfH+97Wnsflotbj++9+L66xo1YJSdN2Fhd5VPcFmt3unorVwZ9wujtkbXoroqTpDxasbiL73FkwjBqDR69F37USHP9yDu+QE1i0NB3fsrSgNRJdbHHdhIRgad1253OHgT19/zbJRo5jcsycWgwGDVsv/xMTw1PDh9b/Y4cBVS/qVEGcFp+geOlT7SrNAU5RWcYLnVp7EpG34N03H/oMoDifhV1b/MUwbbiJsxEDs/znQ4D5OuxyUO4N3TbO5chcWNvrSwq7jx7G53dzQo+ZikUYdqxUMBETwBGX2glJW5lf72z75BN15yT9Oj4fBjVzXXl5czGsZGX4dr7kpsGhxXqoHXf1XdT2nK9FGR9QaAqTrEI0z/0jDB3O5WfHKy7R3tq55nQ0ZceQIiXUsI7/QSbudjmFh6Jv4ba2qtJRXX3ihSa9tCUaOHMnwhkb855k6dSr680KCHA4Hw4apP4umuQhO0fVzQsQ/xo/nmksvPfc4P5/XGzmCdTqdHDjQ8AivOfuxaxTuLj1BV///Dm1UBJ7yShS3u0bhdZ8sRxvdcM6qx+Ph4KGDRFS1rfX7ffz4Aa1DWBgn7HZcHk+TCq/b5aq2/r+18TerICsriwkTJvgeZ2Zm8vLLLwe6Wy1GUIqu9oL4tGDq1L07GU89pdrxguGrsh+547+bqHDXH4lo7NcLjVHPmc//g/macyMNzxkb9l37iJp9Y4PH0hkN/O9TT9PR2LJvFOmvM+vW4XjvPWjEgGB4586E6XS89/33TImN9ftYkZdcwgt/+UsTeinagqBc09XFxUGYOsshdb17q3KcYEqK6MCZRsxc0EaYiZyRQvkL/8L21T4UlwvXj6WcfOpv6Dq1xzyh4eAOk07f5gougL5nz0afk9FGI4uGDGHhjh28e+QIVpcLp8fDR0VFPN6I5aG6nj0vtruiFQvKSFe1ky4sDL3KsWzBEKU30sEQxnHHmQbbRv76erRRFspXv42r+Ce0ZhOmMUPpsOguNMaGf53vG9EhEF1ucXSxseBHDON9AwbQJTycZd9+y5zPPydCr2dIp04sGDSo/hcaDOgTEy+us6JVC8qKNMXjoWL+fG9kXjAZDET++c/1Bpy3FItyt/Gv4lxcQcwfMmv1LI4fwR0xjb/XV2uhKAoVCxd6c5yDyWAg4qmn0HWp/w7Aou0KykhXo9VinDgR+7vvgjN4t27RJyW1ioILcFdMf94+9h0uJXjLgD0o3NSt5X8zaAqNRkPY9ddjW7cuqMuAdT171llwU1JSOHbsWNCO3ZBu3brVeetyoZ6gBd4Yr7kG+3vvBWv3YDQSdsMNwdu/ynpb2jE46hJ2l5fgDsJoN0yj4+ZuCUQ04h5qrZVx7Fhs//538A4QFkbY5Ml1bj527FhQIwMbkpycHLJji3OCtmxMGxWF6de/Ds4PagYDhssvR9+nT+D3HULP9rsaoyY4YTQRegOPxo8Iyr5bCk14OOEzZ4IxCP/w6PXo+/bFMHBgo1+ydu1aUlNTGTBgAI888ki9bTMzMxkzZgzDhg1j0aJFOM7LNSkqKmLGjBkMHjyY66+/nu3btzf5bYjgC+paXeO4cehiYqARd/T1hyY8nPAZMwK6z+agR3gkjyWMILwRq9P8Ea7V8cKAcUS24VHuWYZRo7z/WDdySXCjGY2Ez57t10s6d+5MWloaN910U73tPv/8c1avXk1mZiZbt26lqKiIFStW+LYvWLCAfv36sXPnTh544AHmzZvHyWBfuxZNFtSiq9FosNx/v/euqYG6bXV4OJaHH0YT3jqnPc3s3pdfXdonYIU3XKtjcfxIruygfu5wc6TRaDDPnYu2S5fAnZNhYUQ89JDf89Ovu+46JkyYQLt27eptl5WVxbRp00hISCA6Opq0tDTWr18PwOHDh9m/fz/33XcfJpOJSZMm0adPHzZt2tTUdyOCLOipNBqLBcsf/oD20ksv7mudwYAmKoqIxx5Dd97qtdZGo9Hwxz5XcOdl/Qi/iNxbDWDS6niizxXc2QZnK9RHYzIR8eij3mlkF3P5S69HY7F49xXEaZL5+fkkJSX5HicmJlJaWsqpU6coKCggJiaGiIhzqxGTkpIoKCgIWn/ExVHlbsDaiAgiHn/c+8OX0eh/ApnRiGHECCKfeaZVF9yzNBoNixNGkDl4Ep2M4X6Pes06Pb3M0bw7fAq3dk9q+AVtkCY8HMuiRZhSU73npL+XwIxG9EOHEvnnP6NrYjBOY1mt1mpFNfLnEXVVVRVVVVW+x+dvr6pqOLVOhEbQZi9cSKPTYUpJwTB8OPb338e5c6e3+NrttS/NDAsDtxt9//6E/fKX6H++d31bMqbDpWy74lf8oziXvx3ZS6XbidPjxqHUDG4xaXVo0dDNZCGt52BSu8ZjUCNeswXTaLWEXXcdhmHDsH/4IY4vvvCekzZbjXPSoyhoTSZwu9ElJmK64Qb0Ser8g2Y2m6k8b8772T9bLBYsFku1bWe3WywWVfom/Kda0T1L17Ur5tmzUW69Fde+fbgOHcKdn49SUeE90cPD0ffuja53b/T9+6ONjla7i82KRW9gTo+B3BUzgN3lJewpP86OU8coPHMal+LBqNXRx9KeUe26MqJdV/pHNi6dTZyj7dSJ8Ntvx3TzzbgOHPCek3l53nPS48Gh1bJu927uXLoUfd++aDuou6ovISGBvLw8fvGLXwCQm5tLp06daN++PfHx8Rw9epTKykrfaDg3N5cbWtF0ytZG9aJ7lsZkwpCcjEHmDjaKVqNhxM+F9Xc9G1iKKppEExaGYehQDEOHVnve4/HwQGQk0wcOJCoqKmDHc7lcuN1uPB4Pbrcbu92OTqerFoMIMGXKFBYtWkRKSgqdO3dm1apV3HijN9woLi6Ovn37kpGRwf33389nn31GXl4ezz//fMD6KQJLvn8K0QCtVktSUhI5OTkB3e+qVasYNGgQq1evZsOGDQwaNIhVq1ZRXFzM0KFDKf753oFXXXUVd911FzNnzuSaa66he/fuzJs3z7ef5cuXs2/fPoYPH86yZctYsWIFHVQejYvGC9rdgIVoTc4WvNl+zsU9X3JycshXpIXy+MJLRrpCNEK/fv1afFi+aB6k6ArRCP3795eiKwIiZD+kCdGS9OvXj/3791/UPkwmU0hDZ0wmU8iOLc6RoitEI8TGxlJaWkpFRUWNxQiNZbPZQn5NV4SeXF4QohF0Oh2JiYkBn8FQVlbG3LlzGTJkCOPGjasz71ZRFNLT0xk5ciQjR44kPT292g1gc3JySE1NZfDgwaSmpga8nyJwpOgK0UjBuK775JNPYjAY2LZtG+np6SxdupT8Wu6E/eabb7Jlyxays7PZsGEDW7du5Y033gC8tzRPS0tj8uTJ7Nq1i6lTp5KWllYt/lE0H1J0hWikQFzXPZ/VamXz5s3Mnz8fi8VCcnIy48ePJzs7u0bbrKwsZs+eTdeuXenSpQuzZs3yJY199dVXuFwu7rjjDoxGIzNnzkRRFHbs2BGwvorAkaIrRCMFetpYYWEhOp2OuLg433N1JYRdmDSWlJTkGxEXFBSQmJiIRqPxbU9MTJSksWZKiq4QjdS/f/+Aj3TPTw+DuhPCaksas1qtKIpSa9JYRESEJI01U1J0hWikuLg4jh8/XiPVq6kuTA+DuhPCzGZztSJaWVmJ2Wz23iiglqSxqqoqSRprpqToCtFIgZ7BEBsbi9vtprCw0Pdcbm4u8fE179ickJBAbm5utXYJP8edxsfHk5eXV202Q15eXq37EaEnRVcIPwTyuq7ZbGbixImsWLECq9XKnj17+Pjjj5kyZUqNtlOmTGHNmjWUlJRQUlLCmjVrfEljI0aMQKfT8dprr+FwOFi7di0Ao0aNCkg/RWBJ0RXCD4G+rrtkyRJsNhujR49mwYIFLF26lISEBHbv3s3Q8yImp0+fzrhx40hJSSElJYWrr76a6dOnA2A0GsnIyCA7O5vk5GTWrVtHRkYGxmDc9VhcNEkZE8IPWVlZvPzyy7z77rt+vzbUKV+hPr7wkpGuEH6Q4BtxsSR7QQg/xMXF8eOPPzZpdoAE3giQoiuEX/R6vW8mweWXX+7XayXwRoBcXhDCb4H8MU0Cb9oeKbpC+CmQ08Yk8KbtkaIrhJ8CNdKVwJu2SYquEH4K1EhXAm/aJim6Qvipd+/eFBcXY7VaL2o/EnjTNknRFcJPer2ekpKSi56CJYE3bZMUXSGaICoqCq324v76SOBN2yRFV4gQkcCbtkmKrhAhJIE3bY8E3gihkttvv903Cg0FCbxpHmSkK4RKnnvuuVB3QTQDUnSFUInMJhAggTdCqMZkMmGz2bjttts4cuSI6sfv1q2b6scUNck1XSGEUJFcXhDCT7GxsWzZsqXac5mZmYwdOzZEPRItiRRdIYRQkRRdIYRQkRRdIYRQkcxeEKIJpk6dil5/7q+Pw+Fg2LBhIeyRaClkpCtEE2RlZVFWVub7b+XKlaHukmghpOgKIYSKpOgKIYSKpOgKIYSKZEWaEEKoSEa6QgihIim6QgihIim6QgihIim6QgihIim6QgihIim6QgihIim6QgihIim6QgihIim6QgihIim6QgihIim6QgihIim6QgihIim6QgihIim6QgihIim6QgihIim6QgihIim6QgihIim6QgihIim6QgihIim6QgihIim6QgihIim6QgihIim6QgihIim6QgihIim6QgihIim6QgihIim6QgihIim6QgihIim6QgihIim6QgihIim6QgihIim6QgihIim6QgihIim6QgihIim6QgihIim6QgihIim6QgihIim6QgihIim6QgihIim6QgihIim6QgihIim6QgihIim6QgihIim6QgihIim6QgihIim6QgihIim6QgihIim6QgihIim6QgihIim6QgihIim6QgihIim6QgihIim6QgihIim6QgihIim6QgihIim6QgihIim6QgihIim6Qgihov8PUuZa1yNqKFQAAAAASUVORK5CYII=\n",
      "application/papermill.record/text/plain": "<Figure size 432x288 with 1 Axes>"
     },
     "metadata": {
      "scrapbook": {
       "mime_prefix": "application/papermill.record/",
       "name": "dframe"
      }
     },
     "output_type": "display_data"
    },
    {
     "data": {
      "image/png": "[encoded data removed]",
      "text/plain": [
       "<Figure size 432x288 with 1 Axes>"
      ]
     },
     "metadata": {},
     "output_type": "display_data"
    }
   ],
   "source": [
    "from myst_nb import glue\n",
    "from moviepy.editor import VideoClip\n",
    "from moviepy.video.io.bindings import mplfig_to_npimage\n",
    "\n",
    "def draw_vector(x, y, s, v, ax, cmap, **kwargs):\n",
    "    x += s / 2\n",
    "    y += s /2 \n",
    "    for vi in v:        \n",
    "        if cmap is not None:\n",
    "            ax.add_patch(mpl.patches.Rectangle((x, y), s * 1.5, s, facecolor=cmap(vi),**kwargs))\n",
    "        else:\n",
    "            ax.add_patch(mpl.patches.Rectangle((x, y), s * 1.5, s, facecolor='#FFF', edgecolor='#333',**kwargs))\n",
    "        ax.text(x + s * 1.5 / 2, y + s/2, '{:.2f}'.format(vi), verticalalignment='center', horizontalalignment='center')\n",
    "        y += s        \n",
    "def draw_key(x, y, s, v, ax, cmap, **kwargs):    \n",
    "    x += s / 2    \n",
    "    y += s /2     \n",
    "    for vi in v:        \n",
    "        ax.add_patch(mpl.patches.Rectangle((x, y), s * 1.5, s, facecolor=cmap(1.),**kwargs))\n",
    "        ax.text(x + s * 1.5 / 2, y + s/2, vi, verticalalignment='center', horizontalalignment='center')\n",
    "        y += s\n",
    "    ax.text(x,y + s/2, 'Key:', verticalalignment='center', horizontalalignment='left')\n",
    "def draw(nodes, adj, ax, highlight=None, key=False, labels=None, mask=None, draw_nodes=None):    \n",
    "    G = nx.Graph()\n",
    "    for i in range(adj.shape[0]):\n",
    "        for j in range(adj.shape[0]):\n",
    "            if np.any(adj[i, j]):\n",
    "                G.add_edge(i, j)\n",
    "    if mask is None:\n",
    "        mask = [True] * len(G)\n",
    "    if draw_nodes is None:\n",
    "        draw_nodes = nodes\n",
    "    # go from atomic number to element\n",
    "    elements = np.argmax(draw_nodes, axis=-1)\n",
    "    el_labels = {i: list(my_elements.values())[e] for i,e in enumerate(elements)}\n",
    "    pos = nx.nx_agraph.graphviz_layout(G, prog='sfdp')\n",
    "    pos = nx.rescale_layout_dict(pos)\n",
    "    c = ['white'] * len(G)    \n",
    "    all_h = []\n",
    "    if highlight is not None:        \n",
    "        for i,h in enumerate(highlight):\n",
    "            for hj in h:\n",
    "                c[hj] = 'C{}'.format(i)                \n",
    "                all_h.append(hj)\n",
    "    nx.draw(G, ax=ax, pos=pos, labels=el_labels, node_size=700, node_color=c)\n",
    "    cmap = plt.get_cmap('Wistia')    \n",
    "    for i in range(len(G)):\n",
    "        if not mask[i]:\n",
    "            continue\n",
    "        if i in all_h:\n",
    "            draw_vector(*pos[i], 0.15, nodes[i], ax, cmap)\n",
    "        else:\n",
    "            draw_vector(*pos[i], 0.15, nodes[i], ax, None)\n",
    "    if key:\n",
    "        draw_key(-1, -1, 0.15, my_elements.values(), ax, cmap)\n",
    "    if labels is not None:\n",
    "        legend_elements = []\n",
    "        for i,l in enumerate(labels):\n",
    "            p = mpl.lines.Line2D([0], [0], marker='o', color='C{}'.format(i), label=l,\n",
    "                          markersize=15)\n",
    "            legend_elements.append(p)        \n",
    "        ax.legend(handles=legend_elements)\n",
    "    ax.set_xlim(-1.2, 1.2)\n",
    "    ax.set_ylim(-1.2, 1.2)\n",
    "    \n",
    "plt.figure()\n",
    "draw(nodes, adj, plt.gca(), highlight=[[1], [5, 0]], labels=['center', 'neighbors'])\n",
    "glue('dframe', plt.gcf(), display=False)"
   ]
  },
  {
   "cell_type": "code",
   "execution_count": 27,
   "metadata": {
    "tags": [
     "remove-cell"
    ]
   },
   "outputs": [
    {
     "name": "stdout",
     "output_type": "stream",
     "text": [
      "[0] 0 5 0\n",
      "[False, False, False, False, False, True] 5\n"
     ]
    },
    {
     "name": "stderr",
     "output_type": "stream",
     "text": [
      "\r",
      "t:   0%|          | 0/48 [00:00<?, ?it/s, now=None]"
     ]
    },
    {
     "name": "stdout",
     "output_type": "stream",
     "text": [
      "MoviePy - Building file gcn.gif with imageio.\n",
      "[0] 0 5 0.0\n",
      "[False, False, False, False, False, True] 5\n"
     ]
    },
    {
     "name": "stderr",
     "output_type": "stream",
     "text": [
      "\r",
      "t:   4%|▍         | 2/48 [00:00<00:12,  3.79it/s, now=None]"
     ]
    },
    {
     "name": "stdout",
     "output_type": "stream",
     "text": [
      "[0] 0 5 0.5\n",
      "[False, False, False, False, False, True] 5\n"
     ]
    },
    {
     "name": "stderr",
     "output_type": "stream",
     "text": [
      "\r",
      "t:   6%|▋         | 3/48 [00:01<00:15,  2.93it/s, now=None]"
     ]
    },
    {
     "name": "stdout",
     "output_type": "stream",
     "text": [
      "[0] 0 5 1.0\n",
      "[False, False, False, False, False, True] 5\n"
     ]
    },
    {
     "name": "stderr",
     "output_type": "stream",
     "text": [
      "\r",
      "t:   8%|▊         | 4/48 [00:01<00:17,  2.52it/s, now=None]"
     ]
    },
    {
     "name": "stdout",
     "output_type": "stream",
     "text": [
      "[0] 0 5 1.5\n",
      "[False, False, False, False, False, True] 5\n"
     ]
    },
    {
     "name": "stderr",
     "output_type": "stream",
     "text": [
      "\r",
      "t:  10%|█         | 5/48 [00:02<00:18,  2.30it/s, now=None]"
     ]
    },
    {
     "name": "stdout",
     "output_type": "stream",
     "text": [
      "[0] 0 1 2.0\n",
      "[False, True, False, False, False, True] 1\n"
     ]
    },
    {
     "name": "stderr",
     "output_type": "stream",
     "text": [
      "\r",
      "t:  12%|█▎        | 6/48 [00:02<00:19,  2.16it/s, now=None]"
     ]
    },
    {
     "name": "stdout",
     "output_type": "stream",
     "text": [
      "[0] 0 1 2.5\n",
      "[False, True, False, False, False, True] 1\n"
     ]
    },
    {
     "name": "stderr",
     "output_type": "stream",
     "text": [
      "\r",
      "t:  15%|█▍        | 7/48 [00:03<00:19,  2.08it/s, now=None]"
     ]
    },
    {
     "name": "stdout",
     "output_type": "stream",
     "text": [
      "[0] 0 1 3.0\n",
      "[False, True, False, False, False, True] 1\n"
     ]
    },
    {
     "name": "stderr",
     "output_type": "stream",
     "text": [
      "\r",
      "t:  17%|█▋        | 8/48 [00:03<00:19,  2.03it/s, now=None]"
     ]
    },
    {
     "name": "stdout",
     "output_type": "stream",
     "text": [
      "[0] 0 1 3.5\n",
      "[False, True, False, False, False, True] 1\n"
     ]
    },
    {
     "name": "stderr",
     "output_type": "stream",
     "text": [
      "\r",
      "t:  19%|█▉        | 9/48 [00:04<00:19,  1.98it/s, now=None]"
     ]
    },
    {
     "name": "stdout",
     "output_type": "stream",
     "text": [
      "[0] 0 0 4.0\n",
      "[True, True, False, False, False, True] 0\n"
     ]
    },
    {
     "name": "stderr",
     "output_type": "stream",
     "text": [
      "\r",
      "t:  21%|██        | 10/48 [00:04<00:19,  1.95it/s, now=None]"
     ]
    },
    {
     "name": "stdout",
     "output_type": "stream",
     "text": [
      "[0] 0 0 4.5\n",
      "[True, True, False, False, False, True] 0\n"
     ]
    },
    {
     "name": "stderr",
     "output_type": "stream",
     "text": [
      "\r",
      "t:  23%|██▎       | 11/48 [00:05<00:19,  1.92it/s, now=None]"
     ]
    },
    {
     "name": "stdout",
     "output_type": "stream",
     "text": [
      "[0] 0 0 5.0\n",
      "[True, True, False, False, False, True] 0\n"
     ]
    },
    {
     "name": "stderr",
     "output_type": "stream",
     "text": [
      "\r",
      "t:  25%|██▌       | 12/48 [00:05<00:19,  1.88it/s, now=None]"
     ]
    },
    {
     "name": "stdout",
     "output_type": "stream",
     "text": [
      "[0] 0 0 5.5\n",
      "[True, True, False, False, False, True] 0\n"
     ]
    },
    {
     "name": "stderr",
     "output_type": "stream",
     "text": [
      "\r",
      "t:  27%|██▋       | 13/48 [00:06<00:18,  1.85it/s, now=None]"
     ]
    },
    {
     "name": "stdout",
     "output_type": "stream",
     "text": [
      "[0] 0 2 6.0\n",
      "[True, True, True, False, False, True] 2\n"
     ]
    },
    {
     "name": "stderr",
     "output_type": "stream",
     "text": [
      "\r",
      "t:  29%|██▉       | 14/48 [00:07<00:20,  1.63it/s, now=None]"
     ]
    },
    {
     "name": "stdout",
     "output_type": "stream",
     "text": [
      "[0] 0 2 6.5\n",
      "[True, True, True, False, False, True] 2\n"
     ]
    },
    {
     "name": "stderr",
     "output_type": "stream",
     "text": [
      "\r",
      "t:  31%|███▏      | 15/48 [00:07<00:19,  1.66it/s, now=None]"
     ]
    },
    {
     "name": "stdout",
     "output_type": "stream",
     "text": [
      "[0] 0 2 7.0\n",
      "[True, True, True, False, False, True] 2\n"
     ]
    },
    {
     "name": "stderr",
     "output_type": "stream",
     "text": [
      "\r",
      "t:  33%|███▎      | 16/48 [00:08<00:18,  1.70it/s, now=None]"
     ]
    },
    {
     "name": "stdout",
     "output_type": "stream",
     "text": [
      "[0] 0 2 7.5\n",
      "[True, True, True, False, False, True] 2\n"
     ]
    },
    {
     "name": "stderr",
     "output_type": "stream",
     "text": [
      "\r",
      "t:  35%|███▌      | 17/48 [00:08<00:17,  1.72it/s, now=None]"
     ]
    },
    {
     "name": "stdout",
     "output_type": "stream",
     "text": [
      "[0] 0 3 8.0\n",
      "[True, True, True, True, False, True] 3\n"
     ]
    },
    {
     "name": "stderr",
     "output_type": "stream",
     "text": [
      "\r",
      "t:  38%|███▊      | 18/48 [00:09<00:17,  1.73it/s, now=None]"
     ]
    },
    {
     "name": "stdout",
     "output_type": "stream",
     "text": [
      "[0] 0 3 8.5\n",
      "[True, True, True, True, False, True] 3\n"
     ]
    },
    {
     "name": "stderr",
     "output_type": "stream",
     "text": [
      "\r",
      "t:  40%|███▉      | 19/48 [00:10<00:16,  1.74it/s, now=None]"
     ]
    },
    {
     "name": "stdout",
     "output_type": "stream",
     "text": [
      "[0] 0 3 9.0\n",
      "[True, True, True, True, False, True] 3\n"
     ]
    },
    {
     "name": "stderr",
     "output_type": "stream",
     "text": [
      "\r",
      "t:  42%|████▏     | 20/48 [00:10<00:15,  1.77it/s, now=None]"
     ]
    },
    {
     "name": "stdout",
     "output_type": "stream",
     "text": [
      "[0] 0 3 9.5\n",
      "[True, True, True, True, False, True] 3\n"
     ]
    },
    {
     "name": "stderr",
     "output_type": "stream",
     "text": [
      "\r",
      "t:  44%|████▍     | 21/48 [00:11<00:15,  1.78it/s, now=None]"
     ]
    },
    {
     "name": "stdout",
     "output_type": "stream",
     "text": [
      "[0] 0 4 10.0\n",
      "[True, True, True, True, True, True] 4\n"
     ]
    },
    {
     "name": "stderr",
     "output_type": "stream",
     "text": [
      "\r",
      "t:  46%|████▌     | 22/48 [00:11<00:14,  1.79it/s, now=None]"
     ]
    },
    {
     "name": "stdout",
     "output_type": "stream",
     "text": [
      "[0] 0 4 10.5\n",
      "[True, True, True, True, True, True] 4\n"
     ]
    },
    {
     "name": "stderr",
     "output_type": "stream",
     "text": [
      "\r",
      "t:  48%|████▊     | 23/48 [00:12<00:13,  1.80it/s, now=None]"
     ]
    },
    {
     "name": "stdout",
     "output_type": "stream",
     "text": [
      "[0] 0 4 11.0\n",
      "[True, True, True, True, True, True] 4\n"
     ]
    },
    {
     "name": "stderr",
     "output_type": "stream",
     "text": [
      "\r",
      "t:  50%|█████     | 24/48 [00:12<00:13,  1.79it/s, now=None]"
     ]
    },
    {
     "name": "stdout",
     "output_type": "stream",
     "text": [
      "[0] 0 4 11.5\n",
      "[True, True, True, True, True, True] 4\n"
     ]
    },
    {
     "name": "stderr",
     "output_type": "stream",
     "text": [
      "\r",
      "t:  52%|█████▏    | 25/48 [00:13<00:14,  1.58it/s, now=None]"
     ]
    },
    {
     "name": "stdout",
     "output_type": "stream",
     "text": [
      "recomputing\n",
      "[1] 1 5 0.0\n",
      "[False, False, False, False, False, True] 5\n"
     ]
    },
    {
     "name": "stderr",
     "output_type": "stream",
     "text": [
      "\r",
      "t:  54%|█████▍    | 26/48 [00:14<00:13,  1.60it/s, now=None]"
     ]
    },
    {
     "name": "stdout",
     "output_type": "stream",
     "text": [
      "[1] 1 5 0.5\n",
      "[False, False, False, False, False, True] 5\n"
     ]
    },
    {
     "name": "stderr",
     "output_type": "stream",
     "text": [
      "\r",
      "t:  56%|█████▋    | 27/48 [00:14<00:12,  1.64it/s, now=None]"
     ]
    },
    {
     "name": "stdout",
     "output_type": "stream",
     "text": [
      "[1] 1 5 1.0\n",
      "[False, False, False, False, False, True] 5\n"
     ]
    },
    {
     "name": "stderr",
     "output_type": "stream",
     "text": [
      "\r",
      "t:  58%|█████▊    | 28/48 [00:15<00:12,  1.64it/s, now=None]"
     ]
    },
    {
     "name": "stdout",
     "output_type": "stream",
     "text": [
      "[1] 1 5 1.5\n",
      "[False, False, False, False, False, True] 5\n"
     ]
    },
    {
     "name": "stderr",
     "output_type": "stream",
     "text": [
      "\r",
      "t:  60%|██████    | 29/48 [00:15<00:11,  1.65it/s, now=None]"
     ]
    },
    {
     "name": "stdout",
     "output_type": "stream",
     "text": [
      "[1] 1 1 2.0\n",
      "[False, True, False, False, False, True] 1\n"
     ]
    },
    {
     "name": "stderr",
     "output_type": "stream",
     "text": [
      "\r",
      "t:  62%|██████▎   | 30/48 [00:16<00:10,  1.69it/s, now=None]"
     ]
    },
    {
     "name": "stdout",
     "output_type": "stream",
     "text": [
      "[1] 1 1 2.5\n",
      "[False, True, False, False, False, True] 1\n"
     ]
    },
    {
     "name": "stderr",
     "output_type": "stream",
     "text": [
      "\r",
      "t:  65%|██████▍   | 31/48 [00:17<00:09,  1.72it/s, now=None]"
     ]
    },
    {
     "name": "stdout",
     "output_type": "stream",
     "text": [
      "[1] 1 1 3.0\n",
      "[False, True, False, False, False, True] 1\n"
     ]
    },
    {
     "name": "stderr",
     "output_type": "stream",
     "text": [
      "\r",
      "t:  67%|██████▋   | 32/48 [00:17<00:09,  1.73it/s, now=None]"
     ]
    },
    {
     "name": "stdout",
     "output_type": "stream",
     "text": [
      "[1] 1 1 3.5\n",
      "[False, True, False, False, False, True] 1\n"
     ]
    },
    {
     "name": "stderr",
     "output_type": "stream",
     "text": [
      "\r",
      "t:  69%|██████▉   | 33/48 [00:18<00:08,  1.73it/s, now=None]"
     ]
    },
    {
     "name": "stdout",
     "output_type": "stream",
     "text": [
      "[1] 1 0 4.0\n",
      "[True, True, False, False, False, True] 0\n"
     ]
    },
    {
     "name": "stderr",
     "output_type": "stream",
     "text": [
      "\r",
      "t:  71%|███████   | 34/48 [00:18<00:08,  1.70it/s, now=None]"
     ]
    },
    {
     "name": "stdout",
     "output_type": "stream",
     "text": [
      "[1] 1 0 4.5\n",
      "[True, True, False, False, False, True] 0\n"
     ]
    },
    {
     "name": "stderr",
     "output_type": "stream",
     "text": [
      "\r",
      "t:  73%|███████▎  | 35/48 [00:19<00:07,  1.66it/s, now=None]"
     ]
    },
    {
     "name": "stdout",
     "output_type": "stream",
     "text": [
      "[1] 1 0 5.0\n",
      "[True, True, False, False, False, True] 0\n"
     ]
    },
    {
     "name": "stderr",
     "output_type": "stream",
     "text": [
      "\r",
      "t:  75%|███████▌  | 36/48 [00:20<00:07,  1.61it/s, now=None]"
     ]
    },
    {
     "name": "stdout",
     "output_type": "stream",
     "text": [
      "[1] 1 0 5.5\n",
      "[True, True, False, False, False, True] 0\n"
     ]
    },
    {
     "name": "stderr",
     "output_type": "stream",
     "text": [
      "\r",
      "t:  77%|███████▋  | 37/48 [00:20<00:06,  1.62it/s, now=None]"
     ]
    },
    {
     "name": "stdout",
     "output_type": "stream",
     "text": [
      "[1] 1 2 6.0\n",
      "[True, True, True, False, False, True] 2\n"
     ]
    },
    {
     "name": "stderr",
     "output_type": "stream",
     "text": [
      "\r",
      "t:  79%|███████▉  | 38/48 [00:21<00:06,  1.66it/s, now=None]"
     ]
    },
    {
     "name": "stdout",
     "output_type": "stream",
     "text": [
      "[1] 1 2 6.5\n",
      "[True, True, True, False, False, True] 2\n"
     ]
    },
    {
     "name": "stderr",
     "output_type": "stream",
     "text": [
      "\r",
      "t:  81%|████████▏ | 39/48 [00:22<00:06,  1.46it/s, now=None]"
     ]
    },
    {
     "name": "stdout",
     "output_type": "stream",
     "text": [
      "[1] 1 2 7.0\n",
      "[True, True, True, False, False, True] 2\n"
     ]
    },
    {
     "name": "stderr",
     "output_type": "stream",
     "text": [
      "\r",
      "t:  83%|████████▎ | 40/48 [00:22<00:05,  1.50it/s, now=None]"
     ]
    },
    {
     "name": "stdout",
     "output_type": "stream",
     "text": [
      "[1] 1 2 7.5\n",
      "[True, True, True, False, False, True] 2\n"
     ]
    },
    {
     "name": "stderr",
     "output_type": "stream",
     "text": [
      "\r",
      "t:  85%|████████▌ | 41/48 [00:23<00:04,  1.56it/s, now=None]"
     ]
    },
    {
     "name": "stdout",
     "output_type": "stream",
     "text": [
      "[1] 1 3 8.0\n",
      "[True, True, True, True, False, True] 3\n"
     ]
    },
    {
     "name": "stderr",
     "output_type": "stream",
     "text": [
      "\r",
      "t:  88%|████████▊ | 42/48 [00:23<00:03,  1.61it/s, now=None]"
     ]
    },
    {
     "name": "stdout",
     "output_type": "stream",
     "text": [
      "[1] 1 3 8.5\n",
      "[True, True, True, True, False, True] 3\n"
     ]
    },
    {
     "name": "stderr",
     "output_type": "stream",
     "text": [
      "\r",
      "t:  90%|████████▉ | 43/48 [00:24<00:03,  1.64it/s, now=None]"
     ]
    },
    {
     "name": "stdout",
     "output_type": "stream",
     "text": [
      "[1] 1 3 9.0\n",
      "[True, True, True, True, False, True] 3\n"
     ]
    },
    {
     "name": "stderr",
     "output_type": "stream",
     "text": [
      "\r",
      "t:  92%|█████████▏| 44/48 [00:25<00:02,  1.67it/s, now=None]"
     ]
    },
    {
     "name": "stdout",
     "output_type": "stream",
     "text": [
      "[1] 1 3 9.5\n",
      "[True, True, True, True, False, True] 3\n"
     ]
    },
    {
     "name": "stderr",
     "output_type": "stream",
     "text": [
      "\r",
      "t:  94%|█████████▍| 45/48 [00:25<00:01,  1.68it/s, now=None]"
     ]
    },
    {
     "name": "stdout",
     "output_type": "stream",
     "text": [
      "[1] 1 4 10.0\n",
      "[True, True, True, True, True, True] 4\n"
     ]
    },
    {
     "name": "stderr",
     "output_type": "stream",
     "text": [
      "\r",
      "t:  96%|█████████▌| 46/48 [00:26<00:01,  1.68it/s, now=None]"
     ]
    },
    {
     "name": "stdout",
     "output_type": "stream",
     "text": [
      "[1] 1 4 10.5\n",
      "[True, True, True, True, True, True] 4\n"
     ]
    },
    {
     "name": "stderr",
     "output_type": "stream",
     "text": [
      "\r",
      "t:  98%|█████████▊| 47/48 [00:26<00:00,  1.70it/s, now=None]"
     ]
    },
    {
     "name": "stdout",
     "output_type": "stream",
     "text": [
      "[1] 1 4 11.0\n",
      "[True, True, True, True, True, True] 4\n"
     ]
    },
    {
     "name": "stderr",
     "output_type": "stream",
     "text": [
      "\r",
      "t: 100%|██████████| 48/48 [00:27<00:00,  1.69it/s, now=None]"
     ]
    },
    {
     "name": "stdout",
     "output_type": "stream",
     "text": [
      "[1] 1 4 11.5\n",
      "[True, True, True, True, True, True] 4\n"
     ]
    },
    {
     "name": "stderr",
     "output_type": "stream",
     "text": [
      "                                                            \r"
     ]
    },
    {
     "data": {
      "image/png": "[encoded data removed]",
      "text/plain": [
       "<Figure size 864x288 with 2 Axes>"
      ]
     },
     "metadata": {},
     "output_type": "display_data"
    }
   ],
   "source": [
    "fig, axs = plt.subplots(1,2, squeeze=True, figsize=(12, 4))\n",
    "order = [5, 1, 0, 2, 3, 4]\n",
    "time_per_node = 2\n",
    "last_layer = [0]\n",
    "layers = 2\n",
    "input_nodes = np.copy(nodes)\n",
    "def make_frame(t):\n",
    "    axs[0].clear()\n",
    "    axs[1].clear()    \n",
    "    \n",
    "    layer_i = int(t / (time_per_node * len(order)))\n",
    "    axs[0].set_title(f'Layer {layer_i + 1} Input')\n",
    "    axs[1].set_title(f'Layer {layer_i + 1} Output')    \n",
    "\n",
    "    flat_adj = np.sum(adj, axis=-1)\n",
    "    out_nodes = np.einsum('i,ij,jk->ik', 1/(np.sum(flat_adj, axis=1) + 1), flat_adj + np.eye(*flat_adj.shape), nodes)\n",
    "    \n",
    "        \n",
    "    if last_layer[0] != layer_i:\n",
    "        print('recomputing')\n",
    "        nodes[:] = out_nodes\n",
    "        last_layer[0] = layer_i\n",
    "        \n",
    "        \n",
    "    t -= layer_i * time_per_node * len(order)\n",
    "    i = order[int(t / time_per_node)]    \n",
    "    print(last_layer, layer_i, i, t)\n",
    "    mask = [False] * nodes.shape[0]\n",
    "    for j in order[:int(t / time_per_node) + 1]:\n",
    "        mask[j] = True    \n",
    "    print(mask, i)\n",
    "    neighs = list(np.where(adj[i])[0])\n",
    "    if (t - int(t / time_per_node) * time_per_node) >= time_per_node / 4:\n",
    "        draw(nodes, adj, axs[0], highlight=[[i], neighs], labels=['center', 'neighbors'], draw_nodes=input_nodes)    \n",
    "    else:\n",
    "        draw(nodes, adj, axs[0], highlight=[[i]], labels=['center', 'neighbors'], draw_nodes=input_nodes)    \n",
    "    if (t - int(t / time_per_node) * time_per_node) < time_per_node / 2:\n",
    "        mask[j] = False            \n",
    "    draw(out_nodes, adj, axs[1], highlight=[[i]], key=True, mask=mask, draw_nodes=input_nodes)\n",
    "    return mplfig_to_npimage(fig)\n",
    "\n",
    "animation = VideoClip(make_frame, duration=time_per_node * nodes.shape[0] * layers)\n",
    "\n",
    "animation.write_gif('gcn.gif', fps=2)"
   ]
  },
  {
   "cell_type": "markdown",
   "metadata": {},
   "source": [
    "```{glue:figure} dframe\n",
    "----\n",
    "name: dframe\n",
    "----\n",
    "Intermediate step of the graph convolution layer. The center node is being updated by averaging its neighbors features.\n",
    "```\n",
    "\n",
    "\n",
    "```{figure} ./gcn.gif\n",
    "----\n",
    "name: gcnanim\n",
    "----\n",
    "Animation of the graph convolution layer. The left is input, right is output node features. Note that two layers are shown (see title change).\n",
    "```\n",
    "\n",
    "To help understand the GCN layer, look at {numref}`dframe`. It shows an intermediate step of the GCN layer. Each node feature is represented here as a one-hot encoded vector at input. The animation in {numref}`gcnanim` shows the averaging process over neighbor features.  To make this animation easy to follow, the trainable weights and activation functions are not considered. Note that the animation repeats for a second layer. Watch how the \"information\" about there being an oxygen atom in the molecule is propogated only after two layers to each atom. All GNNs operate with similair approaches, so try to understand how this animation works. \n",
    "\n",
    "\n",
    "### GCN Implementation\n",
    "\n",
    "Let's now create a tensor implementation of the GCN. We'll skip the activation and trainable weights for now.\n",
    "We must first compute our rank 2 adjacency matrix. The `smiles2graph` code above computes an adjacency tensor with feature vectors. We can fix that with a simple reduction and add the identity at the same time\n"
   ]
  },
  {
   "cell_type": "code",
   "execution_count": 33,
   "metadata": {},
   "outputs": [
    {
     "data": {
      "text/plain": [
       "array([[1., 1., 1., 1., 1., 0.],\n",
       "       [1., 1., 0., 0., 0., 1.],\n",
       "       [1., 0., 1., 0., 0., 0.],\n",
       "       [1., 0., 0., 1., 0., 0.],\n",
       "       [1., 0., 0., 0., 1., 0.],\n",
       "       [0., 1., 0., 0., 0., 1.]])"
      ]
     },
     "execution_count": 33,
     "metadata": {},
     "output_type": "execute_result"
    }
   ],
   "source": [
    "nodes, adj = smiles2graph('CO')\n",
    "adj_mat = np.sum(adj, axis=-1) + np.eye(adj.shape[0])\n",
    "adj_mat"
   ]
  },
  {
   "cell_type": "markdown",
   "metadata": {},
   "source": [
    "To compute degree of each node, we can do another reduction:"
   ]
  },
  {
   "cell_type": "code",
   "execution_count": 32,
   "metadata": {},
   "outputs": [
    {
     "data": {
      "text/plain": [
       "array([5., 3., 2., 2., 2., 2.])"
      ]
     },
     "execution_count": 32,
     "metadata": {},
     "output_type": "execute_result"
    }
   ],
   "source": [
    "degree = np.sum(adj_mat, axis=-1)\n",
    "degree"
   ]
  },
  {
   "cell_type": "markdown",
   "metadata": {},
   "source": [
    "Now we can put all these pieces together into the Einstein equation"
   ]
  },
  {
   "cell_type": "code",
   "execution_count": 35,
   "metadata": {},
   "outputs": [
    {
     "name": "stdout",
     "output_type": "stream",
     "text": [
      "[1. 0. 0.]\n",
      "[0.2 0.2 0.6]\n"
     ]
    }
   ],
   "source": [
    "print(nodes[0])\n",
    "# note to divide by degree, make the input 1 / degree\n",
    "new_nodes = np.einsum('i,ij,jk->ik', 1 / degree, adj_mat, nodes)\n",
    "print(new_nodes[0])"
   ]
  },
  {
   "cell_type": "markdown",
   "metadata": {},
   "source": [
    "To now implement this as a layer in Keras, we must put this code above into a new Layer subclass. The code is relatively straightforward, but you can read-up on the function names and Layer class in [this tutorial](https://keras.io/guides/making_new_layers_and_models_via_subclassing/). The three main changes are that we create trainable parameters `self.w` and use them in the `einsum`, we use an activation `self.activation`, and we output both our new node features and the adjacency matrix. The reason to output the adjacency matrix is so that we can stack multiple GCN layers without having to pass the adjacency matrix each time. "
   ]
  },
  {
   "cell_type": "code",
   "execution_count": 203,
   "metadata": {},
   "outputs": [],
   "source": [
    "class GCNLayer(tf.keras.layers.Layer):\n",
    "    '''Implementation of GCN as layer'''\n",
    "    def __init__(self, activation=None,**kwargs):\n",
    "        # constructor, which just calls super constructor\n",
    "        # and turns requested activation into a callable function\n",
    "        super(GCNLayer, self).__init__(**kwargs)\n",
    "        self.activation = tf.keras.activations.get(activation)\n",
    "    \n",
    "    def build(self, input_shape):\n",
    "        # create trainable weights\n",
    "        node_shape, adj_shape = input_shape\n",
    "        print(node_shape)\n",
    "        self.w = self.add_weight(shape=(node_shape[1], node_shape[1]),\n",
    "                                name='w')\n",
    "        \n",
    "    def call(self, inputs):\n",
    "        # split input into nodes, adj\n",
    "        nodes, adj = inputs \n",
    "        print(inputs)\n",
    "        tf.print(nodes.shape)\n",
    "        # compute degree\n",
    "        degree = tf.reduce_sum(adj, axis=-1)\n",
    "        # GCN equation\n",
    "        new_nodes = tf.einsum('i,ij,jk,kl->il', 1 / degree, adj, nodes, self.w)\n",
    "        out = self.activation(new_nodes)\n",
    "        return out, adj"
   ]
  },
  {
   "cell_type": "markdown",
   "metadata": {},
   "source": [
    "We can now try our our layer:"
   ]
  },
  {
   "cell_type": "code",
   "execution_count": 204,
   "metadata": {},
   "outputs": [
    {
     "name": "stdout",
     "output_type": "stream",
     "text": [
      "WARNING:tensorflow:Layer gcn_layer_83 is casting an input tensor from dtype float64 to the layer's dtype of float32, which is new behavior in TensorFlow 2.  The layer has dtype float32 because its dtype defaults to floatx.\n",
      "\n",
      "If you intended to run this layer in float32, you can safely ignore this warning. If in doubt, this warning is likely only an issue if you are porting a TensorFlow 1.X model to TensorFlow 2.\n",
      "\n",
      "To change all layers to have dtype float64 by default, call `tf.keras.backend.set_floatx('float64')`. To change just this layer, pass dtype='float64' to the layer constructor. If you are the author of this layer, you can disable autocasting by passing autocast=False to the base Layer constructor.\n",
      "\n",
      "(6, 100)\n",
      "(<tf.Tensor: shape=(6, 100), dtype=float32, numpy=\n",
      "array([[0., 0., 0., 0., 0., 0., 1., 0., 0., 0., 0., 0., 0., 0., 0., 0.,\n",
      "        0., 0., 0., 0., 0., 0., 0., 0., 0., 0., 0., 0., 0., 0., 0., 0.,\n",
      "        0., 0., 0., 0., 0., 0., 0., 0., 0., 0., 0., 0., 0., 0., 0., 0.,\n",
      "        0., 0., 0., 0., 0., 0., 0., 0., 0., 0., 0., 0., 0., 0., 0., 0.,\n",
      "        0., 0., 0., 0., 0., 0., 0., 0., 0., 0., 0., 0., 0., 0., 0., 0.,\n",
      "        0., 0., 0., 0., 0., 0., 0., 0., 0., 0., 0., 0., 0., 0., 0., 0.,\n",
      "        0., 0., 0., 0.],\n",
      "       [0., 0., 0., 0., 0., 0., 0., 0., 1., 0., 0., 0., 0., 0., 0., 0.,\n",
      "        0., 0., 0., 0., 0., 0., 0., 0., 0., 0., 0., 0., 0., 0., 0., 0.,\n",
      "        0., 0., 0., 0., 0., 0., 0., 0., 0., 0., 0., 0., 0., 0., 0., 0.,\n",
      "        0., 0., 0., 0., 0., 0., 0., 0., 0., 0., 0., 0., 0., 0., 0., 0.,\n",
      "        0., 0., 0., 0., 0., 0., 0., 0., 0., 0., 0., 0., 0., 0., 0., 0.,\n",
      "        0., 0., 0., 0., 0., 0., 0., 0., 0., 0., 0., 0., 0., 0., 0., 0.,\n",
      "        0., 0., 0., 0.],\n",
      "       [0., 1., 0., 0., 0., 0., 0., 0., 0., 0., 0., 0., 0., 0., 0., 0.,\n",
      "        0., 0., 0., 0., 0., 0., 0., 0., 0., 0., 0., 0., 0., 0., 0., 0.,\n",
      "        0., 0., 0., 0., 0., 0., 0., 0., 0., 0., 0., 0., 0., 0., 0., 0.,\n",
      "        0., 0., 0., 0., 0., 0., 0., 0., 0., 0., 0., 0., 0., 0., 0., 0.,\n",
      "        0., 0., 0., 0., 0., 0., 0., 0., 0., 0., 0., 0., 0., 0., 0., 0.,\n",
      "        0., 0., 0., 0., 0., 0., 0., 0., 0., 0., 0., 0., 0., 0., 0., 0.,\n",
      "        0., 0., 0., 0.],\n",
      "       [0., 1., 0., 0., 0., 0., 0., 0., 0., 0., 0., 0., 0., 0., 0., 0.,\n",
      "        0., 0., 0., 0., 0., 0., 0., 0., 0., 0., 0., 0., 0., 0., 0., 0.,\n",
      "        0., 0., 0., 0., 0., 0., 0., 0., 0., 0., 0., 0., 0., 0., 0., 0.,\n",
      "        0., 0., 0., 0., 0., 0., 0., 0., 0., 0., 0., 0., 0., 0., 0., 0.,\n",
      "        0., 0., 0., 0., 0., 0., 0., 0., 0., 0., 0., 0., 0., 0., 0., 0.,\n",
      "        0., 0., 0., 0., 0., 0., 0., 0., 0., 0., 0., 0., 0., 0., 0., 0.,\n",
      "        0., 0., 0., 0.],\n",
      "       [0., 1., 0., 0., 0., 0., 0., 0., 0., 0., 0., 0., 0., 0., 0., 0.,\n",
      "        0., 0., 0., 0., 0., 0., 0., 0., 0., 0., 0., 0., 0., 0., 0., 0.,\n",
      "        0., 0., 0., 0., 0., 0., 0., 0., 0., 0., 0., 0., 0., 0., 0., 0.,\n",
      "        0., 0., 0., 0., 0., 0., 0., 0., 0., 0., 0., 0., 0., 0., 0., 0.,\n",
      "        0., 0., 0., 0., 0., 0., 0., 0., 0., 0., 0., 0., 0., 0., 0., 0.,\n",
      "        0., 0., 0., 0., 0., 0., 0., 0., 0., 0., 0., 0., 0., 0., 0., 0.,\n",
      "        0., 0., 0., 0.],\n",
      "       [0., 1., 0., 0., 0., 0., 0., 0., 0., 0., 0., 0., 0., 0., 0., 0.,\n",
      "        0., 0., 0., 0., 0., 0., 0., 0., 0., 0., 0., 0., 0., 0., 0., 0.,\n",
      "        0., 0., 0., 0., 0., 0., 0., 0., 0., 0., 0., 0., 0., 0., 0., 0.,\n",
      "        0., 0., 0., 0., 0., 0., 0., 0., 0., 0., 0., 0., 0., 0., 0., 0.,\n",
      "        0., 0., 0., 0., 0., 0., 0., 0., 0., 0., 0., 0., 0., 0., 0., 0.,\n",
      "        0., 0., 0., 0., 0., 0., 0., 0., 0., 0., 0., 0., 0., 0., 0., 0.,\n",
      "        0., 0., 0., 0.]], dtype=float32)>, <tf.Tensor: shape=(6, 6), dtype=float32, numpy=\n",
      "array([[1., 1., 1., 1., 1., 0.],\n",
      "       [1., 1., 0., 0., 0., 1.],\n",
      "       [1., 0., 1., 0., 0., 0.],\n",
      "       [1., 0., 0., 1., 0., 0.],\n",
      "       [1., 0., 0., 0., 1., 0.],\n",
      "       [0., 1., 0., 0., 0., 1.]], dtype=float32)>)\n",
      "TensorShape([6, 100])\n"
     ]
    },
    {
     "data": {
      "text/plain": [
       "(<tf.Tensor: shape=(6, 100), dtype=float32, numpy=\n",
       " array([[0.02941536, 0.        , 0.        , 0.04078373, 0.        ,\n",
       "         0.07009783, 0.        , 0.01969463, 0.        , 0.06484056,\n",
       "         0.02404069, 0.11943706, 0.        , 0.02303447, 0.        ,\n",
       "         0.        , 0.07462262, 0.        , 0.        , 0.        ,\n",
       "         0.00236331, 0.        , 0.01863228, 0.08786516, 0.10768249,\n",
       "         0.        , 0.05453076, 0.01734958, 0.03943511, 0.        ,\n",
       "         0.        , 0.09943222, 0.        , 0.07867038, 0.        ,\n",
       "         0.        , 0.00390132, 0.        , 0.05327757, 0.08313295,\n",
       "         0.        , 0.07930585, 0.02890965, 0.04306841, 0.        ,\n",
       "         0.        , 0.11955066, 0.02105653, 0.        , 0.        ,\n",
       "         0.        , 0.        , 0.00250089, 0.        , 0.        ,\n",
       "         0.        , 0.        , 0.        , 0.        , 0.        ,\n",
       "         0.00670405, 0.        , 0.        , 0.        , 0.        ,\n",
       "         0.02924771, 0.        , 0.        , 0.        , 0.        ,\n",
       "         0.        , 0.03578609, 0.        , 0.        , 0.04215167,\n",
       "         0.0561007 , 0.        , 0.        , 0.0832867 , 0.        ,\n",
       "         0.        , 0.        , 0.09186063, 0.01728042, 0.00788409,\n",
       "         0.        , 0.        , 0.00220828, 0.03819194, 0.        ,\n",
       "         0.        , 0.10586331, 0.        , 0.        , 0.        ,\n",
       "         0.        , 0.        , 0.05886503, 0.02171505, 0.08933407],\n",
       "        [0.02397848, 0.        , 0.        , 0.03180617, 0.00285096,\n",
       "         0.00227307, 0.        , 0.0386356 , 0.        , 0.037289  ,\n",
       "         0.        , 0.11304434, 0.        , 0.        , 0.03512179,\n",
       "         0.        , 0.04447311, 0.        , 0.        , 0.02271605,\n",
       "         0.        , 0.        , 0.04051074, 0.07139541, 0.06838328,\n",
       "         0.        , 0.01424453, 0.        , 0.07670677, 0.        ,\n",
       "         0.        , 0.09171837, 0.        , 0.09034407, 0.        ,\n",
       "         0.        , 0.04997809, 0.        , 0.01654789, 0.03120429,\n",
       "         0.        , 0.07092245, 0.07048462, 0.03268294, 0.        ,\n",
       "         0.        , 0.1248063 , 0.04087969, 0.        , 0.        ,\n",
       "         0.        , 0.        , 0.        , 0.        , 0.        ,\n",
       "         0.        , 0.04027573, 0.        , 0.        , 0.02965807,\n",
       "         0.00789624, 0.00616774, 0.        , 0.        , 0.        ,\n",
       "         0.02638557, 0.        , 0.        , 0.02361628, 0.03153595,\n",
       "         0.        , 0.        , 0.        , 0.        , 0.05411819,\n",
       "         0.04375938, 0.        , 0.        , 0.05323562, 0.        ,\n",
       "         0.        , 0.        , 0.06232568, 0.        , 0.        ,\n",
       "         0.        , 0.00414082, 0.        , 0.04593311, 0.        ,\n",
       "         0.        , 0.06796256, 0.        , 0.        , 0.        ,\n",
       "         0.        , 0.        , 0.04906344, 0.0232055 , 0.10323709],\n",
       "        [0.05150314, 0.        , 0.        , 0.08648331, 0.02356013,\n",
       "         0.07044543, 0.        , 0.05495591, 0.        , 0.01101934,\n",
       "         0.00149907, 0.12772664, 0.00381843, 0.03307597, 0.        ,\n",
       "         0.        , 0.08065916, 0.        , 0.        , 0.05167835,\n",
       "         0.        , 0.        , 0.07810642, 0.10005608, 0.07759663,\n",
       "         0.        , 0.        , 0.        , 0.06102264, 0.        ,\n",
       "         0.        , 0.09206979, 0.        , 0.08878153, 0.        ,\n",
       "         0.        , 0.        , 0.        , 0.03988973, 0.04632184,\n",
       "         0.        , 0.09583898, 0.05682153, 0.06975477, 0.        ,\n",
       "         0.        , 0.11463907, 0.06523237, 0.        , 0.        ,\n",
       "         0.07441147, 0.        , 0.        , 0.        , 0.07083564,\n",
       "         0.        , 0.        , 0.        , 0.        , 0.        ,\n",
       "         0.        , 0.        , 0.        , 0.        , 0.        ,\n",
       "         0.07512905, 0.        , 0.06547946, 0.0111058 , 0.        ,\n",
       "         0.        , 0.01930296, 0.        , 0.        , 0.        ,\n",
       "         0.12030437, 0.        , 0.        , 0.12948072, 0.        ,\n",
       "         0.        , 0.        , 0.0394409 , 0.02784908, 0.        ,\n",
       "         0.        , 0.        , 0.        , 0.00968813, 0.        ,\n",
       "         0.        , 0.10268918, 0.        , 0.        , 0.        ,\n",
       "         0.        , 0.        , 0.06972355, 0.07490946, 0.10965275],\n",
       "        [0.05150314, 0.        , 0.        , 0.08648331, 0.02356013,\n",
       "         0.07044543, 0.        , 0.05495591, 0.        , 0.01101934,\n",
       "         0.00149907, 0.12772664, 0.00381843, 0.03307597, 0.        ,\n",
       "         0.        , 0.08065916, 0.        , 0.        , 0.05167835,\n",
       "         0.        , 0.        , 0.07810642, 0.10005608, 0.07759663,\n",
       "         0.        , 0.        , 0.        , 0.06102264, 0.        ,\n",
       "         0.        , 0.09206979, 0.        , 0.08878153, 0.        ,\n",
       "         0.        , 0.        , 0.        , 0.03988973, 0.04632184,\n",
       "         0.        , 0.09583898, 0.05682153, 0.06975477, 0.        ,\n",
       "         0.        , 0.11463907, 0.06523237, 0.        , 0.        ,\n",
       "         0.07441147, 0.        , 0.        , 0.        , 0.07083564,\n",
       "         0.        , 0.        , 0.        , 0.        , 0.        ,\n",
       "         0.        , 0.        , 0.        , 0.        , 0.        ,\n",
       "         0.07512905, 0.        , 0.06547946, 0.0111058 , 0.        ,\n",
       "         0.        , 0.01930296, 0.        , 0.        , 0.        ,\n",
       "         0.12030437, 0.        , 0.        , 0.12948072, 0.        ,\n",
       "         0.        , 0.        , 0.0394409 , 0.02784908, 0.        ,\n",
       "         0.        , 0.        , 0.        , 0.00968813, 0.        ,\n",
       "         0.        , 0.10268918, 0.        , 0.        , 0.        ,\n",
       "         0.        , 0.        , 0.06972355, 0.07490946, 0.10965275],\n",
       "        [0.05150314, 0.        , 0.        , 0.08648331, 0.02356013,\n",
       "         0.07044543, 0.        , 0.05495591, 0.        , 0.01101934,\n",
       "         0.00149907, 0.12772664, 0.00381843, 0.03307597, 0.        ,\n",
       "         0.        , 0.08065916, 0.        , 0.        , 0.05167835,\n",
       "         0.        , 0.        , 0.07810642, 0.10005608, 0.07759663,\n",
       "         0.        , 0.        , 0.        , 0.06102264, 0.        ,\n",
       "         0.        , 0.09206979, 0.        , 0.08878153, 0.        ,\n",
       "         0.        , 0.        , 0.        , 0.03988973, 0.04632184,\n",
       "         0.        , 0.09583898, 0.05682153, 0.06975477, 0.        ,\n",
       "         0.        , 0.11463907, 0.06523237, 0.        , 0.        ,\n",
       "         0.07441147, 0.        , 0.        , 0.        , 0.07083564,\n",
       "         0.        , 0.        , 0.        , 0.        , 0.        ,\n",
       "         0.        , 0.        , 0.        , 0.        , 0.        ,\n",
       "         0.07512905, 0.        , 0.06547946, 0.0111058 , 0.        ,\n",
       "         0.        , 0.01930296, 0.        , 0.        , 0.        ,\n",
       "         0.12030437, 0.        , 0.        , 0.12948072, 0.        ,\n",
       "         0.        , 0.        , 0.0394409 , 0.02784908, 0.        ,\n",
       "         0.        , 0.        , 0.        , 0.00968813, 0.        ,\n",
       "         0.        , 0.10268918, 0.        , 0.        , 0.        ,\n",
       "         0.        , 0.        , 0.06972355, 0.07490946, 0.10965275],\n",
       "        [0.00324992, 0.        , 0.        , 0.        , 0.        ,\n",
       "         0.01888166, 0.        , 0.        , 0.        , 0.0979981 ,\n",
       "         0.00343931, 0.10635294, 0.        , 0.        , 0.03179269,\n",
       "         0.        , 0.04597395, 0.        , 0.        , 0.        ,\n",
       "         0.00386982, 0.        , 0.        , 0.06332192, 0.10829395,\n",
       "         0.00604604, 0.08259838, 0.01258365, 0.04580133, 0.        ,\n",
       "         0.        , 0.10100925, 0.        , 0.0773145 , 0.        ,\n",
       "         0.04244602, 0.04488986, 0.02551366, 0.03911815, 0.08099757,\n",
       "         0.        , 0.05648517, 0.03217899, 0.00859293, 0.        ,\n",
       "         0.        , 0.12840398, 0.        , 0.        , 0.01308756,\n",
       "         0.        , 0.        , 0.08077885, 0.        , 0.        ,\n",
       "         0.        , 0.        , 0.        , 0.        , 0.01511466,\n",
       "         0.08836349, 0.        , 0.        , 0.        , 0.        ,\n",
       "         0.        , 0.        , 0.        , 0.00533329, 0.03682646,\n",
       "         0.        , 0.02048756, 0.        , 0.        , 0.09402475,\n",
       "         0.        , 0.        , 0.01673195, 0.01455437, 0.        ,\n",
       "         0.01703791, 0.        , 0.12212914, 0.        , 0.03566428,\n",
       "         0.        , 0.        , 0.03331825, 0.07250161, 0.        ,\n",
       "         0.04312316, 0.08061187, 0.05173425, 0.02222201, 0.        ,\n",
       "         0.        , 0.        , 0.04065531, 0.        , 0.07944266]],\n",
       "       dtype=float32)>,\n",
       " <tf.Tensor: shape=(6, 6), dtype=float32, numpy=\n",
       " array([[1., 1., 1., 1., 1., 0.],\n",
       "        [1., 1., 0., 0., 0., 1.],\n",
       "        [1., 0., 1., 0., 0., 0.],\n",
       "        [1., 0., 0., 1., 0., 0.],\n",
       "        [1., 0., 0., 0., 1., 0.],\n",
       "        [0., 1., 0., 0., 0., 1.]], dtype=float32)>)"
      ]
     },
     "execution_count": 204,
     "metadata": {},
     "output_type": "execute_result"
    }
   ],
   "source": [
    "gcnlayer = GCNLayer('relu')\n",
    "# this step is normally done for us when \n",
    "# using a model, so do not worry about understanding it\n",
    "gcnlayer((nodes, adj_mat))"
   ]
  },
  {
   "cell_type": "markdown",
   "metadata": {},
   "source": [
    "It outputs (1) the new node features and (2) the adjacency matrix. Let's make sure we can stack these and apply the GCN multiple times"
   ]
  },
  {
   "cell_type": "code",
   "execution_count": 205,
   "metadata": {},
   "outputs": [
    {
     "name": "stdout",
     "output_type": "stream",
     "text": [
      "(<tf.Tensor: shape=(6, 100), dtype=float32, numpy=\n",
      "array([[0., 0., 0., 0., 0., 0., 1., 0., 0., 0., 0., 0., 0., 0., 0., 0.,\n",
      "        0., 0., 0., 0., 0., 0., 0., 0., 0., 0., 0., 0., 0., 0., 0., 0.,\n",
      "        0., 0., 0., 0., 0., 0., 0., 0., 0., 0., 0., 0., 0., 0., 0., 0.,\n",
      "        0., 0., 0., 0., 0., 0., 0., 0., 0., 0., 0., 0., 0., 0., 0., 0.,\n",
      "        0., 0., 0., 0., 0., 0., 0., 0., 0., 0., 0., 0., 0., 0., 0., 0.,\n",
      "        0., 0., 0., 0., 0., 0., 0., 0., 0., 0., 0., 0., 0., 0., 0., 0.,\n",
      "        0., 0., 0., 0.],\n",
      "       [0., 0., 0., 0., 0., 0., 0., 0., 1., 0., 0., 0., 0., 0., 0., 0.,\n",
      "        0., 0., 0., 0., 0., 0., 0., 0., 0., 0., 0., 0., 0., 0., 0., 0.,\n",
      "        0., 0., 0., 0., 0., 0., 0., 0., 0., 0., 0., 0., 0., 0., 0., 0.,\n",
      "        0., 0., 0., 0., 0., 0., 0., 0., 0., 0., 0., 0., 0., 0., 0., 0.,\n",
      "        0., 0., 0., 0., 0., 0., 0., 0., 0., 0., 0., 0., 0., 0., 0., 0.,\n",
      "        0., 0., 0., 0., 0., 0., 0., 0., 0., 0., 0., 0., 0., 0., 0., 0.,\n",
      "        0., 0., 0., 0.],\n",
      "       [0., 1., 0., 0., 0., 0., 0., 0., 0., 0., 0., 0., 0., 0., 0., 0.,\n",
      "        0., 0., 0., 0., 0., 0., 0., 0., 0., 0., 0., 0., 0., 0., 0., 0.,\n",
      "        0., 0., 0., 0., 0., 0., 0., 0., 0., 0., 0., 0., 0., 0., 0., 0.,\n",
      "        0., 0., 0., 0., 0., 0., 0., 0., 0., 0., 0., 0., 0., 0., 0., 0.,\n",
      "        0., 0., 0., 0., 0., 0., 0., 0., 0., 0., 0., 0., 0., 0., 0., 0.,\n",
      "        0., 0., 0., 0., 0., 0., 0., 0., 0., 0., 0., 0., 0., 0., 0., 0.,\n",
      "        0., 0., 0., 0.],\n",
      "       [0., 1., 0., 0., 0., 0., 0., 0., 0., 0., 0., 0., 0., 0., 0., 0.,\n",
      "        0., 0., 0., 0., 0., 0., 0., 0., 0., 0., 0., 0., 0., 0., 0., 0.,\n",
      "        0., 0., 0., 0., 0., 0., 0., 0., 0., 0., 0., 0., 0., 0., 0., 0.,\n",
      "        0., 0., 0., 0., 0., 0., 0., 0., 0., 0., 0., 0., 0., 0., 0., 0.,\n",
      "        0., 0., 0., 0., 0., 0., 0., 0., 0., 0., 0., 0., 0., 0., 0., 0.,\n",
      "        0., 0., 0., 0., 0., 0., 0., 0., 0., 0., 0., 0., 0., 0., 0., 0.,\n",
      "        0., 0., 0., 0.],\n",
      "       [0., 1., 0., 0., 0., 0., 0., 0., 0., 0., 0., 0., 0., 0., 0., 0.,\n",
      "        0., 0., 0., 0., 0., 0., 0., 0., 0., 0., 0., 0., 0., 0., 0., 0.,\n",
      "        0., 0., 0., 0., 0., 0., 0., 0., 0., 0., 0., 0., 0., 0., 0., 0.,\n",
      "        0., 0., 0., 0., 0., 0., 0., 0., 0., 0., 0., 0., 0., 0., 0., 0.,\n",
      "        0., 0., 0., 0., 0., 0., 0., 0., 0., 0., 0., 0., 0., 0., 0., 0.,\n",
      "        0., 0., 0., 0., 0., 0., 0., 0., 0., 0., 0., 0., 0., 0., 0., 0.,\n",
      "        0., 0., 0., 0.],\n",
      "       [0., 1., 0., 0., 0., 0., 0., 0., 0., 0., 0., 0., 0., 0., 0., 0.,\n",
      "        0., 0., 0., 0., 0., 0., 0., 0., 0., 0., 0., 0., 0., 0., 0., 0.,\n",
      "        0., 0., 0., 0., 0., 0., 0., 0., 0., 0., 0., 0., 0., 0., 0., 0.,\n",
      "        0., 0., 0., 0., 0., 0., 0., 0., 0., 0., 0., 0., 0., 0., 0., 0.,\n",
      "        0., 0., 0., 0., 0., 0., 0., 0., 0., 0., 0., 0., 0., 0., 0., 0.,\n",
      "        0., 0., 0., 0., 0., 0., 0., 0., 0., 0., 0., 0., 0., 0., 0., 0.,\n",
      "        0., 0., 0., 0.]], dtype=float32)>, <tf.Tensor: shape=(6, 6), dtype=float32, numpy=\n",
      "array([[1., 1., 1., 1., 1., 0.],\n",
      "       [1., 1., 0., 0., 0., 1.],\n",
      "       [1., 0., 1., 0., 0., 0.],\n",
      "       [1., 0., 0., 1., 0., 0.],\n",
      "       [1., 0., 0., 0., 1., 0.],\n",
      "       [0., 1., 0., 0., 0., 1.]], dtype=float32)>)\n",
      "TensorShape([6, 100])\n",
      "(<tf.Tensor: shape=(6, 100), dtype=float32, numpy=\n",
      "array([[0.02941536, 0.        , 0.        , 0.04078373, 0.        ,\n",
      "        0.07009783, 0.        , 0.01969463, 0.        , 0.06484056,\n",
      "        0.02404069, 0.11943706, 0.        , 0.02303447, 0.        ,\n",
      "        0.        , 0.07462262, 0.        , 0.        , 0.        ,\n",
      "        0.00236331, 0.        , 0.01863228, 0.08786516, 0.10768249,\n",
      "        0.        , 0.05453076, 0.01734958, 0.03943511, 0.        ,\n",
      "        0.        , 0.09943222, 0.        , 0.07867038, 0.        ,\n",
      "        0.        , 0.00390132, 0.        , 0.05327757, 0.08313295,\n",
      "        0.        , 0.07930585, 0.02890965, 0.04306841, 0.        ,\n",
      "        0.        , 0.11955066, 0.02105653, 0.        , 0.        ,\n",
      "        0.        , 0.        , 0.00250089, 0.        , 0.        ,\n",
      "        0.        , 0.        , 0.        , 0.        , 0.        ,\n",
      "        0.00670405, 0.        , 0.        , 0.        , 0.        ,\n",
      "        0.02924771, 0.        , 0.        , 0.        , 0.        ,\n",
      "        0.        , 0.03578609, 0.        , 0.        , 0.04215167,\n",
      "        0.0561007 , 0.        , 0.        , 0.0832867 , 0.        ,\n",
      "        0.        , 0.        , 0.09186063, 0.01728042, 0.00788409,\n",
      "        0.        , 0.        , 0.00220828, 0.03819194, 0.        ,\n",
      "        0.        , 0.10586331, 0.        , 0.        , 0.        ,\n",
      "        0.        , 0.        , 0.05886503, 0.02171505, 0.08933407],\n",
      "       [0.02397848, 0.        , 0.        , 0.03180617, 0.00285096,\n",
      "        0.00227307, 0.        , 0.0386356 , 0.        , 0.037289  ,\n",
      "        0.        , 0.11304434, 0.        , 0.        , 0.03512179,\n",
      "        0.        , 0.04447311, 0.        , 0.        , 0.02271605,\n",
      "        0.        , 0.        , 0.04051074, 0.07139541, 0.06838328,\n",
      "        0.        , 0.01424453, 0.        , 0.07670677, 0.        ,\n",
      "        0.        , 0.09171837, 0.        , 0.09034407, 0.        ,\n",
      "        0.        , 0.04997809, 0.        , 0.01654789, 0.03120429,\n",
      "        0.        , 0.07092245, 0.07048462, 0.03268294, 0.        ,\n",
      "        0.        , 0.1248063 , 0.04087969, 0.        , 0.        ,\n",
      "        0.        , 0.        , 0.        , 0.        , 0.        ,\n",
      "        0.        , 0.04027573, 0.        , 0.        , 0.02965807,\n",
      "        0.00789624, 0.00616774, 0.        , 0.        , 0.        ,\n",
      "        0.02638557, 0.        , 0.        , 0.02361628, 0.03153595,\n",
      "        0.        , 0.        , 0.        , 0.        , 0.05411819,\n",
      "        0.04375938, 0.        , 0.        , 0.05323562, 0.        ,\n",
      "        0.        , 0.        , 0.06232568, 0.        , 0.        ,\n",
      "        0.        , 0.00414082, 0.        , 0.04593311, 0.        ,\n",
      "        0.        , 0.06796256, 0.        , 0.        , 0.        ,\n",
      "        0.        , 0.        , 0.04906344, 0.0232055 , 0.10323709],\n",
      "       [0.05150314, 0.        , 0.        , 0.08648331, 0.02356013,\n",
      "        0.07044543, 0.        , 0.05495591, 0.        , 0.01101934,\n",
      "        0.00149907, 0.12772664, 0.00381843, 0.03307597, 0.        ,\n",
      "        0.        , 0.08065916, 0.        , 0.        , 0.05167835,\n",
      "        0.        , 0.        , 0.07810642, 0.10005608, 0.07759663,\n",
      "        0.        , 0.        , 0.        , 0.06102264, 0.        ,\n",
      "        0.        , 0.09206979, 0.        , 0.08878153, 0.        ,\n",
      "        0.        , 0.        , 0.        , 0.03988973, 0.04632184,\n",
      "        0.        , 0.09583898, 0.05682153, 0.06975477, 0.        ,\n",
      "        0.        , 0.11463907, 0.06523237, 0.        , 0.        ,\n",
      "        0.07441147, 0.        , 0.        , 0.        , 0.07083564,\n",
      "        0.        , 0.        , 0.        , 0.        , 0.        ,\n",
      "        0.        , 0.        , 0.        , 0.        , 0.        ,\n",
      "        0.07512905, 0.        , 0.06547946, 0.0111058 , 0.        ,\n",
      "        0.        , 0.01930296, 0.        , 0.        , 0.        ,\n",
      "        0.12030437, 0.        , 0.        , 0.12948072, 0.        ,\n",
      "        0.        , 0.        , 0.0394409 , 0.02784908, 0.        ,\n",
      "        0.        , 0.        , 0.        , 0.00968813, 0.        ,\n",
      "        0.        , 0.10268918, 0.        , 0.        , 0.        ,\n",
      "        0.        , 0.        , 0.06972355, 0.07490946, 0.10965275],\n",
      "       [0.05150314, 0.        , 0.        , 0.08648331, 0.02356013,\n",
      "        0.07044543, 0.        , 0.05495591, 0.        , 0.01101934,\n",
      "        0.00149907, 0.12772664, 0.00381843, 0.03307597, 0.        ,\n",
      "        0.        , 0.08065916, 0.        , 0.        , 0.05167835,\n",
      "        0.        , 0.        , 0.07810642, 0.10005608, 0.07759663,\n",
      "        0.        , 0.        , 0.        , 0.06102264, 0.        ,\n",
      "        0.        , 0.09206979, 0.        , 0.08878153, 0.        ,\n",
      "        0.        , 0.        , 0.        , 0.03988973, 0.04632184,\n",
      "        0.        , 0.09583898, 0.05682153, 0.06975477, 0.        ,\n",
      "        0.        , 0.11463907, 0.06523237, 0.        , 0.        ,\n",
      "        0.07441147, 0.        , 0.        , 0.        , 0.07083564,\n",
      "        0.        , 0.        , 0.        , 0.        , 0.        ,\n",
      "        0.        , 0.        , 0.        , 0.        , 0.        ,\n",
      "        0.07512905, 0.        , 0.06547946, 0.0111058 , 0.        ,\n",
      "        0.        , 0.01930296, 0.        , 0.        , 0.        ,\n",
      "        0.12030437, 0.        , 0.        , 0.12948072, 0.        ,\n",
      "        0.        , 0.        , 0.0394409 , 0.02784908, 0.        ,\n",
      "        0.        , 0.        , 0.        , 0.00968813, 0.        ,\n",
      "        0.        , 0.10268918, 0.        , 0.        , 0.        ,\n",
      "        0.        , 0.        , 0.06972355, 0.07490946, 0.10965275],\n",
      "       [0.05150314, 0.        , 0.        , 0.08648331, 0.02356013,\n",
      "        0.07044543, 0.        , 0.05495591, 0.        , 0.01101934,\n",
      "        0.00149907, 0.12772664, 0.00381843, 0.03307597, 0.        ,\n",
      "        0.        , 0.08065916, 0.        , 0.        , 0.05167835,\n",
      "        0.        , 0.        , 0.07810642, 0.10005608, 0.07759663,\n",
      "        0.        , 0.        , 0.        , 0.06102264, 0.        ,\n",
      "        0.        , 0.09206979, 0.        , 0.08878153, 0.        ,\n",
      "        0.        , 0.        , 0.        , 0.03988973, 0.04632184,\n",
      "        0.        , 0.09583898, 0.05682153, 0.06975477, 0.        ,\n",
      "        0.        , 0.11463907, 0.06523237, 0.        , 0.        ,\n",
      "        0.07441147, 0.        , 0.        , 0.        , 0.07083564,\n",
      "        0.        , 0.        , 0.        , 0.        , 0.        ,\n",
      "        0.        , 0.        , 0.        , 0.        , 0.        ,\n",
      "        0.07512905, 0.        , 0.06547946, 0.0111058 , 0.        ,\n",
      "        0.        , 0.01930296, 0.        , 0.        , 0.        ,\n",
      "        0.12030437, 0.        , 0.        , 0.12948072, 0.        ,\n",
      "        0.        , 0.        , 0.0394409 , 0.02784908, 0.        ,\n",
      "        0.        , 0.        , 0.        , 0.00968813, 0.        ,\n",
      "        0.        , 0.10268918, 0.        , 0.        , 0.        ,\n",
      "        0.        , 0.        , 0.06972355, 0.07490946, 0.10965275],\n",
      "       [0.00324992, 0.        , 0.        , 0.        , 0.        ,\n",
      "        0.01888166, 0.        , 0.        , 0.        , 0.0979981 ,\n",
      "        0.00343931, 0.10635294, 0.        , 0.        , 0.03179269,\n",
      "        0.        , 0.04597395, 0.        , 0.        , 0.        ,\n",
      "        0.00386982, 0.        , 0.        , 0.06332192, 0.10829395,\n",
      "        0.00604604, 0.08259838, 0.01258365, 0.04580133, 0.        ,\n",
      "        0.        , 0.10100925, 0.        , 0.0773145 , 0.        ,\n",
      "        0.04244602, 0.04488986, 0.02551366, 0.03911815, 0.08099757,\n",
      "        0.        , 0.05648517, 0.03217899, 0.00859293, 0.        ,\n",
      "        0.        , 0.12840398, 0.        , 0.        , 0.01308756,\n",
      "        0.        , 0.        , 0.08077885, 0.        , 0.        ,\n",
      "        0.        , 0.        , 0.        , 0.        , 0.01511466,\n",
      "        0.08836349, 0.        , 0.        , 0.        , 0.        ,\n",
      "        0.        , 0.        , 0.        , 0.00533329, 0.03682646,\n",
      "        0.        , 0.02048756, 0.        , 0.        , 0.09402475,\n",
      "        0.        , 0.        , 0.01673195, 0.01455437, 0.        ,\n",
      "        0.01703791, 0.        , 0.12212914, 0.        , 0.03566428,\n",
      "        0.        , 0.        , 0.03331825, 0.07250161, 0.        ,\n",
      "        0.04312316, 0.08061187, 0.05173425, 0.02222201, 0.        ,\n",
      "        0.        , 0.        , 0.04065531, 0.        , 0.07944266]],\n",
      "      dtype=float32)>, <tf.Tensor: shape=(6, 6), dtype=float32, numpy=\n",
      "array([[1., 1., 1., 1., 1., 0.],\n",
      "       [1., 1., 0., 0., 0., 1.],\n",
      "       [1., 0., 1., 0., 0., 0.],\n",
      "       [1., 0., 0., 1., 0., 0.],\n",
      "       [1., 0., 0., 0., 1., 0.],\n",
      "       [0., 1., 0., 0., 0., 1.]], dtype=float32)>)\n",
      "TensorShape([6, 100])\n"
     ]
    },
    {
     "data": {
      "text/plain": [
       "(<tf.Tensor: shape=(6, 100), dtype=float32, numpy=\n",
       " array([[0.        , 0.        , 0.        , 0.        , 0.0374127 ,\n",
       "         0.04892833, 0.05149623, 0.04459392, 0.05778711, 0.        ,\n",
       "         0.        , 0.01876557, 0.02093326, 0.04393142, 0.        ,\n",
       "         0.01315187, 0.01300867, 0.        , 0.00547662, 0.        ,\n",
       "         0.        , 0.        , 0.        , 0.        , 0.00770175,\n",
       "         0.        , 0.00897225, 0.        , 0.        , 0.05867001,\n",
       "         0.        , 0.00052927, 0.        , 0.        , 0.08040065,\n",
       "         0.        , 0.        , 0.        , 0.0553322 , 0.        ,\n",
       "         0.        , 0.02552522, 0.        , 0.        , 0.04558952,\n",
       "         0.        , 0.06765645, 0.03710802, 0.0726962 , 0.        ,\n",
       "         0.        , 0.        , 0.02830723, 0.0650677 , 0.        ,\n",
       "         0.        , 0.        , 0.05519677, 0.        , 0.02332223,\n",
       "         0.        , 0.08099704, 0.        , 0.        , 0.02391953,\n",
       "         0.01238158, 0.05003433, 0.00980989, 0.        , 0.05571296,\n",
       "         0.04917232, 0.04031105, 0.        , 0.01607707, 0.02776548,\n",
       "         0.        , 0.        , 0.00424984, 0.        , 0.        ,\n",
       "         0.        , 0.        , 0.        , 0.        , 0.04615152,\n",
       "         0.        , 0.        , 0.07134067, 0.        , 0.02489531,\n",
       "         0.03001106, 0.05579953, 0.04272125, 0.        , 0.02662767,\n",
       "         0.04318321, 0.03958971, 0.05395536, 0.        , 0.05155755],\n",
       "        [0.        , 0.        , 0.        , 0.022647  , 0.03919133,\n",
       "         0.05053455, 0.03244845, 0.05100929, 0.02524355, 0.        ,\n",
       "         0.        , 0.03213933, 0.04560682, 0.02536859, 0.01640656,\n",
       "         0.01139102, 0.03480309, 0.        , 0.        , 0.        ,\n",
       "         0.        , 0.00217603, 0.        , 0.01337979, 0.01148013,\n",
       "         0.        , 0.03007665, 0.00151242, 0.        , 0.04681329,\n",
       "         0.00241809, 0.0151812 , 0.        , 0.        , 0.0686658 ,\n",
       "         0.00382565, 0.        , 0.        , 0.01565873, 0.        ,\n",
       "         0.        , 0.00842205, 0.        , 0.        , 0.04513453,\n",
       "         0.        , 0.04157133, 0.04183352, 0.04198755, 0.01051311,\n",
       "         0.01534525, 0.        , 0.0283329 , 0.05627758, 0.        ,\n",
       "         0.        , 0.        , 0.04472226, 0.        , 0.03529242,\n",
       "         0.        , 0.04680091, 0.        , 0.00571799, 0.02933199,\n",
       "         0.02241511, 0.07283634, 0.01801289, 0.00521124, 0.0363611 ,\n",
       "         0.05949184, 0.02490122, 0.        , 0.02178704, 0.01478952,\n",
       "         0.        , 0.        , 0.        , 0.        , 0.00424285,\n",
       "         0.        , 0.        , 0.        , 0.        , 0.02150968,\n",
       "         0.        , 0.        , 0.04856372, 0.        , 0.01287779,\n",
       "         0.03429808, 0.03501878, 0.03864636, 0.        , 0.00188879,\n",
       "         0.02032029, 0.03515609, 0.06206221, 0.        , 0.04325807],\n",
       "        [0.        , 0.        , 0.        , 0.00632199, 0.03383501,\n",
       "         0.04517863, 0.04811963, 0.04669585, 0.05875301, 0.        ,\n",
       "         0.        , 0.02270955, 0.0301566 , 0.0426348 , 0.01077481,\n",
       "         0.0147533 , 0.01379443, 0.        , 0.01255883, 0.        ,\n",
       "         0.        , 0.        , 0.        , 0.00304296, 0.00818776,\n",
       "         0.        , 0.01008521, 0.        , 0.        , 0.06126598,\n",
       "         0.        , 0.00403162, 0.        , 0.        , 0.08884779,\n",
       "         0.        , 0.        , 0.        , 0.04680403, 0.        ,\n",
       "         0.        , 0.01884959, 0.        , 0.        , 0.04648124,\n",
       "         0.        , 0.07199182, 0.03509724, 0.07438262, 0.        ,\n",
       "         0.        , 0.        , 0.03057127, 0.06288654, 0.        ,\n",
       "         0.        , 0.        , 0.04745901, 0.        , 0.02066624,\n",
       "         0.        , 0.08101463, 0.        , 0.        , 0.02545316,\n",
       "         0.014215  , 0.05761097, 0.01023572, 0.        , 0.05980258,\n",
       "         0.04808521, 0.04746361, 0.        , 0.02358134, 0.02095506,\n",
       "         0.        , 0.        , 0.00052435, 0.        , 0.        ,\n",
       "         0.        , 0.        , 0.        , 0.        , 0.04098343,\n",
       "         0.        , 0.        , 0.05949353, 0.        , 0.02229141,\n",
       "         0.02821092, 0.04855073, 0.04358017, 0.        , 0.02756788,\n",
       "         0.03591783, 0.03805162, 0.05988389, 0.00030968, 0.04386716],\n",
       "        [0.        , 0.        , 0.        , 0.00632199, 0.03383501,\n",
       "         0.04517863, 0.04811963, 0.04669585, 0.05875301, 0.        ,\n",
       "         0.        , 0.02270955, 0.0301566 , 0.0426348 , 0.01077481,\n",
       "         0.0147533 , 0.01379443, 0.        , 0.01255883, 0.        ,\n",
       "         0.        , 0.        , 0.        , 0.00304296, 0.00818776,\n",
       "         0.        , 0.01008521, 0.        , 0.        , 0.06126598,\n",
       "         0.        , 0.00403162, 0.        , 0.        , 0.08884779,\n",
       "         0.        , 0.        , 0.        , 0.04680403, 0.        ,\n",
       "         0.        , 0.01884959, 0.        , 0.        , 0.04648124,\n",
       "         0.        , 0.07199182, 0.03509724, 0.07438262, 0.        ,\n",
       "         0.        , 0.        , 0.03057127, 0.06288654, 0.        ,\n",
       "         0.        , 0.        , 0.04745901, 0.        , 0.02066624,\n",
       "         0.        , 0.08101463, 0.        , 0.        , 0.02545316,\n",
       "         0.014215  , 0.05761097, 0.01023572, 0.        , 0.05980258,\n",
       "         0.04808521, 0.04746361, 0.        , 0.02358134, 0.02095506,\n",
       "         0.        , 0.        , 0.00052435, 0.        , 0.        ,\n",
       "         0.        , 0.        , 0.        , 0.        , 0.04098343,\n",
       "         0.        , 0.        , 0.05949353, 0.        , 0.02229141,\n",
       "         0.02821092, 0.04855073, 0.04358017, 0.        , 0.02756788,\n",
       "         0.03591783, 0.03805162, 0.05988389, 0.00030968, 0.04386716],\n",
       "        [0.        , 0.        , 0.        , 0.00632199, 0.03383501,\n",
       "         0.04517863, 0.04811963, 0.04669585, 0.05875301, 0.        ,\n",
       "         0.        , 0.02270955, 0.0301566 , 0.0426348 , 0.01077481,\n",
       "         0.0147533 , 0.01379443, 0.        , 0.01255883, 0.        ,\n",
       "         0.        , 0.        , 0.        , 0.00304296, 0.00818776,\n",
       "         0.        , 0.01008521, 0.        , 0.        , 0.06126598,\n",
       "         0.        , 0.00403162, 0.        , 0.        , 0.08884779,\n",
       "         0.        , 0.        , 0.        , 0.04680403, 0.        ,\n",
       "         0.        , 0.01884959, 0.        , 0.        , 0.04648124,\n",
       "         0.        , 0.07199182, 0.03509724, 0.07438262, 0.        ,\n",
       "         0.        , 0.        , 0.03057127, 0.06288654, 0.        ,\n",
       "         0.        , 0.        , 0.04745901, 0.        , 0.02066624,\n",
       "         0.        , 0.08101463, 0.        , 0.        , 0.02545316,\n",
       "         0.014215  , 0.05761097, 0.01023572, 0.        , 0.05980258,\n",
       "         0.04808521, 0.04746361, 0.        , 0.02358134, 0.02095506,\n",
       "         0.        , 0.        , 0.00052435, 0.        , 0.        ,\n",
       "         0.        , 0.        , 0.        , 0.        , 0.04098343,\n",
       "         0.        , 0.        , 0.05949353, 0.        , 0.02229141,\n",
       "         0.02821092, 0.04855073, 0.04358017, 0.        , 0.02756788,\n",
       "         0.03591783, 0.03805162, 0.05988389, 0.00030968, 0.04386716],\n",
       "        [0.        , 0.        , 0.        , 0.02216214, 0.04395132,\n",
       "         0.05629404, 0.0310896 , 0.05286903, 0.01640691, 0.        ,\n",
       "         0.        , 0.03171421, 0.04479062, 0.021047  , 0.00864165,\n",
       "         0.00952521, 0.04265391, 0.        , 0.        , 0.        ,\n",
       "         0.        , 0.00318523, 0.        , 0.01464507, 0.01090313,\n",
       "         0.        , 0.03114476, 0.00842995, 0.        , 0.04379308,\n",
       "         0.00046049, 0.01667977, 0.        , 0.        , 0.05723943,\n",
       "         0.00926039, 0.        , 0.        , 0.0129791 , 0.        ,\n",
       "         0.        , 0.01033514, 0.        , 0.        , 0.04409203,\n",
       "         0.        , 0.02981336, 0.04610913, 0.03109357, 0.01994869,\n",
       "         0.02433263, 0.00306258, 0.02517848, 0.05703115, 0.        ,\n",
       "         0.        , 0.        , 0.05155763, 0.        , 0.04231373,\n",
       "         0.        , 0.03835629, 0.        , 0.01231855, 0.02782087,\n",
       "         0.02312382, 0.07235403, 0.01886696, 0.01067862, 0.02593164,\n",
       "         0.06647776, 0.01474336, 0.        , 0.01497712, 0.01512816,\n",
       "         0.        , 0.        , 0.        , 0.        , 0.00350253,\n",
       "         0.        , 0.        , 0.        , 0.        , 0.01997779,\n",
       "         0.        , 0.        , 0.05470198, 0.        , 0.011851  ,\n",
       "         0.0370722 , 0.03601316, 0.03666959, 0.        , 0.        ,\n",
       "         0.02009055, 0.03659488, 0.05730088, 0.        , 0.05133199]],\n",
       "       dtype=float32)>,\n",
       " <tf.Tensor: shape=(6, 6), dtype=float32, numpy=\n",
       " array([[1., 1., 1., 1., 1., 0.],\n",
       "        [1., 1., 0., 0., 0., 1.],\n",
       "        [1., 0., 1., 0., 0., 0.],\n",
       "        [1., 0., 0., 1., 0., 0.],\n",
       "        [1., 0., 0., 0., 1., 0.],\n",
       "        [0., 1., 0., 0., 0., 1.]], dtype=float32)>)"
      ]
     },
     "execution_count": 205,
     "metadata": {},
     "output_type": "execute_result"
    }
   ],
   "source": [
    "x = (nodes, adj_mat)\n",
    "for i in range(2):\n",
    "    x = gcnlayer(x)\n",
    "x"
   ]
  },
  {
   "cell_type": "markdown",
   "metadata": {},
   "source": [
    "It works! Why do we see zeros though? Probably because we had negative numbers that were removed by our ReLU activation. This will be solved by training and increasing our dimension number. "
   ]
  },
  {
   "cell_type": "markdown",
   "metadata": {},
   "source": [
    "## Solubility Example\n",
    "\n",
    "We'll now revisit predicting solubility with GCNs. Remember before that we used the features included with the dataset. Now, however we can use the molecular structures directly. Our GCN layer outputs node-level features. To predict solubility, we need to get a graph-level feature. We'll see later how to be more sophisticated in this process, but for now let's just take the average over all node features after our GCN layers. This is simple, permutation invariant, and gets us from node-level to graph level. Here's an implementation of this"
   ]
  },
  {
   "cell_type": "code",
   "execution_count": 206,
   "metadata": {},
   "outputs": [],
   "source": [
    "class GRLayer(tf.keras.layers.Layer):\n",
    "    '''A GNN layer that computes average over all node features'''\n",
    "    def __init__(self, name='GRLayer', **kwargs):\n",
    "        super(GRLayer, self).__init__(name=name, **kwargs)\n",
    "    \n",
    "    def call(self, inputs):\n",
    "        nodes, adj = inputs\n",
    "        reduction = tf.reduce_mean(nodes, axis=0)\n",
    "        # make batch size be 1 because we're receiving one molecule\n",
    "        return tf.reshape(reduction, (1, -1))\n",
    "    "
   ]
  },
  {
   "cell_type": "markdown",
   "metadata": {},
   "source": [
    "To complete our deep solubility predictor, we can add some dense layers and make sure we have a single-output without activation since we're doing regression. Note this model is defined using the [Keras functional API](https://keras.io/guides/functional_api/) which is necessary when you have multiple inputs. "
   ]
  },
  {
   "cell_type": "code",
   "execution_count": 214,
   "metadata": {},
   "outputs": [
    {
     "name": "stdout",
     "output_type": "stream",
     "text": [
      "(None, 100)\n",
      "[<tf.Tensor 'input_53:0' shape=(None, 100) dtype=float32>, <tf.Tensor 'input_54:0' shape=(None, None) dtype=float32>]\n",
      "(None, 100)\n",
      "(<tf.Tensor 'gcn_layer_88/Relu:0' shape=(None, 100) dtype=float32>, <tf.Tensor 'gcn_layer_88/gcn_layer_88/Identity:0' shape=(None, None) dtype=float32>)\n",
      "(None, 100)\n",
      "(<tf.Tensor 'gcn_layer_89/Relu:0' shape=(None, 100) dtype=float32>, <tf.Tensor 'gcn_layer_89/gcn_layer_89/Identity:0' shape=(None, None) dtype=float32>)\n",
      "(None, 100)\n",
      "(<tf.Tensor 'gcn_layer_90/Relu:0' shape=(None, 100) dtype=float32>, <tf.Tensor 'gcn_layer_90/gcn_layer_90/Identity:0' shape=(None, None) dtype=float32>)\n"
     ]
    }
   ],
   "source": [
    "ninput = tf.keras.Input((100,))\n",
    "ainput = tf.keras.Input((None,))\n",
    "# GCN block\n",
    "x = GCNLayer('relu')([ninput, ainput])\n",
    "x = GCNLayer('relu')(x)\n",
    "x = GCNLayer('relu')(x)\n",
    "x = GCNLayer('relu')(x)\n",
    "# reduce to graph features\n",
    "x = GRLayer()(x)\n",
    "# standard layers\n",
    "x = tf.keras.layers.Dense(16, 'tanh')(x)\n",
    "x = tf.keras.layers.Dense(1)(x)\n",
    "model = tf.keras.Model(inputs=(ninput, ainput), outputs=x)"
   ]
  },
  {
   "cell_type": "markdown",
   "metadata": {},
   "source": [
    "where does the 100 come from? Well, this dataset has lots of elements so we cannout use our size 3 one-hot encondings because we'll have more than 3 unique elements. We previously only had C, H and O. This is a good time to updaet our `smiles2graph` function to deal with this"
   ]
  },
  {
   "cell_type": "code",
   "execution_count": 228,
   "metadata": {
    "tags": [
     "hidden-cell"
    ]
   },
   "outputs": [],
   "source": [
    "def gen_smiles2graph(sml):\n",
    "    '''Argument for the RD2NX function should be a valid SMILES sequence\n",
    "    returns: the graph\n",
    "    '''\n",
    "    m = rdkit.Chem.MolFromSmiles(sml)\n",
    "    m = rdkit.Chem.AddHs(m)\n",
    "    order_string = {rdkit.Chem.rdchem.BondType.SINGLE: 1,\n",
    "                    rdkit.Chem.rdchem.BondType.DOUBLE: 2,\n",
    "                    rdkit.Chem.rdchem.BondType.TRIPLE: 3,\n",
    "                    rdkit.Chem.rdchem.BondType.AROMATIC: 4}\n",
    "    N = len(list(m.GetAtoms()))\n",
    "    nodes = np.zeros((N,100))\n",
    "    for i in m.GetAtoms():\n",
    "        nodes[i.GetIdx(), i.GetAtomicNum()] = 1\n",
    "    \n",
    "    adj = np.zeros((N,N))\n",
    "    for j in m.GetBonds():\n",
    "        u = min(j.GetBeginAtomIdx(),j.GetEndAtomIdx())\n",
    "        v = max(j.GetBeginAtomIdx(),j.GetEndAtomIdx())        \n",
    "        order = j.GetBondType()\n",
    "        if order in order_string:\n",
    "            order = order_string[order]\n",
    "        else:\n",
    "            raise Warning('Ignoring bond order' + order)\n",
    "        adj[u, v] = 1        \n",
    "        adj[v, u] = 1\n",
    "    adj += np.eye(N)\n",
    "    return nodes, adj"
   ]
  },
  {
   "cell_type": "code",
   "execution_count": 229,
   "metadata": {},
   "outputs": [
    {
     "name": "stdout",
     "output_type": "stream",
     "text": [
      "[<tf.Tensor: shape=(6, 100), dtype=float32, numpy=\n",
      "array([[0., 0., 0., 0., 0., 0., 1., 0., 0., 0., 0., 0., 0., 0., 0., 0.,\n",
      "        0., 0., 0., 0., 0., 0., 0., 0., 0., 0., 0., 0., 0., 0., 0., 0.,\n",
      "        0., 0., 0., 0., 0., 0., 0., 0., 0., 0., 0., 0., 0., 0., 0., 0.,\n",
      "        0., 0., 0., 0., 0., 0., 0., 0., 0., 0., 0., 0., 0., 0., 0., 0.,\n",
      "        0., 0., 0., 0., 0., 0., 0., 0., 0., 0., 0., 0., 0., 0., 0., 0.,\n",
      "        0., 0., 0., 0., 0., 0., 0., 0., 0., 0., 0., 0., 0., 0., 0., 0.,\n",
      "        0., 0., 0., 0.],\n",
      "       [0., 0., 0., 0., 0., 0., 0., 0., 1., 0., 0., 0., 0., 0., 0., 0.,\n",
      "        0., 0., 0., 0., 0., 0., 0., 0., 0., 0., 0., 0., 0., 0., 0., 0.,\n",
      "        0., 0., 0., 0., 0., 0., 0., 0., 0., 0., 0., 0., 0., 0., 0., 0.,\n",
      "        0., 0., 0., 0., 0., 0., 0., 0., 0., 0., 0., 0., 0., 0., 0., 0.,\n",
      "        0., 0., 0., 0., 0., 0., 0., 0., 0., 0., 0., 0., 0., 0., 0., 0.,\n",
      "        0., 0., 0., 0., 0., 0., 0., 0., 0., 0., 0., 0., 0., 0., 0., 0.,\n",
      "        0., 0., 0., 0.],\n",
      "       [0., 1., 0., 0., 0., 0., 0., 0., 0., 0., 0., 0., 0., 0., 0., 0.,\n",
      "        0., 0., 0., 0., 0., 0., 0., 0., 0., 0., 0., 0., 0., 0., 0., 0.,\n",
      "        0., 0., 0., 0., 0., 0., 0., 0., 0., 0., 0., 0., 0., 0., 0., 0.,\n",
      "        0., 0., 0., 0., 0., 0., 0., 0., 0., 0., 0., 0., 0., 0., 0., 0.,\n",
      "        0., 0., 0., 0., 0., 0., 0., 0., 0., 0., 0., 0., 0., 0., 0., 0.,\n",
      "        0., 0., 0., 0., 0., 0., 0., 0., 0., 0., 0., 0., 0., 0., 0., 0.,\n",
      "        0., 0., 0., 0.],\n",
      "       [0., 1., 0., 0., 0., 0., 0., 0., 0., 0., 0., 0., 0., 0., 0., 0.,\n",
      "        0., 0., 0., 0., 0., 0., 0., 0., 0., 0., 0., 0., 0., 0., 0., 0.,\n",
      "        0., 0., 0., 0., 0., 0., 0., 0., 0., 0., 0., 0., 0., 0., 0., 0.,\n",
      "        0., 0., 0., 0., 0., 0., 0., 0., 0., 0., 0., 0., 0., 0., 0., 0.,\n",
      "        0., 0., 0., 0., 0., 0., 0., 0., 0., 0., 0., 0., 0., 0., 0., 0.,\n",
      "        0., 0., 0., 0., 0., 0., 0., 0., 0., 0., 0., 0., 0., 0., 0., 0.,\n",
      "        0., 0., 0., 0.],\n",
      "       [0., 1., 0., 0., 0., 0., 0., 0., 0., 0., 0., 0., 0., 0., 0., 0.,\n",
      "        0., 0., 0., 0., 0., 0., 0., 0., 0., 0., 0., 0., 0., 0., 0., 0.,\n",
      "        0., 0., 0., 0., 0., 0., 0., 0., 0., 0., 0., 0., 0., 0., 0., 0.,\n",
      "        0., 0., 0., 0., 0., 0., 0., 0., 0., 0., 0., 0., 0., 0., 0., 0.,\n",
      "        0., 0., 0., 0., 0., 0., 0., 0., 0., 0., 0., 0., 0., 0., 0., 0.,\n",
      "        0., 0., 0., 0., 0., 0., 0., 0., 0., 0., 0., 0., 0., 0., 0., 0.,\n",
      "        0., 0., 0., 0.],\n",
      "       [0., 1., 0., 0., 0., 0., 0., 0., 0., 0., 0., 0., 0., 0., 0., 0.,\n",
      "        0., 0., 0., 0., 0., 0., 0., 0., 0., 0., 0., 0., 0., 0., 0., 0.,\n",
      "        0., 0., 0., 0., 0., 0., 0., 0., 0., 0., 0., 0., 0., 0., 0., 0.,\n",
      "        0., 0., 0., 0., 0., 0., 0., 0., 0., 0., 0., 0., 0., 0., 0., 0.,\n",
      "        0., 0., 0., 0., 0., 0., 0., 0., 0., 0., 0., 0., 0., 0., 0., 0.,\n",
      "        0., 0., 0., 0., 0., 0., 0., 0., 0., 0., 0., 0., 0., 0., 0., 0.,\n",
      "        0., 0., 0., 0.]], dtype=float32)>, <tf.Tensor: shape=(6, 6), dtype=float32, numpy=\n",
      "array([[1., 1., 1., 1., 1., 0.],\n",
      "       [1., 1., 0., 0., 0., 1.],\n",
      "       [1., 0., 1., 0., 0., 0.],\n",
      "       [1., 0., 0., 1., 0., 0.],\n",
      "       [1., 0., 0., 0., 1., 0.],\n",
      "       [0., 1., 0., 0., 0., 1.]], dtype=float32)>]\n",
      "TensorShape([6, 100])\n",
      "(<tf.Tensor: shape=(6, 100), dtype=float32, numpy=\n",
      "array([[0.        , 0.        , 0.05176611, 0.        , 0.0424268 ,\n",
      "        0.        , 0.        , 0.01648513, 0.        , 0.        ,\n",
      "        0.        , 0.01928929, 0.05921141, 0.        , 0.        ,\n",
      "        0.12034347, 0.05466471, 0.02194615, 0.        , 0.0384324 ,\n",
      "        0.        , 0.03856621, 0.10922831, 0.        , 0.        ,\n",
      "        0.02383926, 0.        , 0.        , 0.03319268, 0.        ,\n",
      "        0.        , 0.        , 0.10197387, 0.        , 0.        ,\n",
      "        0.        , 0.04542685, 0.09236013, 0.        , 0.00392079,\n",
      "        0.02907018, 0.04339688, 0.03353558, 0.0467534 , 0.07427587,\n",
      "        0.        , 0.05327306, 0.        , 0.        , 0.        ,\n",
      "        0.12801333, 0.00290193, 0.        , 0.04800035, 0.        ,\n",
      "        0.01005514, 0.        , 0.01574862, 0.0051035 , 0.        ,\n",
      "        0.        , 0.05731497, 0.0733973 , 0.        , 0.12017145,\n",
      "        0.        , 0.10677297, 0.04567691, 0.01618365, 0.02907376,\n",
      "        0.0461513 , 0.        , 0.        , 0.        , 0.06841906,\n",
      "        0.        , 0.02124773, 0.        , 0.        , 0.04886484,\n",
      "        0.03069441, 0.06689598, 0.        , 0.        , 0.09252912,\n",
      "        0.        , 0.07492816, 0.        , 0.09155913, 0.12665805,\n",
      "        0.        , 0.03158448, 0.        , 0.        , 0.08960336,\n",
      "        0.0119982 , 0.1163068 , 0.        , 0.03374182, 0.09970988],\n",
      "       [0.        , 0.        , 0.07582729, 0.        , 0.        ,\n",
      "        0.        , 0.        , 0.02163588, 0.01913297, 0.        ,\n",
      "        0.        , 0.02215653, 0.02718852, 0.        , 0.00539565,\n",
      "        0.1005105 , 0.07469702, 0.        , 0.        , 0.0535776 ,\n",
      "        0.        , 0.04844655, 0.08691227, 0.        , 0.        ,\n",
      "        0.02132232, 0.        , 0.        , 0.01475812, 0.01472151,\n",
      "        0.        , 0.        , 0.09650775, 0.04635089, 0.        ,\n",
      "        0.        , 0.01302388, 0.10994932, 0.01136814, 0.03682485,\n",
      "        0.05133943, 0.        , 0.05829093, 0.05215395, 0.10813504,\n",
      "        0.        , 0.        , 0.        , 0.        , 0.00479706,\n",
      "        0.10080048, 0.        , 0.02639542, 0.00426724, 0.        ,\n",
      "        0.        , 0.        , 0.00253987, 0.        , 0.        ,\n",
      "        0.00187975, 0.04571868, 0.0866667 , 0.        , 0.10004516,\n",
      "        0.        , 0.08546461, 0.        , 0.        , 0.03613565,\n",
      "        0.02318884, 0.        , 0.        , 0.        , 0.04578777,\n",
      "        0.        , 0.        , 0.        , 0.        , 0.        ,\n",
      "        0.01058138, 0.03358577, 0.        , 0.02732715, 0.0540056 ,\n",
      "        0.        , 0.10294281, 0.        , 0.05489006, 0.09634078,\n",
      "        0.        , 0.        , 0.        , 0.        , 0.06763318,\n",
      "        0.        , 0.09696534, 0.        , 0.03140737, 0.11156373],\n",
      "       [0.        , 0.        , 0.0455127 , 0.        , 0.0199447 ,\n",
      "        0.        , 0.        , 0.        , 0.00774753, 0.        ,\n",
      "        0.        , 0.        , 0.0508776 , 0.        , 0.00360985,\n",
      "        0.13100052, 0.05353083, 0.        , 0.        , 0.05848398,\n",
      "        0.        , 0.09362081, 0.14205542, 0.        , 0.        ,\n",
      "        0.        , 0.        , 0.        , 0.        , 0.        ,\n",
      "        0.00433826, 0.        , 0.1388455 , 0.01018063, 0.        ,\n",
      "        0.        , 0.08832218, 0.11373557, 0.        , 0.00393502,\n",
      "        0.01322576, 0.01707026, 0.08201176, 0.04603881, 0.09286566,\n",
      "        0.        , 0.04069362, 0.        , 0.        , 0.        ,\n",
      "        0.08577868, 0.        , 0.00325561, 0.        , 0.        ,\n",
      "        0.        , 0.01971399, 0.04823143, 0.062928  , 0.        ,\n",
      "        0.        , 0.        , 0.06500643, 0.        , 0.12447393,\n",
      "        0.        , 0.07719997, 0.07333823, 0.        , 0.05974752,\n",
      "        0.        , 0.03150158, 0.        , 0.        , 0.00081158,\n",
      "        0.        , 0.03774045, 0.        , 0.        , 0.00486407,\n",
      "        0.05372389, 0.03238957, 0.        , 0.        , 0.15669788,\n",
      "        0.        , 0.10050423, 0.        , 0.12508884, 0.08377453,\n",
      "        0.        , 0.0328995 , 0.        , 0.        , 0.03141694,\n",
      "        0.        , 0.09016714, 0.        , 0.        , 0.11628534],\n",
      "       [0.        , 0.        , 0.0455127 , 0.        , 0.0199447 ,\n",
      "        0.        , 0.        , 0.        , 0.00774753, 0.        ,\n",
      "        0.        , 0.        , 0.0508776 , 0.        , 0.00360985,\n",
      "        0.13100052, 0.05353083, 0.        , 0.        , 0.05848398,\n",
      "        0.        , 0.09362081, 0.14205542, 0.        , 0.        ,\n",
      "        0.        , 0.        , 0.        , 0.        , 0.        ,\n",
      "        0.00433826, 0.        , 0.1388455 , 0.01018063, 0.        ,\n",
      "        0.        , 0.08832218, 0.11373557, 0.        , 0.00393502,\n",
      "        0.01322576, 0.01707026, 0.08201176, 0.04603881, 0.09286566,\n",
      "        0.        , 0.04069362, 0.        , 0.        , 0.        ,\n",
      "        0.08577868, 0.        , 0.00325561, 0.        , 0.        ,\n",
      "        0.        , 0.01971399, 0.04823143, 0.062928  , 0.        ,\n",
      "        0.        , 0.        , 0.06500643, 0.        , 0.12447393,\n",
      "        0.        , 0.07719997, 0.07333823, 0.        , 0.05974752,\n",
      "        0.        , 0.03150158, 0.        , 0.        , 0.00081158,\n",
      "        0.        , 0.03774045, 0.        , 0.        , 0.00486407,\n",
      "        0.05372389, 0.03238957, 0.        , 0.        , 0.15669788,\n",
      "        0.        , 0.10050423, 0.        , 0.12508884, 0.08377453,\n",
      "        0.        , 0.0328995 , 0.        , 0.        , 0.03141694,\n",
      "        0.        , 0.09016714, 0.        , 0.        , 0.11628534],\n",
      "       [0.        , 0.        , 0.0455127 , 0.        , 0.0199447 ,\n",
      "        0.        , 0.        , 0.        , 0.00774753, 0.        ,\n",
      "        0.        , 0.        , 0.0508776 , 0.        , 0.00360985,\n",
      "        0.13100052, 0.05353083, 0.        , 0.        , 0.05848398,\n",
      "        0.        , 0.09362081, 0.14205542, 0.        , 0.        ,\n",
      "        0.        , 0.        , 0.        , 0.        , 0.        ,\n",
      "        0.00433826, 0.        , 0.1388455 , 0.01018063, 0.        ,\n",
      "        0.        , 0.08832218, 0.11373557, 0.        , 0.00393502,\n",
      "        0.01322576, 0.01707026, 0.08201176, 0.04603881, 0.09286566,\n",
      "        0.        , 0.04069362, 0.        , 0.        , 0.        ,\n",
      "        0.08577868, 0.        , 0.00325561, 0.        , 0.        ,\n",
      "        0.        , 0.01971399, 0.04823143, 0.062928  , 0.        ,\n",
      "        0.        , 0.        , 0.06500643, 0.        , 0.12447393,\n",
      "        0.        , 0.07719997, 0.07333823, 0.        , 0.05974752,\n",
      "        0.        , 0.03150158, 0.        , 0.        , 0.00081158,\n",
      "        0.        , 0.03774045, 0.        , 0.        , 0.00486407,\n",
      "        0.05372389, 0.03238957, 0.        , 0.        , 0.15669788,\n",
      "        0.        , 0.10050423, 0.        , 0.12508884, 0.08377453,\n",
      "        0.        , 0.0328995 , 0.        , 0.        , 0.03141694,\n",
      "        0.        , 0.09016714, 0.        , 0.        , 0.11628534],\n",
      "       [0.        , 0.        , 0.0760654 , 0.        , 0.01850428,\n",
      "        0.        , 0.        , 0.08343875, 0.00243733, 0.01319744,\n",
      "        0.        , 0.06049281, 0.04352805, 0.        , 0.        ,\n",
      "        0.0948117 , 0.07082281, 0.0004199 , 0.        , 0.02973972,\n",
      "        0.00826871, 0.        , 0.05966418, 0.        , 0.        ,\n",
      "        0.06455372, 0.        , 0.        , 0.06504788, 0.00160117,\n",
      "        0.        , 0.        , 0.06100263, 0.01493397, 0.        ,\n",
      "        0.        , 0.        , 0.08417659, 0.        , 0.02858461,\n",
      "        0.06161653, 0.02405978, 0.00362591, 0.0515184 , 0.08108045,\n",
      "        0.        , 0.0258487 , 0.        , 0.        , 0.        ,\n",
      "        0.14983833, 0.00463853, 0.        , 0.06825291, 0.        ,\n",
      "        0.01493957, 0.        , 0.        , 0.        , 0.        ,\n",
      "        0.        , 0.11460181, 0.09174021, 0.        , 0.10077424,\n",
      "        0.03361049, 0.1203647 , 0.        , 0.        , 0.00369643,\n",
      "        0.1162658 , 0.        , 0.        , 0.        , 0.11905308,\n",
      "        0.00484664, 0.        , 0.        , 0.03021429, 0.05104535,\n",
      "        0.        , 0.07641974, 0.        , 0.05513673, 0.        ,\n",
      "        0.        , 0.07036307, 0.        , 0.03052762, 0.14680362,\n",
      "        0.        , 0.        , 0.        , 0.        , 0.13131215,\n",
      "        0.01091584, 0.12794037, 0.        , 0.10455776, 0.0920248 ]],\n",
      "      dtype=float32)>, <tf.Tensor: shape=(6, 6), dtype=float32, numpy=\n",
      "array([[1., 1., 1., 1., 1., 0.],\n",
      "       [1., 1., 0., 0., 0., 1.],\n",
      "       [1., 0., 1., 0., 0., 0.],\n",
      "       [1., 0., 0., 1., 0., 0.],\n",
      "       [1., 0., 0., 0., 1., 0.],\n",
      "       [0., 1., 0., 0., 0., 1.]], dtype=float32)>)\n",
      "TensorShape([6, 100])\n"
     ]
    },
    {
     "name": "stdout",
     "output_type": "stream",
     "text": [
      "(<tf.Tensor: shape=(6, 100), dtype=float32, numpy=\n",
      "array([[0.01681605, 0.        , 0.04823257, 0.        , 0.        ,\n",
      "        0.        , 0.0352641 , 0.02108229, 0.00813875, 0.        ,\n",
      "        0.        , 0.        , 0.        , 0.        , 0.        ,\n",
      "        0.        , 0.0549577 , 0.        , 0.04166056, 0.03553317,\n",
      "        0.03208452, 0.04779641, 0.00705159, 0.09495949, 0.        ,\n",
      "        0.05440381, 0.00015609, 0.01865607, 0.        , 0.        ,\n",
      "        0.        , 0.02475368, 0.        , 0.        , 0.09954035,\n",
      "        0.03014004, 0.        , 0.11534689, 0.        , 0.        ,\n",
      "        0.09192654, 0.        , 0.        , 0.        , 0.        ,\n",
      "        0.        , 0.        , 0.        , 0.        , 0.00233381,\n",
      "        0.        , 0.02209008, 0.        , 0.        , 0.02767377,\n",
      "        0.        , 0.        , 0.01510315, 0.        , 0.        ,\n",
      "        0.03881584, 0.01605416, 0.        , 0.        , 0.06631889,\n",
      "        0.        , 0.03975217, 0.05538071, 0.04349674, 0.        ,\n",
      "        0.        , 0.        , 0.01180344, 0.03435455, 0.        ,\n",
      "        0.01336255, 0.03799669, 0.01027706, 0.        , 0.        ,\n",
      "        0.05749967, 0.02308833, 0.        , 0.03202878, 0.04571117,\n",
      "        0.00656666, 0.03431111, 0.        , 0.        , 0.        ,\n",
      "        0.06666567, 0.        , 0.00051278, 0.01662452, 0.        ,\n",
      "        0.        , 0.        , 0.        , 0.00333585, 0.        ],\n",
      "       [0.00199381, 0.        , 0.03290081, 0.03792508, 0.        ,\n",
      "        0.01695663, 0.03243756, 0.00195986, 0.        , 0.        ,\n",
      "        0.00589892, 0.        , 0.        , 0.        , 0.        ,\n",
      "        0.        , 0.06388627, 0.        , 0.0275573 , 0.01295435,\n",
      "        0.01623339, 0.01999587, 0.        , 0.07931475, 0.        ,\n",
      "        0.06656976, 0.        , 0.        , 0.        , 0.        ,\n",
      "        0.        , 0.05125185, 0.        , 0.00482318, 0.07832031,\n",
      "        0.        , 0.        , 0.10729289, 0.01288889, 0.        ,\n",
      "        0.05065024, 0.        , 0.0004074 , 0.        , 0.        ,\n",
      "        0.        , 0.        , 0.03123475, 0.        , 0.00569108,\n",
      "        0.        , 0.        , 0.01570944, 0.        , 0.03292137,\n",
      "        0.        , 0.00260146, 0.        , 0.        , 0.        ,\n",
      "        0.03326426, 0.03333253, 0.        , 0.        , 0.0323161 ,\n",
      "        0.        , 0.02587025, 0.05839419, 0.02169864, 0.        ,\n",
      "        0.        , 0.        , 0.040992  , 0.0399397 , 0.        ,\n",
      "        0.        , 0.01588152, 0.0313495 , 0.        , 0.        ,\n",
      "        0.03932922, 0.01574223, 0.        , 0.01693413, 0.05419791,\n",
      "        0.        , 0.03393662, 0.01525447, 0.007147  , 0.        ,\n",
      "        0.05695587, 0.        , 0.02322869, 0.04124898, 0.        ,\n",
      "        0.        , 0.        , 0.        , 0.        , 0.        ],\n",
      "       [0.00554685, 0.        , 0.05248566, 0.        , 0.        ,\n",
      "        0.        , 0.03586087, 0.02317748, 0.00637988, 0.        ,\n",
      "        0.        , 0.        , 0.        , 0.        , 0.        ,\n",
      "        0.        , 0.05859273, 0.        , 0.0341772 , 0.04123843,\n",
      "        0.02727682, 0.04714286, 0.        , 0.09479234, 0.        ,\n",
      "        0.06684309, 0.00510417, 0.01435245, 0.        , 0.        ,\n",
      "        0.        , 0.03168872, 0.        , 0.        , 0.09837665,\n",
      "        0.02137617, 0.        , 0.11800353, 0.        , 0.        ,\n",
      "        0.08560562, 0.        , 0.        , 0.        , 0.        ,\n",
      "        0.        , 0.        , 0.        , 0.        , 0.00617066,\n",
      "        0.        , 0.02116337, 0.        , 0.        , 0.03217272,\n",
      "        0.        , 0.        , 0.01221924, 0.        , 0.        ,\n",
      "        0.03451034, 0.01216073, 0.        , 0.        , 0.06488365,\n",
      "        0.        , 0.03883176, 0.05837122, 0.04379385, 0.        ,\n",
      "        0.        , 0.        , 0.01857368, 0.03166249, 0.        ,\n",
      "        0.00930515, 0.03554623, 0.01572869, 0.        , 0.        ,\n",
      "        0.05339831, 0.01927909, 0.        , 0.03005721, 0.04658009,\n",
      "        0.00308014, 0.04154681, 0.        , 0.        , 0.        ,\n",
      "        0.07636341, 0.        , 0.00369078, 0.01978098, 0.        ,\n",
      "        0.        , 0.        , 0.        , 0.00345048, 0.        ],\n",
      "       [0.00554685, 0.        , 0.05248566, 0.        , 0.        ,\n",
      "        0.        , 0.03586087, 0.02317748, 0.00637988, 0.        ,\n",
      "        0.        , 0.        , 0.        , 0.        , 0.        ,\n",
      "        0.        , 0.05859273, 0.        , 0.0341772 , 0.04123843,\n",
      "        0.02727682, 0.04714286, 0.        , 0.09479234, 0.        ,\n",
      "        0.06684309, 0.00510417, 0.01435245, 0.        , 0.        ,\n",
      "        0.        , 0.03168872, 0.        , 0.        , 0.09837665,\n",
      "        0.02137617, 0.        , 0.11800353, 0.        , 0.        ,\n",
      "        0.08560562, 0.        , 0.        , 0.        , 0.        ,\n",
      "        0.        , 0.        , 0.        , 0.        , 0.00617066,\n",
      "        0.        , 0.02116337, 0.        , 0.        , 0.03217272,\n",
      "        0.        , 0.        , 0.01221924, 0.        , 0.        ,\n",
      "        0.03451034, 0.01216073, 0.        , 0.        , 0.06488365,\n",
      "        0.        , 0.03883176, 0.05837122, 0.04379385, 0.        ,\n",
      "        0.        , 0.        , 0.01857368, 0.03166249, 0.        ,\n",
      "        0.00930515, 0.03554623, 0.01572869, 0.        , 0.        ,\n",
      "        0.05339831, 0.01927909, 0.        , 0.03005721, 0.04658009,\n",
      "        0.00308014, 0.04154681, 0.        , 0.        , 0.        ,\n",
      "        0.07636341, 0.        , 0.00369078, 0.01978098, 0.        ,\n",
      "        0.        , 0.        , 0.        , 0.00345048, 0.        ],\n",
      "       [0.00554685, 0.        , 0.05248566, 0.        , 0.        ,\n",
      "        0.        , 0.03586087, 0.02317748, 0.00637988, 0.        ,\n",
      "        0.        , 0.        , 0.        , 0.        , 0.        ,\n",
      "        0.        , 0.05859273, 0.        , 0.0341772 , 0.04123843,\n",
      "        0.02727682, 0.04714286, 0.        , 0.09479234, 0.        ,\n",
      "        0.06684309, 0.00510417, 0.01435245, 0.        , 0.        ,\n",
      "        0.        , 0.03168872, 0.        , 0.        , 0.09837665,\n",
      "        0.02137617, 0.        , 0.11800353, 0.        , 0.        ,\n",
      "        0.08560562, 0.        , 0.        , 0.        , 0.        ,\n",
      "        0.        , 0.        , 0.        , 0.        , 0.00617066,\n",
      "        0.        , 0.02116337, 0.        , 0.        , 0.03217272,\n",
      "        0.        , 0.        , 0.01221924, 0.        , 0.        ,\n",
      "        0.03451034, 0.01216073, 0.        , 0.        , 0.06488365,\n",
      "        0.        , 0.03883176, 0.05837122, 0.04379385, 0.        ,\n",
      "        0.        , 0.        , 0.01857368, 0.03166249, 0.        ,\n",
      "        0.00930515, 0.03554623, 0.01572869, 0.        , 0.        ,\n",
      "        0.05339831, 0.01927909, 0.        , 0.03005721, 0.04658009,\n",
      "        0.00308014, 0.04154681, 0.        , 0.        , 0.        ,\n",
      "        0.07636341, 0.        , 0.00369078, 0.01978098, 0.        ,\n",
      "        0.        , 0.        , 0.        , 0.00345048, 0.        ],\n",
      "       [0.00833461, 0.        , 0.02491228, 0.04831795, 0.        ,\n",
      "        0.03211629, 0.03067052, 0.        , 0.        , 0.        ,\n",
      "        0.01173034, 0.        , 0.        , 0.        , 0.        ,\n",
      "        0.        , 0.06510132, 0.        , 0.03017811, 0.        ,\n",
      "        0.01572897, 0.01216416, 0.        , 0.07464387, 0.00576892,\n",
      "        0.05871114, 0.        , 0.        , 0.        , 0.        ,\n",
      "        0.        , 0.05142508, 0.        , 0.01544795, 0.07488328,\n",
      "        0.        , 0.        , 0.10183734, 0.02024326, 0.        ,\n",
      "        0.04536583, 0.        , 0.01182775, 0.        , 0.        ,\n",
      "        0.        , 0.        , 0.0457265 , 0.        , 0.00193766,\n",
      "        0.        , 0.        , 0.01655615, 0.        , 0.02918587,\n",
      "        0.        , 0.01247257, 0.        , 0.        , 0.        ,\n",
      "        0.03459642, 0.0420739 , 0.        , 0.        , 0.02574493,\n",
      "        0.        , 0.02314414, 0.05638564, 0.01629423, 0.        ,\n",
      "        0.        , 0.        , 0.04128864, 0.04497593, 0.        ,\n",
      "        0.        , 0.01289721, 0.03245157, 0.        , 0.        ,\n",
      "        0.03826467, 0.01762761, 0.        , 0.01426097, 0.05736607,\n",
      "        0.        , 0.02743268, 0.02820055, 0.0088232 , 0.        ,\n",
      "        0.04655872, 0.        , 0.02823568, 0.04422721, 0.        ,\n",
      "        0.        , 0.        , 0.        , 0.        , 0.        ]],\n",
      "      dtype=float32)>, <tf.Tensor: shape=(6, 6), dtype=float32, numpy=\n",
      "array([[1., 1., 1., 1., 1., 0.],\n",
      "       [1., 1., 0., 0., 0., 1.],\n",
      "       [1., 0., 1., 0., 0., 0.],\n",
      "       [1., 0., 0., 1., 0., 0.],\n",
      "       [1., 0., 0., 0., 1., 0.],\n",
      "       [0., 1., 0., 0., 0., 1.]], dtype=float32)>)\n",
      "TensorShape([6, 100])\n"
     ]
    },
    {
     "name": "stdout",
     "output_type": "stream",
     "text": [
      "(<tf.Tensor: shape=(6, 100), dtype=float32, numpy=\n",
      "array([[3.06379888e-02, 0.00000000e+00, 0.00000000e+00, 0.00000000e+00,\n",
      "        9.94184241e-02, 0.00000000e+00, 0.00000000e+00, 0.00000000e+00,\n",
      "        3.12208515e-02, 2.51045413e-02, 2.24592388e-02, 1.19241746e-02,\n",
      "        0.00000000e+00, 0.00000000e+00, 2.16732118e-02, 0.00000000e+00,\n",
      "        3.49257588e-02, 0.00000000e+00, 3.26467454e-02, 0.00000000e+00,\n",
      "        3.11847217e-02, 0.00000000e+00, 0.00000000e+00, 0.00000000e+00,\n",
      "        4.26548626e-03, 0.00000000e+00, 0.00000000e+00, 5.43053634e-02,\n",
      "        0.00000000e+00, 1.32426340e-02, 0.00000000e+00, 1.01607107e-02,\n",
      "        2.33296957e-02, 7.62477517e-03, 5.28246872e-02, 3.13927978e-02,\n",
      "        4.68221083e-02, 1.73802562e-02, 5.77410571e-02, 2.12943200e-02,\n",
      "        0.00000000e+00, 0.00000000e+00, 4.15032469e-02, 4.66578603e-02,\n",
      "        5.01768244e-03, 1.98969934e-02, 4.10840614e-03, 8.39858316e-03,\n",
      "        2.33639274e-02, 0.00000000e+00, 0.00000000e+00, 6.38308981e-03,\n",
      "        2.60149725e-02, 4.71629463e-02, 0.00000000e+00, 8.88706185e-03,\n",
      "        1.59179904e-02, 4.22774255e-02, 1.37361232e-04, 9.67059284e-04,\n",
      "        1.00240984e-03, 0.00000000e+00, 0.00000000e+00, 6.41528293e-02,\n",
      "        0.00000000e+00, 0.00000000e+00, 1.14045218e-02, 0.00000000e+00,\n",
      "        1.87705681e-02, 2.70475689e-02, 0.00000000e+00, 0.00000000e+00,\n",
      "        0.00000000e+00, 8.68791621e-03, 2.68446635e-02, 0.00000000e+00,\n",
      "        0.00000000e+00, 1.14780506e-02, 0.00000000e+00, 0.00000000e+00,\n",
      "        0.00000000e+00, 2.39940640e-02, 1.00949816e-02, 0.00000000e+00,\n",
      "        4.13028970e-02, 0.00000000e+00, 0.00000000e+00, 2.83154007e-02,\n",
      "        0.00000000e+00, 0.00000000e+00, 1.77522805e-02, 1.66376438e-02,\n",
      "        0.00000000e+00, 0.00000000e+00, 1.51478201e-02, 0.00000000e+00,\n",
      "        2.48664748e-02, 6.17086282e-03, 4.65702899e-02, 1.29600642e-02],\n",
      "       [1.64260548e-02, 0.00000000e+00, 0.00000000e+00, 0.00000000e+00,\n",
      "        9.06638727e-02, 0.00000000e+00, 0.00000000e+00, 0.00000000e+00,\n",
      "        1.78080276e-02, 2.42414661e-02, 1.76759046e-02, 1.70730576e-02,\n",
      "        0.00000000e+00, 0.00000000e+00, 1.90392360e-02, 0.00000000e+00,\n",
      "        2.79633328e-02, 0.00000000e+00, 3.30922604e-02, 0.00000000e+00,\n",
      "        3.76593322e-02, 0.00000000e+00, 1.24138058e-03, 0.00000000e+00,\n",
      "        0.00000000e+00, 0.00000000e+00, 0.00000000e+00, 4.91455644e-02,\n",
      "        0.00000000e+00, 7.23853707e-03, 0.00000000e+00, 1.78815122e-03,\n",
      "        1.96473598e-02, 3.61207291e-03, 5.13847880e-02, 3.69598940e-02,\n",
      "        4.55737114e-02, 1.63950212e-02, 4.42113280e-02, 2.44849976e-02,\n",
      "        0.00000000e+00, 4.37015056e-04, 4.47224528e-02, 3.15608382e-02,\n",
      "        2.57811183e-03, 2.66750157e-02, 8.15930963e-03, 2.05779150e-02,\n",
      "        1.18456315e-02, 0.00000000e+00, 0.00000000e+00, 0.00000000e+00,\n",
      "        2.45614778e-02, 4.71916460e-02, 0.00000000e+00, 2.07601395e-02,\n",
      "        5.30078076e-03, 3.61750275e-02, 0.00000000e+00, 1.75101438e-03,\n",
      "        0.00000000e+00, 0.00000000e+00, 0.00000000e+00, 5.99427447e-02,\n",
      "        0.00000000e+00, 0.00000000e+00, 2.51417812e-02, 0.00000000e+00,\n",
      "        1.17122717e-02, 2.56426241e-02, 0.00000000e+00, 0.00000000e+00,\n",
      "        0.00000000e+00, 1.60839111e-02, 1.01526491e-02, 0.00000000e+00,\n",
      "        0.00000000e+00, 1.88365132e-02, 0.00000000e+00, 0.00000000e+00,\n",
      "        0.00000000e+00, 1.40433460e-02, 9.48114973e-03, 0.00000000e+00,\n",
      "        3.92781608e-02, 0.00000000e+00, 0.00000000e+00, 1.99006796e-02,\n",
      "        0.00000000e+00, 1.51627266e-03, 6.07033074e-03, 2.02361532e-02,\n",
      "        0.00000000e+00, 0.00000000e+00, 5.05761756e-03, 0.00000000e+00,\n",
      "        2.08298266e-02, 2.59572361e-03, 4.08432595e-02, 2.31552701e-02],\n",
      "       [3.61916833e-02, 0.00000000e+00, 0.00000000e+00, 0.00000000e+00,\n",
      "        1.03749655e-01, 7.24605750e-04, 0.00000000e+00, 0.00000000e+00,\n",
      "        3.70004997e-02, 2.68608183e-02, 2.36241184e-02, 8.81871767e-03,\n",
      "        0.00000000e+00, 0.00000000e+00, 2.25565508e-02, 0.00000000e+00,\n",
      "        3.54701802e-02, 0.00000000e+00, 3.04226633e-02, 0.00000000e+00,\n",
      "        2.78190002e-02, 0.00000000e+00, 0.00000000e+00, 0.00000000e+00,\n",
      "        4.81672352e-03, 0.00000000e+00, 0.00000000e+00, 5.61924614e-02,\n",
      "        0.00000000e+00, 1.61199048e-02, 0.00000000e+00, 1.39540499e-02,\n",
      "        2.59837583e-02, 7.90622458e-03, 4.93350811e-02, 2.96392031e-02,\n",
      "        4.93565053e-02, 1.64168067e-02, 6.18806481e-02, 1.91908535e-02,\n",
      "        0.00000000e+00, 0.00000000e+00, 3.98237407e-02, 5.04816920e-02,\n",
      "        6.16945419e-03, 1.61698814e-02, 2.16191635e-04, 4.73770173e-03,\n",
      "        2.70854160e-02, 0.00000000e+00, 0.00000000e+00, 1.05980095e-02,\n",
      "        2.56936997e-02, 4.80352864e-02, 0.00000000e+00, 3.76777351e-03,\n",
      "        2.10668445e-02, 4.43507768e-02, 1.22035062e-03, 0.00000000e+00,\n",
      "        2.34184787e-03, 0.00000000e+00, 0.00000000e+00, 6.54366016e-02,\n",
      "        0.00000000e+00, 0.00000000e+00, 3.93178686e-03, 0.00000000e+00,\n",
      "        2.08939724e-02, 2.93593686e-02, 0.00000000e+00, 0.00000000e+00,\n",
      "        0.00000000e+00, 6.26251847e-03, 3.38764898e-02, 0.00000000e+00,\n",
      "        0.00000000e+00, 1.04693174e-02, 0.00000000e+00, 0.00000000e+00,\n",
      "        0.00000000e+00, 2.51295120e-02, 1.37854535e-02, 0.00000000e+00,\n",
      "        4.32717651e-02, 0.00000000e+00, 0.00000000e+00, 2.99941078e-02,\n",
      "        0.00000000e+00, 0.00000000e+00, 2.10770275e-02, 1.36654759e-02,\n",
      "        0.00000000e+00, 0.00000000e+00, 1.88100561e-02, 0.00000000e+00,\n",
      "        2.71179713e-02, 1.00933239e-02, 4.75925356e-02, 1.11400913e-02],\n",
      "       [3.61916833e-02, 0.00000000e+00, 0.00000000e+00, 0.00000000e+00,\n",
      "        1.03749655e-01, 7.24605750e-04, 0.00000000e+00, 0.00000000e+00,\n",
      "        3.70004997e-02, 2.68608183e-02, 2.36241184e-02, 8.81871767e-03,\n",
      "        0.00000000e+00, 0.00000000e+00, 2.25565508e-02, 0.00000000e+00,\n",
      "        3.54701802e-02, 0.00000000e+00, 3.04226633e-02, 0.00000000e+00,\n",
      "        2.78190002e-02, 0.00000000e+00, 0.00000000e+00, 0.00000000e+00,\n",
      "        4.81672352e-03, 0.00000000e+00, 0.00000000e+00, 5.61924614e-02,\n",
      "        0.00000000e+00, 1.61199048e-02, 0.00000000e+00, 1.39540499e-02,\n",
      "        2.59837583e-02, 7.90622458e-03, 4.93350811e-02, 2.96392031e-02,\n",
      "        4.93565053e-02, 1.64168067e-02, 6.18806481e-02, 1.91908535e-02,\n",
      "        0.00000000e+00, 0.00000000e+00, 3.98237407e-02, 5.04816920e-02,\n",
      "        6.16945419e-03, 1.61698814e-02, 2.16191635e-04, 4.73770173e-03,\n",
      "        2.70854160e-02, 0.00000000e+00, 0.00000000e+00, 1.05980095e-02,\n",
      "        2.56936997e-02, 4.80352864e-02, 0.00000000e+00, 3.76777351e-03,\n",
      "        2.10668445e-02, 4.43507768e-02, 1.22035062e-03, 0.00000000e+00,\n",
      "        2.34184787e-03, 0.00000000e+00, 0.00000000e+00, 6.54366016e-02,\n",
      "        0.00000000e+00, 0.00000000e+00, 3.93178686e-03, 0.00000000e+00,\n",
      "        2.08939724e-02, 2.93593686e-02, 0.00000000e+00, 0.00000000e+00,\n",
      "        0.00000000e+00, 6.26251847e-03, 3.38764898e-02, 0.00000000e+00,\n",
      "        0.00000000e+00, 1.04693174e-02, 0.00000000e+00, 0.00000000e+00,\n",
      "        0.00000000e+00, 2.51295120e-02, 1.37854535e-02, 0.00000000e+00,\n",
      "        4.32717651e-02, 0.00000000e+00, 0.00000000e+00, 2.99941078e-02,\n",
      "        0.00000000e+00, 0.00000000e+00, 2.10770275e-02, 1.36654759e-02,\n",
      "        0.00000000e+00, 0.00000000e+00, 1.88100561e-02, 0.00000000e+00,\n",
      "        2.71179713e-02, 1.00933239e-02, 4.75925356e-02, 1.11400913e-02],\n",
      "       [3.61916833e-02, 0.00000000e+00, 0.00000000e+00, 0.00000000e+00,\n",
      "        1.03749655e-01, 7.24605750e-04, 0.00000000e+00, 0.00000000e+00,\n",
      "        3.70004997e-02, 2.68608183e-02, 2.36241184e-02, 8.81871767e-03,\n",
      "        0.00000000e+00, 0.00000000e+00, 2.25565508e-02, 0.00000000e+00,\n",
      "        3.54701802e-02, 0.00000000e+00, 3.04226633e-02, 0.00000000e+00,\n",
      "        2.78190002e-02, 0.00000000e+00, 0.00000000e+00, 0.00000000e+00,\n",
      "        4.81672352e-03, 0.00000000e+00, 0.00000000e+00, 5.61924614e-02,\n",
      "        0.00000000e+00, 1.61199048e-02, 0.00000000e+00, 1.39540499e-02,\n",
      "        2.59837583e-02, 7.90622458e-03, 4.93350811e-02, 2.96392031e-02,\n",
      "        4.93565053e-02, 1.64168067e-02, 6.18806481e-02, 1.91908535e-02,\n",
      "        0.00000000e+00, 0.00000000e+00, 3.98237407e-02, 5.04816920e-02,\n",
      "        6.16945419e-03, 1.61698814e-02, 2.16191635e-04, 4.73770173e-03,\n",
      "        2.70854160e-02, 0.00000000e+00, 0.00000000e+00, 1.05980095e-02,\n",
      "        2.56936997e-02, 4.80352864e-02, 0.00000000e+00, 3.76777351e-03,\n",
      "        2.10668445e-02, 4.43507768e-02, 1.22035062e-03, 0.00000000e+00,\n",
      "        2.34184787e-03, 0.00000000e+00, 0.00000000e+00, 6.54366016e-02,\n",
      "        0.00000000e+00, 0.00000000e+00, 3.93178686e-03, 0.00000000e+00,\n",
      "        2.08939724e-02, 2.93593686e-02, 0.00000000e+00, 0.00000000e+00,\n",
      "        0.00000000e+00, 6.26251847e-03, 3.38764898e-02, 0.00000000e+00,\n",
      "        0.00000000e+00, 1.04693174e-02, 0.00000000e+00, 0.00000000e+00,\n",
      "        0.00000000e+00, 2.51295120e-02, 1.37854535e-02, 0.00000000e+00,\n",
      "        4.32717651e-02, 0.00000000e+00, 0.00000000e+00, 2.99941078e-02,\n",
      "        0.00000000e+00, 0.00000000e+00, 2.10770275e-02, 1.36654759e-02,\n",
      "        0.00000000e+00, 0.00000000e+00, 1.88100561e-02, 0.00000000e+00,\n",
      "        2.71179713e-02, 1.00933239e-02, 4.75925356e-02, 1.11400913e-02],\n",
      "       [6.30993675e-03, 0.00000000e+00, 0.00000000e+00, 0.00000000e+00,\n",
      "        8.32779408e-02, 0.00000000e+00, 8.10897327e-05, 0.00000000e+00,\n",
      "        7.54457572e-03, 2.24267989e-02, 1.48720909e-02, 2.20628437e-02,\n",
      "        0.00000000e+00, 0.00000000e+00, 1.72912367e-02, 0.00000000e+00,\n",
      "        2.49791779e-02, 0.00000000e+00, 3.53042223e-02, 0.00000000e+00,\n",
      "        4.32922691e-02, 0.00000000e+00, 2.68438179e-03, 0.00000000e+00,\n",
      "        0.00000000e+00, 0.00000000e+00, 0.00000000e+00, 4.58108485e-02,\n",
      "        0.00000000e+00, 2.44029285e-03, 0.00000000e+00, 0.00000000e+00,\n",
      "        1.59090832e-02, 1.78218831e-03, 5.46750501e-02, 4.06685472e-02,\n",
      "        4.28149030e-02, 1.69771668e-02, 3.53331566e-02, 2.74532828e-02,\n",
      "        0.00000000e+00, 5.79679385e-04, 4.77935784e-02, 2.31059473e-02,\n",
      "        5.07636694e-04, 3.27066593e-02, 1.35594066e-02, 2.80594788e-02,\n",
      "        4.22124518e-03, 0.00000000e+00, 0.00000000e+00, 0.00000000e+00,\n",
      "        2.44754348e-02, 4.65964116e-02, 0.00000000e+00, 3.00596431e-02,\n",
      "        0.00000000e+00, 3.20421830e-02, 0.00000000e+00, 6.03853073e-03,\n",
      "        0.00000000e+00, 0.00000000e+00, 0.00000000e+00, 5.71410432e-02,\n",
      "        0.00000000e+00, 0.00000000e+00, 3.73025313e-02, 0.00000000e+00,\n",
      "        7.18657067e-03, 2.27995515e-02, 0.00000000e+00, 1.89972110e-03,\n",
      "        0.00000000e+00, 2.10641585e-02, 0.00000000e+00, 0.00000000e+00,\n",
      "        0.00000000e+00, 2.21701637e-02, 0.00000000e+00, 0.00000000e+00,\n",
      "        0.00000000e+00, 9.78709571e-03, 5.23827923e-03, 0.00000000e+00,\n",
      "        3.65940146e-02, 0.00000000e+00, 0.00000000e+00, 1.54686216e-02,\n",
      "        1.13911740e-03, 1.48893576e-02, 0.00000000e+00, 2.45285667e-02,\n",
      "        0.00000000e+00, 0.00000000e+00, 0.00000000e+00, 0.00000000e+00,\n",
      "        1.74011495e-02, 0.00000000e+00, 3.77052799e-02, 2.80703809e-02]],\n",
      "      dtype=float32)>, <tf.Tensor: shape=(6, 6), dtype=float32, numpy=\n",
      "array([[1., 1., 1., 1., 1., 0.],\n",
      "       [1., 1., 0., 0., 0., 1.],\n",
      "       [1., 0., 1., 0., 0., 0.],\n",
      "       [1., 0., 0., 1., 0., 0.],\n",
      "       [1., 0., 0., 0., 1., 0.],\n",
      "       [0., 1., 0., 0., 0., 1.]], dtype=float32)>)\n",
      "TensorShape([6, 100])\n"
     ]
    },
    {
     "data": {
      "text/plain": [
       "<tf.Tensor: shape=(1, 1), dtype=float32, numpy=array([[0.04472245]], dtype=float32)>"
      ]
     },
     "execution_count": 229,
     "metadata": {},
     "output_type": "execute_result"
    }
   ],
   "source": [
    "nodes, adj = gen_smiles2graph('CO')\n",
    "model((nodes, adj))"
   ]
  },
  {
   "cell_type": "markdown",
   "metadata": {},
   "source": [
    "It outputs one number! That's always nice to have. Now we need to do some work to get a trainable dataset. Our dataset is a little bit complex because our features are tuples of tensors($\\mathbf{V}, \\mathbf{E}$) so that our dataset is a tuple of tuples: $\\left((\\mathbf{V}, \\mathbf{E}), y\\right)$. We use a **generator**, which is just a python function that can return multiple times. Our function returns once for every training example. Then we have to pass it to the `from_generator` dataset constructor which requires explicit declaration of the shapes of these examples. "
   ]
  },
  {
   "cell_type": "code",
   "execution_count": 230,
   "metadata": {},
   "outputs": [],
   "source": [
    "def example():\n",
    "    for i in range(len(soldata)):\n",
    "        graph = gen_smiles2graph(soldata.SMILES[i])        \n",
    "        sol = soldata.Solubility[i]\n",
    "        yield graph, sol\n",
    "data = tf.data.Dataset.from_generator(example, output_types=((tf.float32, tf.float32), tf.float32), \n",
    "                                      output_shapes=((tf.TensorShape([None, 100]), tf.TensorShape([None, None])), tf.TensorShape([])))"
   ]
  },
  {
   "cell_type": "markdown",
   "metadata": {},
   "source": [
    "Whew, that's a lot. Now we can do our usual splitting of the dataset."
   ]
  },
  {
   "cell_type": "code",
   "execution_count": 223,
   "metadata": {},
   "outputs": [],
   "source": [
    "test_data = data.take(200)\n",
    "val_data = data.skip(200).take(200)\n",
    "train_data = data.skip(400)"
   ]
  },
  {
   "cell_type": "markdown",
   "metadata": {},
   "source": [
    "And finally, time to train."
   ]
  },
  {
   "cell_type": "code",
   "execution_count": 224,
   "metadata": {},
   "outputs": [
    {
     "name": "stdout",
     "output_type": "stream",
     "text": [
      "Epoch 1/10\n",
      "[<tf.Tensor 'IteratorGetNext:0' shape=(None, 100) dtype=float32>, <tf.Tensor 'IteratorGetNext:1' shape=(None, None) dtype=float32>]\n",
      "(<tf.Tensor 'functional_40/gcn_layer_88/Relu:0' shape=(None, 100) dtype=float32>, <tf.Tensor 'IteratorGetNext:1' shape=(None, None) dtype=float32>)\n",
      "(<tf.Tensor 'functional_40/gcn_layer_89/Relu:0' shape=(None, 100) dtype=float32>, <tf.Tensor 'IteratorGetNext:1' shape=(None, None) dtype=float32>)\n",
      "(<tf.Tensor 'functional_40/gcn_layer_90/Relu:0' shape=(None, 100) dtype=float32>, <tf.Tensor 'IteratorGetNext:1' shape=(None, None) dtype=float32>)\n"
     ]
    },
    {
     "ename": "ValueError",
     "evalue": "in user code:\n\n    /home/whitead/miniconda3/envs/mmm/lib/python3.7/site-packages/tensorflow/python/keras/engine/training.py:806 train_function  *\n        return step_function(self, iterator)\n    /home/whitead/miniconda3/envs/mmm/lib/python3.7/site-packages/tensorflow/python/keras/engine/training.py:796 step_function  **\n        outputs = model.distribute_strategy.run(run_step, args=(data,))\n    /home/whitead/miniconda3/envs/mmm/lib/python3.7/site-packages/tensorflow/python/distribute/distribute_lib.py:1211 run\n        return self._extended.call_for_each_replica(fn, args=args, kwargs=kwargs)\n    /home/whitead/miniconda3/envs/mmm/lib/python3.7/site-packages/tensorflow/python/distribute/distribute_lib.py:2585 call_for_each_replica\n        return self._call_for_each_replica(fn, args, kwargs)\n    /home/whitead/miniconda3/envs/mmm/lib/python3.7/site-packages/tensorflow/python/distribute/distribute_lib.py:2945 _call_for_each_replica\n        return fn(*args, **kwargs)\n    /home/whitead/miniconda3/envs/mmm/lib/python3.7/site-packages/tensorflow/python/keras/engine/training.py:789 run_step  **\n        outputs = model.train_step(data)\n    /home/whitead/miniconda3/envs/mmm/lib/python3.7/site-packages/tensorflow/python/keras/engine/training.py:749 train_step\n        y, y_pred, sample_weight, regularization_losses=self.losses)\n    /home/whitead/miniconda3/envs/mmm/lib/python3.7/site-packages/tensorflow/python/keras/engine/compile_utils.py:212 __call__\n        batch_dim = array_ops.shape(y_t)[0]\n    /home/whitead/miniconda3/envs/mmm/lib/python3.7/site-packages/tensorflow/python/util/dispatch.py:201 wrapper\n        return target(*args, **kwargs)\n    /home/whitead/miniconda3/envs/mmm/lib/python3.7/site-packages/tensorflow/python/ops/array_ops.py:1024 _slice_helper\n        name=name)\n    /home/whitead/miniconda3/envs/mmm/lib/python3.7/site-packages/tensorflow/python/util/dispatch.py:201 wrapper\n        return target(*args, **kwargs)\n    /home/whitead/miniconda3/envs/mmm/lib/python3.7/site-packages/tensorflow/python/ops/array_ops.py:1196 strided_slice\n        shrink_axis_mask=shrink_axis_mask)\n    /home/whitead/miniconda3/envs/mmm/lib/python3.7/site-packages/tensorflow/python/ops/gen_array_ops.py:10352 strided_slice\n        shrink_axis_mask=shrink_axis_mask, name=name)\n    /home/whitead/miniconda3/envs/mmm/lib/python3.7/site-packages/tensorflow/python/framework/op_def_library.py:744 _apply_op_helper\n        attrs=attr_protos, op_def=op_def)\n    /home/whitead/miniconda3/envs/mmm/lib/python3.7/site-packages/tensorflow/python/framework/func_graph.py:593 _create_op_internal\n        compute_device)\n    /home/whitead/miniconda3/envs/mmm/lib/python3.7/site-packages/tensorflow/python/framework/ops.py:3485 _create_op_internal\n        op_def=op_def)\n    /home/whitead/miniconda3/envs/mmm/lib/python3.7/site-packages/tensorflow/python/framework/ops.py:1975 __init__\n        control_input_ops, op_def)\n    /home/whitead/miniconda3/envs/mmm/lib/python3.7/site-packages/tensorflow/python/framework/ops.py:1815 _create_c_op\n        raise ValueError(str(e))\n\n    ValueError: slice index 0 of dimension 0 out of bounds. for '{{node strided_slice}} = StridedSlice[Index=DT_INT32, T=DT_INT32, begin_mask=0, ellipsis_mask=0, end_mask=0, new_axis_mask=0, shrink_axis_mask=1](Shape, strided_slice/stack, strided_slice/stack_1, strided_slice/stack_2)' with input shapes: [0], [1], [1], [1] and with computed input tensors: input[1] = <0>, input[2] = <1>, input[3] = <1>.\n",
     "output_type": "error",
     "traceback": [
      "\u001b[0;31m---------------------------------------------------------------------------\u001b[0m",
      "\u001b[0;31mValueError\u001b[0m                                Traceback (most recent call last)",
      "\u001b[0;32m<ipython-input-224-811111610524>\u001b[0m in \u001b[0;36m<module>\u001b[0;34m\u001b[0m\n\u001b[1;32m      1\u001b[0m \u001b[0mmodel\u001b[0m\u001b[0;34m.\u001b[0m\u001b[0mcompile\u001b[0m\u001b[0;34m(\u001b[0m\u001b[0;34m'adam'\u001b[0m\u001b[0;34m,\u001b[0m \u001b[0mloss\u001b[0m\u001b[0;34m=\u001b[0m\u001b[0;34m'mean_squared_error'\u001b[0m\u001b[0;34m)\u001b[0m\u001b[0;34m\u001b[0m\u001b[0;34m\u001b[0m\u001b[0m\n\u001b[0;32m----> 2\u001b[0;31m \u001b[0mresult\u001b[0m \u001b[0;34m=\u001b[0m \u001b[0mmodel\u001b[0m\u001b[0;34m.\u001b[0m\u001b[0mfit\u001b[0m\u001b[0;34m(\u001b[0m\u001b[0mtrain_data\u001b[0m\u001b[0;34m,\u001b[0m \u001b[0mepochs\u001b[0m\u001b[0;34m=\u001b[0m\u001b[0;36m10\u001b[0m\u001b[0;34m)\u001b[0m\u001b[0;34m\u001b[0m\u001b[0;34m\u001b[0m\u001b[0m\n\u001b[0m",
      "\u001b[0;32m~/miniconda3/envs/mmm/lib/python3.7/site-packages/tensorflow/python/keras/engine/training.py\u001b[0m in \u001b[0;36m_method_wrapper\u001b[0;34m(self, *args, **kwargs)\u001b[0m\n\u001b[1;32m    106\u001b[0m   \u001b[0;32mdef\u001b[0m \u001b[0m_method_wrapper\u001b[0m\u001b[0;34m(\u001b[0m\u001b[0mself\u001b[0m\u001b[0;34m,\u001b[0m \u001b[0;34m*\u001b[0m\u001b[0margs\u001b[0m\u001b[0;34m,\u001b[0m \u001b[0;34m**\u001b[0m\u001b[0mkwargs\u001b[0m\u001b[0;34m)\u001b[0m\u001b[0;34m:\u001b[0m\u001b[0;34m\u001b[0m\u001b[0;34m\u001b[0m\u001b[0m\n\u001b[1;32m    107\u001b[0m     \u001b[0;32mif\u001b[0m \u001b[0;32mnot\u001b[0m \u001b[0mself\u001b[0m\u001b[0;34m.\u001b[0m\u001b[0m_in_multi_worker_mode\u001b[0m\u001b[0;34m(\u001b[0m\u001b[0;34m)\u001b[0m\u001b[0;34m:\u001b[0m  \u001b[0;31m# pylint: disable=protected-access\u001b[0m\u001b[0;34m\u001b[0m\u001b[0;34m\u001b[0m\u001b[0m\n\u001b[0;32m--> 108\u001b[0;31m       \u001b[0;32mreturn\u001b[0m \u001b[0mmethod\u001b[0m\u001b[0;34m(\u001b[0m\u001b[0mself\u001b[0m\u001b[0;34m,\u001b[0m \u001b[0;34m*\u001b[0m\u001b[0margs\u001b[0m\u001b[0;34m,\u001b[0m \u001b[0;34m**\u001b[0m\u001b[0mkwargs\u001b[0m\u001b[0;34m)\u001b[0m\u001b[0;34m\u001b[0m\u001b[0;34m\u001b[0m\u001b[0m\n\u001b[0m\u001b[1;32m    109\u001b[0m \u001b[0;34m\u001b[0m\u001b[0m\n\u001b[1;32m    110\u001b[0m     \u001b[0;31m# Running inside `run_distribute_coordinator` already.\u001b[0m\u001b[0;34m\u001b[0m\u001b[0;34m\u001b[0m\u001b[0;34m\u001b[0m\u001b[0m\n",
      "\u001b[0;32m~/miniconda3/envs/mmm/lib/python3.7/site-packages/tensorflow/python/keras/engine/training.py\u001b[0m in \u001b[0;36mfit\u001b[0;34m(self, x, y, batch_size, epochs, verbose, callbacks, validation_split, validation_data, shuffle, class_weight, sample_weight, initial_epoch, steps_per_epoch, validation_steps, validation_batch_size, validation_freq, max_queue_size, workers, use_multiprocessing)\u001b[0m\n\u001b[1;32m   1096\u001b[0m                 batch_size=batch_size):\n\u001b[1;32m   1097\u001b[0m               \u001b[0mcallbacks\u001b[0m\u001b[0;34m.\u001b[0m\u001b[0mon_train_batch_begin\u001b[0m\u001b[0;34m(\u001b[0m\u001b[0mstep\u001b[0m\u001b[0;34m)\u001b[0m\u001b[0;34m\u001b[0m\u001b[0;34m\u001b[0m\u001b[0m\n\u001b[0;32m-> 1098\u001b[0;31m               \u001b[0mtmp_logs\u001b[0m \u001b[0;34m=\u001b[0m \u001b[0mtrain_function\u001b[0m\u001b[0;34m(\u001b[0m\u001b[0miterator\u001b[0m\u001b[0;34m)\u001b[0m\u001b[0;34m\u001b[0m\u001b[0;34m\u001b[0m\u001b[0m\n\u001b[0m\u001b[1;32m   1099\u001b[0m               \u001b[0;32mif\u001b[0m \u001b[0mdata_handler\u001b[0m\u001b[0;34m.\u001b[0m\u001b[0mshould_sync\u001b[0m\u001b[0;34m:\u001b[0m\u001b[0;34m\u001b[0m\u001b[0;34m\u001b[0m\u001b[0m\n\u001b[1;32m   1100\u001b[0m                 \u001b[0mcontext\u001b[0m\u001b[0;34m.\u001b[0m\u001b[0masync_wait\u001b[0m\u001b[0;34m(\u001b[0m\u001b[0;34m)\u001b[0m\u001b[0;34m\u001b[0m\u001b[0;34m\u001b[0m\u001b[0m\n",
      "\u001b[0;32m~/miniconda3/envs/mmm/lib/python3.7/site-packages/tensorflow/python/eager/def_function.py\u001b[0m in \u001b[0;36m__call__\u001b[0;34m(self, *args, **kwds)\u001b[0m\n\u001b[1;32m    778\u001b[0m       \u001b[0;32melse\u001b[0m\u001b[0;34m:\u001b[0m\u001b[0;34m\u001b[0m\u001b[0;34m\u001b[0m\u001b[0m\n\u001b[1;32m    779\u001b[0m         \u001b[0mcompiler\u001b[0m \u001b[0;34m=\u001b[0m \u001b[0;34m\"nonXla\"\u001b[0m\u001b[0;34m\u001b[0m\u001b[0;34m\u001b[0m\u001b[0m\n\u001b[0;32m--> 780\u001b[0;31m         \u001b[0mresult\u001b[0m \u001b[0;34m=\u001b[0m \u001b[0mself\u001b[0m\u001b[0;34m.\u001b[0m\u001b[0m_call\u001b[0m\u001b[0;34m(\u001b[0m\u001b[0;34m*\u001b[0m\u001b[0margs\u001b[0m\u001b[0;34m,\u001b[0m \u001b[0;34m**\u001b[0m\u001b[0mkwds\u001b[0m\u001b[0;34m)\u001b[0m\u001b[0;34m\u001b[0m\u001b[0;34m\u001b[0m\u001b[0m\n\u001b[0m\u001b[1;32m    781\u001b[0m \u001b[0;34m\u001b[0m\u001b[0m\n\u001b[1;32m    782\u001b[0m       \u001b[0mnew_tracing_count\u001b[0m \u001b[0;34m=\u001b[0m \u001b[0mself\u001b[0m\u001b[0;34m.\u001b[0m\u001b[0m_get_tracing_count\u001b[0m\u001b[0;34m(\u001b[0m\u001b[0;34m)\u001b[0m\u001b[0;34m\u001b[0m\u001b[0;34m\u001b[0m\u001b[0m\n",
      "\u001b[0;32m~/miniconda3/envs/mmm/lib/python3.7/site-packages/tensorflow/python/eager/def_function.py\u001b[0m in \u001b[0;36m_call\u001b[0;34m(self, *args, **kwds)\u001b[0m\n\u001b[1;32m    821\u001b[0m       \u001b[0;31m# This is the first call of __call__, so we have to initialize.\u001b[0m\u001b[0;34m\u001b[0m\u001b[0;34m\u001b[0m\u001b[0;34m\u001b[0m\u001b[0m\n\u001b[1;32m    822\u001b[0m       \u001b[0minitializers\u001b[0m \u001b[0;34m=\u001b[0m \u001b[0;34m[\u001b[0m\u001b[0;34m]\u001b[0m\u001b[0;34m\u001b[0m\u001b[0;34m\u001b[0m\u001b[0m\n\u001b[0;32m--> 823\u001b[0;31m       \u001b[0mself\u001b[0m\u001b[0;34m.\u001b[0m\u001b[0m_initialize\u001b[0m\u001b[0;34m(\u001b[0m\u001b[0margs\u001b[0m\u001b[0;34m,\u001b[0m \u001b[0mkwds\u001b[0m\u001b[0;34m,\u001b[0m \u001b[0madd_initializers_to\u001b[0m\u001b[0;34m=\u001b[0m\u001b[0minitializers\u001b[0m\u001b[0;34m)\u001b[0m\u001b[0;34m\u001b[0m\u001b[0;34m\u001b[0m\u001b[0m\n\u001b[0m\u001b[1;32m    824\u001b[0m     \u001b[0;32mfinally\u001b[0m\u001b[0;34m:\u001b[0m\u001b[0;34m\u001b[0m\u001b[0;34m\u001b[0m\u001b[0m\n\u001b[1;32m    825\u001b[0m       \u001b[0;31m# At this point we know that the initialization is complete (or less\u001b[0m\u001b[0;34m\u001b[0m\u001b[0;34m\u001b[0m\u001b[0;34m\u001b[0m\u001b[0m\n",
      "\u001b[0;32m~/miniconda3/envs/mmm/lib/python3.7/site-packages/tensorflow/python/eager/def_function.py\u001b[0m in \u001b[0;36m_initialize\u001b[0;34m(self, args, kwds, add_initializers_to)\u001b[0m\n\u001b[1;32m    695\u001b[0m     self._concrete_stateful_fn = (\n\u001b[1;32m    696\u001b[0m         self._stateful_fn._get_concrete_function_internal_garbage_collected(  # pylint: disable=protected-access\n\u001b[0;32m--> 697\u001b[0;31m             *args, **kwds))\n\u001b[0m\u001b[1;32m    698\u001b[0m \u001b[0;34m\u001b[0m\u001b[0m\n\u001b[1;32m    699\u001b[0m     \u001b[0;32mdef\u001b[0m \u001b[0minvalid_creator_scope\u001b[0m\u001b[0;34m(\u001b[0m\u001b[0;34m*\u001b[0m\u001b[0munused_args\u001b[0m\u001b[0;34m,\u001b[0m \u001b[0;34m**\u001b[0m\u001b[0munused_kwds\u001b[0m\u001b[0;34m)\u001b[0m\u001b[0;34m:\u001b[0m\u001b[0;34m\u001b[0m\u001b[0;34m\u001b[0m\u001b[0m\n",
      "\u001b[0;32m~/miniconda3/envs/mmm/lib/python3.7/site-packages/tensorflow/python/eager/function.py\u001b[0m in \u001b[0;36m_get_concrete_function_internal_garbage_collected\u001b[0;34m(self, *args, **kwargs)\u001b[0m\n\u001b[1;32m   2853\u001b[0m       \u001b[0margs\u001b[0m\u001b[0;34m,\u001b[0m \u001b[0mkwargs\u001b[0m \u001b[0;34m=\u001b[0m \u001b[0;32mNone\u001b[0m\u001b[0;34m,\u001b[0m \u001b[0;32mNone\u001b[0m\u001b[0;34m\u001b[0m\u001b[0;34m\u001b[0m\u001b[0m\n\u001b[1;32m   2854\u001b[0m     \u001b[0;32mwith\u001b[0m \u001b[0mself\u001b[0m\u001b[0;34m.\u001b[0m\u001b[0m_lock\u001b[0m\u001b[0;34m:\u001b[0m\u001b[0;34m\u001b[0m\u001b[0;34m\u001b[0m\u001b[0m\n\u001b[0;32m-> 2855\u001b[0;31m       \u001b[0mgraph_function\u001b[0m\u001b[0;34m,\u001b[0m \u001b[0m_\u001b[0m\u001b[0;34m,\u001b[0m \u001b[0m_\u001b[0m \u001b[0;34m=\u001b[0m \u001b[0mself\u001b[0m\u001b[0;34m.\u001b[0m\u001b[0m_maybe_define_function\u001b[0m\u001b[0;34m(\u001b[0m\u001b[0margs\u001b[0m\u001b[0;34m,\u001b[0m \u001b[0mkwargs\u001b[0m\u001b[0;34m)\u001b[0m\u001b[0;34m\u001b[0m\u001b[0;34m\u001b[0m\u001b[0m\n\u001b[0m\u001b[1;32m   2856\u001b[0m     \u001b[0;32mreturn\u001b[0m \u001b[0mgraph_function\u001b[0m\u001b[0;34m\u001b[0m\u001b[0;34m\u001b[0m\u001b[0m\n\u001b[1;32m   2857\u001b[0m \u001b[0;34m\u001b[0m\u001b[0m\n",
      "\u001b[0;32m~/miniconda3/envs/mmm/lib/python3.7/site-packages/tensorflow/python/eager/function.py\u001b[0m in \u001b[0;36m_maybe_define_function\u001b[0;34m(self, args, kwargs)\u001b[0m\n\u001b[1;32m   3211\u001b[0m \u001b[0;34m\u001b[0m\u001b[0m\n\u001b[1;32m   3212\u001b[0m       \u001b[0mself\u001b[0m\u001b[0;34m.\u001b[0m\u001b[0m_function_cache\u001b[0m\u001b[0;34m.\u001b[0m\u001b[0mmissed\u001b[0m\u001b[0;34m.\u001b[0m\u001b[0madd\u001b[0m\u001b[0;34m(\u001b[0m\u001b[0mcall_context_key\u001b[0m\u001b[0;34m)\u001b[0m\u001b[0;34m\u001b[0m\u001b[0;34m\u001b[0m\u001b[0m\n\u001b[0;32m-> 3213\u001b[0;31m       \u001b[0mgraph_function\u001b[0m \u001b[0;34m=\u001b[0m \u001b[0mself\u001b[0m\u001b[0;34m.\u001b[0m\u001b[0m_create_graph_function\u001b[0m\u001b[0;34m(\u001b[0m\u001b[0margs\u001b[0m\u001b[0;34m,\u001b[0m \u001b[0mkwargs\u001b[0m\u001b[0;34m)\u001b[0m\u001b[0;34m\u001b[0m\u001b[0;34m\u001b[0m\u001b[0m\n\u001b[0m\u001b[1;32m   3214\u001b[0m       \u001b[0mself\u001b[0m\u001b[0;34m.\u001b[0m\u001b[0m_function_cache\u001b[0m\u001b[0;34m.\u001b[0m\u001b[0mprimary\u001b[0m\u001b[0;34m[\u001b[0m\u001b[0mcache_key\u001b[0m\u001b[0;34m]\u001b[0m \u001b[0;34m=\u001b[0m \u001b[0mgraph_function\u001b[0m\u001b[0;34m\u001b[0m\u001b[0;34m\u001b[0m\u001b[0m\n\u001b[1;32m   3215\u001b[0m       \u001b[0;32mreturn\u001b[0m \u001b[0mgraph_function\u001b[0m\u001b[0;34m,\u001b[0m \u001b[0margs\u001b[0m\u001b[0;34m,\u001b[0m \u001b[0mkwargs\u001b[0m\u001b[0;34m\u001b[0m\u001b[0;34m\u001b[0m\u001b[0m\n",
      "\u001b[0;32m~/miniconda3/envs/mmm/lib/python3.7/site-packages/tensorflow/python/eager/function.py\u001b[0m in \u001b[0;36m_create_graph_function\u001b[0;34m(self, args, kwargs, override_flat_arg_shapes)\u001b[0m\n\u001b[1;32m   3073\u001b[0m             \u001b[0marg_names\u001b[0m\u001b[0;34m=\u001b[0m\u001b[0marg_names\u001b[0m\u001b[0;34m,\u001b[0m\u001b[0;34m\u001b[0m\u001b[0;34m\u001b[0m\u001b[0m\n\u001b[1;32m   3074\u001b[0m             \u001b[0moverride_flat_arg_shapes\u001b[0m\u001b[0;34m=\u001b[0m\u001b[0moverride_flat_arg_shapes\u001b[0m\u001b[0;34m,\u001b[0m\u001b[0;34m\u001b[0m\u001b[0;34m\u001b[0m\u001b[0m\n\u001b[0;32m-> 3075\u001b[0;31m             capture_by_value=self._capture_by_value),\n\u001b[0m\u001b[1;32m   3076\u001b[0m         \u001b[0mself\u001b[0m\u001b[0;34m.\u001b[0m\u001b[0m_function_attributes\u001b[0m\u001b[0;34m,\u001b[0m\u001b[0;34m\u001b[0m\u001b[0;34m\u001b[0m\u001b[0m\n\u001b[1;32m   3077\u001b[0m         \u001b[0mfunction_spec\u001b[0m\u001b[0;34m=\u001b[0m\u001b[0mself\u001b[0m\u001b[0;34m.\u001b[0m\u001b[0mfunction_spec\u001b[0m\u001b[0;34m,\u001b[0m\u001b[0;34m\u001b[0m\u001b[0;34m\u001b[0m\u001b[0m\n",
      "\u001b[0;32m~/miniconda3/envs/mmm/lib/python3.7/site-packages/tensorflow/python/framework/func_graph.py\u001b[0m in \u001b[0;36mfunc_graph_from_py_func\u001b[0;34m(name, python_func, args, kwargs, signature, func_graph, autograph, autograph_options, add_control_dependencies, arg_names, op_return_value, collections, capture_by_value, override_flat_arg_shapes)\u001b[0m\n\u001b[1;32m    984\u001b[0m         \u001b[0m_\u001b[0m\u001b[0;34m,\u001b[0m \u001b[0moriginal_func\u001b[0m \u001b[0;34m=\u001b[0m \u001b[0mtf_decorator\u001b[0m\u001b[0;34m.\u001b[0m\u001b[0munwrap\u001b[0m\u001b[0;34m(\u001b[0m\u001b[0mpython_func\u001b[0m\u001b[0;34m)\u001b[0m\u001b[0;34m\u001b[0m\u001b[0;34m\u001b[0m\u001b[0m\n\u001b[1;32m    985\u001b[0m \u001b[0;34m\u001b[0m\u001b[0m\n\u001b[0;32m--> 986\u001b[0;31m       \u001b[0mfunc_outputs\u001b[0m \u001b[0;34m=\u001b[0m \u001b[0mpython_func\u001b[0m\u001b[0;34m(\u001b[0m\u001b[0;34m*\u001b[0m\u001b[0mfunc_args\u001b[0m\u001b[0;34m,\u001b[0m \u001b[0;34m**\u001b[0m\u001b[0mfunc_kwargs\u001b[0m\u001b[0;34m)\u001b[0m\u001b[0;34m\u001b[0m\u001b[0;34m\u001b[0m\u001b[0m\n\u001b[0m\u001b[1;32m    987\u001b[0m \u001b[0;34m\u001b[0m\u001b[0m\n\u001b[1;32m    988\u001b[0m       \u001b[0;31m# invariant: `func_outputs` contains only Tensors, CompositeTensors,\u001b[0m\u001b[0;34m\u001b[0m\u001b[0;34m\u001b[0m\u001b[0;34m\u001b[0m\u001b[0m\n",
      "\u001b[0;32m~/miniconda3/envs/mmm/lib/python3.7/site-packages/tensorflow/python/eager/def_function.py\u001b[0m in \u001b[0;36mwrapped_fn\u001b[0;34m(*args, **kwds)\u001b[0m\n\u001b[1;32m    598\u001b[0m         \u001b[0;31m# __wrapped__ allows AutoGraph to swap in a converted function. We give\u001b[0m\u001b[0;34m\u001b[0m\u001b[0;34m\u001b[0m\u001b[0;34m\u001b[0m\u001b[0m\n\u001b[1;32m    599\u001b[0m         \u001b[0;31m# the function a weak reference to itself to avoid a reference cycle.\u001b[0m\u001b[0;34m\u001b[0m\u001b[0;34m\u001b[0m\u001b[0;34m\u001b[0m\u001b[0m\n\u001b[0;32m--> 600\u001b[0;31m         \u001b[0;32mreturn\u001b[0m \u001b[0mweak_wrapped_fn\u001b[0m\u001b[0;34m(\u001b[0m\u001b[0;34m)\u001b[0m\u001b[0;34m.\u001b[0m\u001b[0m__wrapped__\u001b[0m\u001b[0;34m(\u001b[0m\u001b[0;34m*\u001b[0m\u001b[0margs\u001b[0m\u001b[0;34m,\u001b[0m \u001b[0;34m**\u001b[0m\u001b[0mkwds\u001b[0m\u001b[0;34m)\u001b[0m\u001b[0;34m\u001b[0m\u001b[0;34m\u001b[0m\u001b[0m\n\u001b[0m\u001b[1;32m    601\u001b[0m     \u001b[0mweak_wrapped_fn\u001b[0m \u001b[0;34m=\u001b[0m \u001b[0mweakref\u001b[0m\u001b[0;34m.\u001b[0m\u001b[0mref\u001b[0m\u001b[0;34m(\u001b[0m\u001b[0mwrapped_fn\u001b[0m\u001b[0;34m)\u001b[0m\u001b[0;34m\u001b[0m\u001b[0;34m\u001b[0m\u001b[0m\n\u001b[1;32m    602\u001b[0m \u001b[0;34m\u001b[0m\u001b[0m\n",
      "\u001b[0;32m~/miniconda3/envs/mmm/lib/python3.7/site-packages/tensorflow/python/framework/func_graph.py\u001b[0m in \u001b[0;36mwrapper\u001b[0;34m(*args, **kwargs)\u001b[0m\n\u001b[1;32m    971\u001b[0m           \u001b[0;32mexcept\u001b[0m \u001b[0mException\u001b[0m \u001b[0;32mas\u001b[0m \u001b[0me\u001b[0m\u001b[0;34m:\u001b[0m  \u001b[0;31m# pylint:disable=broad-except\u001b[0m\u001b[0;34m\u001b[0m\u001b[0;34m\u001b[0m\u001b[0m\n\u001b[1;32m    972\u001b[0m             \u001b[0;32mif\u001b[0m \u001b[0mhasattr\u001b[0m\u001b[0;34m(\u001b[0m\u001b[0me\u001b[0m\u001b[0;34m,\u001b[0m \u001b[0;34m\"ag_error_metadata\"\u001b[0m\u001b[0;34m)\u001b[0m\u001b[0;34m:\u001b[0m\u001b[0;34m\u001b[0m\u001b[0;34m\u001b[0m\u001b[0m\n\u001b[0;32m--> 973\u001b[0;31m               \u001b[0;32mraise\u001b[0m \u001b[0me\u001b[0m\u001b[0;34m.\u001b[0m\u001b[0mag_error_metadata\u001b[0m\u001b[0;34m.\u001b[0m\u001b[0mto_exception\u001b[0m\u001b[0;34m(\u001b[0m\u001b[0me\u001b[0m\u001b[0;34m)\u001b[0m\u001b[0;34m\u001b[0m\u001b[0;34m\u001b[0m\u001b[0m\n\u001b[0m\u001b[1;32m    974\u001b[0m             \u001b[0;32melse\u001b[0m\u001b[0;34m:\u001b[0m\u001b[0;34m\u001b[0m\u001b[0;34m\u001b[0m\u001b[0m\n\u001b[1;32m    975\u001b[0m               \u001b[0;32mraise\u001b[0m\u001b[0;34m\u001b[0m\u001b[0;34m\u001b[0m\u001b[0m\n",
      "\u001b[0;31mValueError\u001b[0m: in user code:\n\n    /home/whitead/miniconda3/envs/mmm/lib/python3.7/site-packages/tensorflow/python/keras/engine/training.py:806 train_function  *\n        return step_function(self, iterator)\n    /home/whitead/miniconda3/envs/mmm/lib/python3.7/site-packages/tensorflow/python/keras/engine/training.py:796 step_function  **\n        outputs = model.distribute_strategy.run(run_step, args=(data,))\n    /home/whitead/miniconda3/envs/mmm/lib/python3.7/site-packages/tensorflow/python/distribute/distribute_lib.py:1211 run\n        return self._extended.call_for_each_replica(fn, args=args, kwargs=kwargs)\n    /home/whitead/miniconda3/envs/mmm/lib/python3.7/site-packages/tensorflow/python/distribute/distribute_lib.py:2585 call_for_each_replica\n        return self._call_for_each_replica(fn, args, kwargs)\n    /home/whitead/miniconda3/envs/mmm/lib/python3.7/site-packages/tensorflow/python/distribute/distribute_lib.py:2945 _call_for_each_replica\n        return fn(*args, **kwargs)\n    /home/whitead/miniconda3/envs/mmm/lib/python3.7/site-packages/tensorflow/python/keras/engine/training.py:789 run_step  **\n        outputs = model.train_step(data)\n    /home/whitead/miniconda3/envs/mmm/lib/python3.7/site-packages/tensorflow/python/keras/engine/training.py:749 train_step\n        y, y_pred, sample_weight, regularization_losses=self.losses)\n    /home/whitead/miniconda3/envs/mmm/lib/python3.7/site-packages/tensorflow/python/keras/engine/compile_utils.py:212 __call__\n        batch_dim = array_ops.shape(y_t)[0]\n    /home/whitead/miniconda3/envs/mmm/lib/python3.7/site-packages/tensorflow/python/util/dispatch.py:201 wrapper\n        return target(*args, **kwargs)\n    /home/whitead/miniconda3/envs/mmm/lib/python3.7/site-packages/tensorflow/python/ops/array_ops.py:1024 _slice_helper\n        name=name)\n    /home/whitead/miniconda3/envs/mmm/lib/python3.7/site-packages/tensorflow/python/util/dispatch.py:201 wrapper\n        return target(*args, **kwargs)\n    /home/whitead/miniconda3/envs/mmm/lib/python3.7/site-packages/tensorflow/python/ops/array_ops.py:1196 strided_slice\n        shrink_axis_mask=shrink_axis_mask)\n    /home/whitead/miniconda3/envs/mmm/lib/python3.7/site-packages/tensorflow/python/ops/gen_array_ops.py:10352 strided_slice\n        shrink_axis_mask=shrink_axis_mask, name=name)\n    /home/whitead/miniconda3/envs/mmm/lib/python3.7/site-packages/tensorflow/python/framework/op_def_library.py:744 _apply_op_helper\n        attrs=attr_protos, op_def=op_def)\n    /home/whitead/miniconda3/envs/mmm/lib/python3.7/site-packages/tensorflow/python/framework/func_graph.py:593 _create_op_internal\n        compute_device)\n    /home/whitead/miniconda3/envs/mmm/lib/python3.7/site-packages/tensorflow/python/framework/ops.py:3485 _create_op_internal\n        op_def=op_def)\n    /home/whitead/miniconda3/envs/mmm/lib/python3.7/site-packages/tensorflow/python/framework/ops.py:1975 __init__\n        control_input_ops, op_def)\n    /home/whitead/miniconda3/envs/mmm/lib/python3.7/site-packages/tensorflow/python/framework/ops.py:1815 _create_c_op\n        raise ValueError(str(e))\n\n    ValueError: slice index 0 of dimension 0 out of bounds. for '{{node strided_slice}} = StridedSlice[Index=DT_INT32, T=DT_INT32, begin_mask=0, ellipsis_mask=0, end_mask=0, new_axis_mask=0, shrink_axis_mask=1](Shape, strided_slice/stack, strided_slice/stack_1, strided_slice/stack_2)' with input shapes: [0], [1], [1], [1] and with computed input tensors: input[1] = <0>, input[2] = <1>, input[3] = <1>.\n"
     ]
    }
   ],
   "source": [
    "model.compile('adam', loss='mean_squared_error')\n",
    "result = model.fit(train_data, epochs=10)"
   ]
  },
  {
   "cell_type": "markdown",
   "metadata": {},
   "source": [
    "TODO: Finish"
   ]
  },
  {
   "cell_type": "markdown",
   "metadata": {},
   "source": [
    "## Message Passing Viewpoint\n",
    "\n",
    "One way to more broadly view a GCN layer is that it is a kind of \"message-passing\" layer.\n",
    "\n",
    "## Gated Graph Neural Network\n",
    "\n"
   ]
  },
  {
   "cell_type": "markdown",
   "metadata": {},
   "source": [
    "## Battaglia General Equations\n",
    "\n",
    "In Battaglia et al {cite}`battaglia2018relational`, a general set of equations which captures nearly all GNNs was developed. They broke the GNN layer equations down into 3 update equations, which are like the GRU update in the GGN, and 3 aggregation equations, which are like summing over messages. There is one new idea here: graph feature vectors. A graph feature vector is a set of features which represent the whole graph or molecule. For example, when computing solubility it may have been useful to build-up a per-molecule feature vector that was eventually used to compute solubility. Any knid of per-molecule quantity like energy can be expressed as a graph-level feature vector. \n",
    "\n",
    "The first step in these equations is updating the edge feature vectors, written as $\\vec{e}_k$, which we haven't seen yet but is certainly possible:\n",
    "\n",
    "\\begin{equation}\n",
    "\\vec{e}^{'}_k = \\phi^e\\left( \\vec{e}_k, \\vec{v}_{rk}, \\vec{v}_{sk}, \\vec{u}\\right)\n",
    "\\end{equation}\n",
    "\n",
    "where $\\vec{e}_k$ is the feature vector of edge $k$, $\\vec{v}_{rk}$ is the receiving node feature vector for edge $k$, $\\vec{v}_{sk}$ is the sending node feature vector for edge $k$, $\\vec{u}$ is the global graph feature vector, and $\\phi^e$ is one of the three update functions that the define the GNN layer. Note that these are meant to be general expressions and you define $\\phi^e$ for your specific GNN layer. The output edge updates are then aggregated with the first aggregation function:\n",
    "\n",
    "\\begin{equation}\n",
    "\\bar{e}^{'}_i = \\rho^{e\\rightarrow v}\\left( E_i^{'}\\right)\n",
    "\\end{equation}\n",
    "\n",
    "where \\rho^{e\\rightarrow v} is our defined function and $E_i^{'}$ represents all edges in or out of node i. Having our aggregated edge, which is equivalent to our *message* previously, we can compute the node update:\n",
    "\n",
    "\\begin{equation}\n",
    "\\vec{v}^{'}_i = \\phi^v\\left( \\bar{e}^{'}_i, \\vec{v}_i, \\vec{u}\\right)\n",
    "\\end{equation}\n",
    "\n",
    "This concludes the usual steps of a GNN layer. If you are updating global attributes or aggregating nodes or edges, the following additional steps may be defined:\n",
    "\n",
    "\\begin{equation}\n",
    "\\bar{e}^{'} = \\rho^{e\\rightarrow u}\\left( E^{'}\\right)\n",
    "\\end{equation}\n",
    "\n",
    "This equation aggregates all messages across the whole graph. Then we can aggregate the new nodes across the whole graph:\n",
    "\n",
    "\\begin{equation}\n",
    "\\bar{v}^{'} = \\rho^{v\\rightarrow u}\\left( V^{'}\\right)\n",
    "\\end{equation}\n",
    "\n",
    "Then, we can compute the update to the global feature vector as:\n",
    "\\begin{equation}\n",
    "\\vec{u}^{'} = \\phi^u\\left( \\bar{e}^{'},\\bar{v}^{'}, \\vec{u}\\right)\n",
    "\\end{equation}\n",
    "\n",
    "\n"
   ]
  },
  {
   "cell_type": "markdown",
   "metadata": {},
   "source": [
    "### Reformulating GNNs into Battaglia equations"
   ]
  },
  {
   "cell_type": "markdown",
   "metadata": {},
   "source": [
    "## Cited References\n",
    "\n",
    "```{bibliography} references.bib\n",
    "```"
   ]
  }
 ],
 "metadata": {
  "celltoolbar": "Tags",
  "kernelspec": {
   "display_name": "Python 3",
   "language": "python",
   "name": "python3"
  },
  "language_info": {
   "codemirror_mode": {
    "name": "ipython",
    "version": 3
   },
   "file_extension": ".py",
   "mimetype": "text/x-python",
   "name": "python",
   "nbconvert_exporter": "python",
   "pygments_lexer": "ipython3",
   "version": "3.7.8"
  }
 },
 "nbformat": 4,
 "nbformat_minor": 4
}
