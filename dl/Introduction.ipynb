{
 "cells": [
  {
   "cell_type": "markdown",
   "metadata": {},
   "source": [
    "# Intro to Deep Learning\n",
    "\n",
    "\n",
    "**Deep learning** is a category of **machine learning**. Machine learning is a category of **artificial intelligence**. These notes are mostly about deep learning, thus the name of the book. Deep learning is the use of neural networks to classify and regress data. I am a chemical engineering professor though; writing an introduction to deep learning is a hopeless task for me. I found the introduction the from [Ian Goodfellow's book](https://www.deeplearningbook.org/contents/intro.html) to be a good intro. If you're more visually oriented, Grant Sanderson has made a [short video series](https://www.youtube.com/watch?v=aircAruvnKk) specifically about neural networks that give an applied introduction to the topic. DeepMind has a high-level video showing what can be accomplished with [deep learning & AI](https://www.youtube.com/watch?v=7R52wiUgxZI). When people write \"deep learning is really cool\" in their research papers, they typically cite [this Nature paper](https://www.nature.com/articles/nature14539) by Yann LeCun, Yoshua Bengio, and Geoffery Hinton. Zhang, Lipton, Li, and Smola have written a practical and example-driven [online book](http://d2l.ai/index.html) that gives each example in Tensorflow, PyTorch, and MXNet.\n",
    "\n",
    "The main advice I would give to beginners in deep learning are to focus less on the neurological inspired language (i.e., connections between neurons), and instead view deep learning as a series of linear algebra operations where many of the matrices are filled with adjustable parameters. There are of course a few non-linear functions (activations) here and there, but deep learning is essentially linear algebra operations specified via a graph (network kind) that vaguely looks like neurons in a brain.\n",
    "\n",
    "\n",
    "## Neural Networks\n",
    "\n",
    "The *deep* in deep learning means we have many layers in our neural networks. What is a neural network? Without loss of generality, we can view neural networks as 2 components: (1) a non-linear function $g(\\cdot)$ which operates on our input features $\\mathbf{X}$ and outputs a new set of features $\\mathbf{H} = g(\\mathbf{X})$ and (2) a linear model like we saw in our Machine Learning chapter. Our model equation for deep learning regression is:\n",
    "\n",
    "\\begin{equation}\n",
    "    y = \\vec{w}g(\\vec{x}) + b\n",
    "\\end{equation}\n",
    "\n",
    "One of the main discussion points in our ML chapters was how arcane and difficult it is to choose features. Here, we have replaced our features with a set of trainable features $g(\\vec{x})$ and then use the same linear model as before. So how do we design $g(\\vec{x})$? That is the deep learning part. $g(\\vec{x})$ is a differentiable function we design composed of **layers**, which are themselves differentiable functions each with trainable weights (variables). Deep learning is a mature field and there is a set of standard layers, each with a different purpose. For example, convolution layers look at a fixed neighborhood around each element of an input tensor. Dropout layers randomly inactivate inputs as a form of regularization. The most commonly used and basic layer is the **dense** or **fully-connected** layer.\n",
    "\n",
    "```{margin}\n",
    "Dense means each input element affects each output element. At one point, sparse layers were popular and had a nice analogy with how a brain is connected. However, dense layers do not require deciding which input/output connections to make and sparse layers are very rare now (except incidentally sparse layers, like convolutions).\n",
    "```\n",
    "\n",
    "A dense layer is defined by two things: the desired output feature shape and the **activation**. The equation is:\n",
    "\n",
    "\\begin{equation}\n",
    "     \\vec{h} = \\sigma(\\mathbf{W}\\vec{x} + \\vec{b})\n",
    "\\end{equation}\n",
    "\n",
    "where $\\mathbf{W}$ is a trainable $D \\times F$ matrix, where $D$ is the input vector ($\\vec{x}$) dimension and $F$ is the output vector ($\\vec{h}$) dimension, $\\vec{b}$ is a trainable $F$ dimensional vector, and $\\sigma(\\cdot)$ is the activation function. $F$ is an example of a **hyperparameter**, it is not trainable but is a problem dependent choice. $\\sigma(\\cdot)$ is another hyperparameter. In principle, any differentiable function that has a range of $(-\\infty, \\infty)$ can be used for activation. However, just a few activations have been empirically designed that balance computational cost and effectiveness. One example we've seen before is the sigmoid. Another is a hyperbolic tangent, which behaves similar (domain/range) to the sigmoid.\n",
    "\n",
    "\n",
    "## Frameworks\n",
    "\n",
    "\n",
    "Deep learning has lots of \"gotchas\" -- easy to make mistakes that make it difficult to implement things yourself. This is especially true with numerical stability, which only reveals itself when your models fails to learn. We will move to a bit of a more abstract software framework than JAX. I may update this, but for now we'll use [Keras](https://keras.io/).\n",
    "\n",
    "## Discussion\n",
    "\n",
    "When it comes to introducing deep learning, I will be as terse as possible. There are good learning resources out there. You should use some of the reading above and tutorials put out by Keras (or PyTorch) to get familiar with the concept"
   ]
  },
  {
   "cell_type": "markdown",
   "metadata": {},
   "source": [
    "## Revisiting Solubity Model\n",
    "\n",
    "We'll see our first example of deep learning by revisiting the solubility dataset with a two layer dense neural network."
   ]
  },
  {
   "cell_type": "markdown",
   "metadata": {},
   "source": [
    "## Running This Notebook\n",
    "\n",
    "\n",
    "Click the &nbsp;<i aria-label=\"Launch interactive content\" class=\"fas fa-rocket\"></i>&nbsp; above to launch this page as an interactive Google Colab. See details below on installing packages, either on your own environment or on Google Colab\n",
    "\n",
    "````{tip} My title\n",
    ":class: dropdown\n",
    "To install packages, execute this code in a new cell\n",
    "\n",
    "```\n",
    "!pip install matplotlib numpy pandas seaborn tensorflow\n",
    "```\n",
    "\n",
    "````\n",
    "\n",
    "The hidden cells below sets-up our imports and/or install necessary packages."
   ]
  },
  {
   "cell_type": "code",
   "execution_count": 2,
   "metadata": {},
   "outputs": [],
   "source": [
    "import pandas as pd\n",
    "import matplotlib.pyplot as plt\n",
    "import seaborn as sns\n",
    "import matplotlib as mpl\n",
    "import tensorflow as tf\n",
    "import numpy as np\n",
    "np.random.seed(0)\n",
    "import warnings\n",
    "warnings.filterwarnings('ignore')\n",
    "sns.set_context('notebook')\n",
    "sns.set_style('dark',  {'xtick.bottom':True, 'ytick.left':True, 'xtick.color': '#666666', 'ytick.color': '#666666',\n",
    "                        'axes.edgecolor': '#666666', 'axes.linewidth':     0.8 })\n",
    "color_cycle = ['#1BBC9B', '#F06060', '#5C4B51', '#F3B562', '#6e5687']\n",
    "mpl.rcParams['axes.prop_cycle'] = mpl.cycler(color=color_cycle) "
   ]
  },
  {
   "cell_type": "markdown",
   "metadata": {},
   "source": [
    "### Load Data\n",
    "\n",
    "We download the data and load it into a [Pandas](https://pandas.pydata.org/) data frame and then standardize our features as before."
   ]
  },
  {
   "cell_type": "code",
   "execution_count": 3,
   "metadata": {},
   "outputs": [],
   "source": [
    "soldata = pd.read_csv('https://dataverse.harvard.edu/api/access/datafile/3407241?format=original&gbrecs=true')\n",
    "features_start_at = list(soldata.columns).index('MolWt')\n",
    "feature_names = soldata.columns[features_start_at:]\n",
    "# standardize the features\n",
    "soldata[feature_names] -= soldata[feature_names].mean()\n",
    "soldata[feature_names] /= soldata[feature_names].std()"
   ]
  },
  {
   "cell_type": "markdown",
   "metadata": {},
   "source": [
    "## Prepare Data for Keras\n",
    "\n",
    "The deep learning libraries simplify many common tasks, like splitting data and building layers. This code below builds our dataset from numpy arrays. "
   ]
  },
  {
   "cell_type": "code",
   "execution_count": 56,
   "metadata": {},
   "outputs": [],
   "source": [
    "full_data = tf.data.Dataset.from_tensor_slices((soldata[feature_names].values, soldata['Solubility'].values))\n",
    "N = len(soldata)\n",
    "test_N = int(0.1 * N)\n",
    "test_data = full_data.take(test_N).batch(16)\n",
    "train_data = full_data.skip(test_N).batch(16)"
   ]
  },
  {
   "cell_type": "markdown",
   "metadata": {},
   "source": [
    "Notice that we used `skip` and `take` to split our dataset into two pieces and then created batches of data.\n",
    "\n",
    "## Neural Network\n",
    "Now we build our neural network model. In this case, our $g(\\vec{x}) = \\sigma\\left(\\mathbf{W^0}\\vec{x} + \\vec{b}\\right)$. We'll choose our activation to be a tanh and a hidden layer dimension of 32. You can read more about this [API here](https://keras.io/guides/sequential_model/), however you should be able to understand the process from the function names and comments."
   ]
  },
  {
   "cell_type": "code",
   "execution_count": 116,
   "metadata": {},
   "outputs": [
    {
     "name": "stdout",
     "output_type": "stream",
     "text": [
      "WARNING:tensorflow:Layer dense_44 is casting an input tensor from dtype float64 to the layer's dtype of float32, which is new behavior in TensorFlow 2.  The layer has dtype float32 because its dtype defaults to floatx.\n",
      "\n",
      "If you intended to run this layer in float32, you can safely ignore this warning. If in doubt, this warning is likely only an issue if you are porting a TensorFlow 1.X model to TensorFlow 2.\n",
      "\n",
      "To change all layers to have dtype float64 by default, call `tf.keras.backend.set_floatx('float64')`. To change just this layer, pass dtype='float64' to the layer constructor. If you are the author of this layer, you can disable autocasting by passing autocast=False to the base Layer constructor.\n",
      "\n"
     ]
    },
    {
     "data": {
      "text/plain": [
       "<tf.Tensor: shape=(3, 1), dtype=float32, numpy=\n",
       "array([[ 0.1746186],\n",
       "       [-0.4963269],\n",
       "       [-0.6331892]], dtype=float32)>"
      ]
     },
     "execution_count": 116,
     "metadata": {},
     "output_type": "execute_result"
    }
   ],
   "source": [
    "# our hidden layer\n",
    "# We only need to define the output dimension - 32.\n",
    "hidden_layer =  tf.keras.layers.Dense(32, activation='tanh')\n",
    "# Last layer - which we want to output one number\n",
    "# the predicted solubility. \n",
    "output_layer = tf.keras.layers.Dense(1)\n",
    "\n",
    "# Now we put the layers into a sequential model\n",
    "model = tf.keras.Sequential()\n",
    "model.add(hidden_layer)\n",
    "model.add(output_layer)\n",
    "\n",
    "# our model is complete\n",
    "\n",
    "# Try out our model on first few datapoints\n",
    "model(soldata[feature_names].values[:3])"
   ]
  },
  {
   "cell_type": "markdown",
   "metadata": {},
   "source": [
    "We can see our model predicting the solubility for 3 molecules above. There is a warning about how our Pandas data is using float64 (double precision floating point numbers) but our model is using float32 (single precision), which doesn't matter that much. It warns us because we are technically throwing out a little bit of precision, but our solubility has much more variance than the difference between 32 and 64 bit precision floating point numbers.\n",
    "\n",
    "At this point, we've defined how our model structure should work and it can be called on data. Now we need to train it! We prepare the model for training by calling `compile`, which is where we define our optimization (flavor of stochastic gradient descent) and loss"
   ]
  },
  {
   "cell_type": "code",
   "execution_count": 110,
   "metadata": {},
   "outputs": [],
   "source": [
    "model.compile(optimizer='SGD', loss='mean_squared_error')"
   ]
  },
  {
   "cell_type": "markdown",
   "metadata": {},
   "source": [
    "Look back to the amount of work it took to previously set-up loss and optimization process! Now we can train our model"
   ]
  },
  {
   "cell_type": "code",
   "execution_count": 111,
   "metadata": {
    "tags": [
     "hide-output"
    ]
   },
   "outputs": [
    {
     "name": "stdout",
     "output_type": "stream",
     "text": [
      "Epoch 1/50\n",
      "562/562 [==============================] - 0s 476us/step - loss: 2.4243\n",
      "Epoch 2/50\n",
      "562/562 [==============================] - 0s 520us/step - loss: 1.8550\n",
      "Epoch 3/50\n",
      "562/562 [==============================] - 0s 456us/step - loss: 1.7096\n",
      "Epoch 4/50\n",
      "562/562 [==============================] - 0s 454us/step - loss: 1.6306\n",
      "Epoch 5/50\n",
      "562/562 [==============================] - 0s 462us/step - loss: 1.5806\n",
      "Epoch 6/50\n",
      "562/562 [==============================] - 0s 471us/step - loss: 1.5471\n",
      "Epoch 7/50\n",
      "562/562 [==============================] - 0s 460us/step - loss: 1.5222\n",
      "Epoch 8/50\n",
      "562/562 [==============================] - 0s 451us/step - loss: 1.5022\n",
      "Epoch 9/50\n",
      "562/562 [==============================] - 0s 452us/step - loss: 1.4878\n",
      "Epoch 10/50\n",
      "562/562 [==============================] - 0s 532us/step - loss: 1.4775\n",
      "Epoch 11/50\n",
      "562/562 [==============================] - 0s 449us/step - loss: 1.4658\n",
      "Epoch 12/50\n",
      "562/562 [==============================] - 0s 456us/step - loss: 1.4588\n",
      "Epoch 13/50\n",
      "562/562 [==============================] - 0s 460us/step - loss: 1.4511\n",
      "Epoch 14/50\n",
      "562/562 [==============================] - 0s 463us/step - loss: 1.4455\n",
      "Epoch 15/50\n",
      "562/562 [==============================] - 0s 450us/step - loss: 1.4410\n",
      "Epoch 16/50\n",
      "562/562 [==============================] - 0s 446us/step - loss: 1.4377\n",
      "Epoch 17/50\n",
      "562/562 [==============================] - 0s 444us/step - loss: 1.4328\n",
      "Epoch 18/50\n",
      "562/562 [==============================] - 0s 500us/step - loss: 1.4300\n",
      "Epoch 19/50\n",
      "562/562 [==============================] - 0s 471us/step - loss: 1.4265\n",
      "Epoch 20/50\n",
      "562/562 [==============================] - 0s 442us/step - loss: 1.4246\n",
      "Epoch 21/50\n",
      "562/562 [==============================] - 0s 463us/step - loss: 1.4226\n",
      "Epoch 22/50\n",
      "562/562 [==============================] - 0s 446us/step - loss: 1.4210\n",
      "Epoch 23/50\n",
      "562/562 [==============================] - 0s 450us/step - loss: 1.4195\n",
      "Epoch 24/50\n",
      "562/562 [==============================] - 0s 449us/step - loss: 1.4183\n",
      "Epoch 25/50\n",
      "562/562 [==============================] - 0s 450us/step - loss: 1.4171\n",
      "Epoch 26/50\n",
      "562/562 [==============================] - 0s 484us/step - loss: 1.4161\n",
      "Epoch 27/50\n",
      "562/562 [==============================] - 0s 533us/step - loss: 1.4152\n",
      "Epoch 28/50\n",
      "562/562 [==============================] - 0s 443us/step - loss: 1.4142\n",
      "Epoch 29/50\n",
      "562/562 [==============================] - 0s 459us/step - loss: 1.4133\n",
      "Epoch 30/50\n",
      "562/562 [==============================] - 0s 468us/step - loss: 1.4125\n",
      "Epoch 31/50\n",
      "562/562 [==============================] - 0s 455us/step - loss: 1.4116\n",
      "Epoch 32/50\n",
      "562/562 [==============================] - 0s 473us/step - loss: 1.4108\n",
      "Epoch 33/50\n",
      "562/562 [==============================] - 0s 466us/step - loss: 1.4100\n",
      "Epoch 34/50\n",
      "562/562 [==============================] - 0s 461us/step - loss: 1.4093\n",
      "Epoch 35/50\n",
      "562/562 [==============================] - 0s 529us/step - loss: 1.4086\n",
      "Epoch 36/50\n",
      "562/562 [==============================] - 0s 446us/step - loss: 1.4078\n",
      "Epoch 37/50\n",
      "562/562 [==============================] - 0s 449us/step - loss: 1.4070\n",
      "Epoch 38/50\n",
      "562/562 [==============================] - 0s 445us/step - loss: 1.4060\n",
      "Epoch 39/50\n",
      "562/562 [==============================] - 0s 446us/step - loss: 1.4049\n",
      "Epoch 40/50\n",
      "562/562 [==============================] - 0s 449us/step - loss: 1.4038\n",
      "Epoch 41/50\n",
      "562/562 [==============================] - 0s 458us/step - loss: 1.4026\n",
      "Epoch 42/50\n",
      "562/562 [==============================] - 0s 470us/step - loss: 1.4014\n",
      "Epoch 43/50\n",
      "562/562 [==============================] - 0s 544us/step - loss: 1.4001\n",
      "Epoch 44/50\n",
      "562/562 [==============================] - 0s 459us/step - loss: 1.3987\n",
      "Epoch 45/50\n",
      "562/562 [==============================] - 0s 449us/step - loss: 1.3973\n",
      "Epoch 46/50\n",
      "562/562 [==============================] - 0s 450us/step - loss: 1.3959\n",
      "Epoch 47/50\n",
      "562/562 [==============================] - 0s 457us/step - loss: 1.3945\n",
      "Epoch 48/50\n",
      "562/562 [==============================] - 0s 491us/step - loss: 1.3930\n",
      "Epoch 49/50\n",
      "562/562 [==============================] - 0s 521us/step - loss: 1.3915\n",
      "Epoch 50/50\n",
      "562/562 [==============================] - 0s 490us/step - loss: 1.3899\n"
     ]
    },
    {
     "data": {
      "text/plain": [
       "<tensorflow.python.keras.callbacks.History at 0x7fe0e63a7e80>"
      ]
     },
     "execution_count": 111,
     "metadata": {},
     "output_type": "execute_result"
    }
   ],
   "source": [
    "model.fit(train_data, epochs=50)"
   ]
  },
  {
   "cell_type": "markdown",
   "metadata": {},
   "source": [
    "That was quite simple! For reference, we got a loss about as low as 3 in our previous work. It was also much faster, thanks to the optimizations. Now let's see how our model did on the test data"
   ]
  },
  {
   "cell_type": "code",
   "execution_count": 112,
   "metadata": {},
   "outputs": [],
   "source": [
    "# get model predictions on test data and get labels\n",
    "# squeeze to remove extra dimensions\n",
    "yhat = np.squeeze(model.predict(test_data))\n",
    "test_y = soldata['Solubility'].values[:test_N]"
   ]
  },
  {
   "cell_type": "code",
   "execution_count": 113,
   "metadata": {},
   "outputs": [
    {
     "data": {
      "image/png": "[encoded data removed]",
      "text/plain": [
       "<Figure size 432x288 with 1 Axes>"
      ]
     },
     "metadata": {},
     "output_type": "display_data"
    }
   ],
   "source": [
    "plt.plot(test_y, yhat, '.')\n",
    "plt.plot(test_y, test_y, '-')\n",
    "plt.xlabel('Measured Solubility $y$')\n",
    "plt.ylabel('Predicted Solubility $\\hat{y}$')\n",
    "plt.text(min(test_y) + 1, max(test_y) - 2, f'correlation = {np.corrcoef(test_y, yhat)[0,1]:.3f}')\n",
    "plt.text(min(test_y) + 1, max(test_y) - 3, f'loss = {np.sqrt(np.mean((test_y - yhat)**2)):.3f}')\n",
    "plt.show()"
   ]
  },
  {
   "cell_type": "markdown",
   "metadata": {},
   "source": [
    "This performance is better than our simple linear model. We can see there is some overfitting still. Let's see if we can improve that using regularization. I'll repeat the steps below with a small change to add L2 regularization. See if you can spot the change!"
   ]
  },
  {
   "cell_type": "code",
   "execution_count": 114,
   "metadata": {
    "tags": [
     "hide-output"
    ]
   },
   "outputs": [
    {
     "name": "stdout",
     "output_type": "stream",
     "text": [
      "Epoch 1/50\n",
      "WARNING:tensorflow:Layer dense_42 is casting an input tensor from dtype float64 to the layer's dtype of float32, which is new behavior in TensorFlow 2.  The layer has dtype float32 because its dtype defaults to floatx.\n",
      "\n",
      "If you intended to run this layer in float32, you can safely ignore this warning. If in doubt, this warning is likely only an issue if you are porting a TensorFlow 1.X model to TensorFlow 2.\n",
      "\n",
      "To change all layers to have dtype float64 by default, call `tf.keras.backend.set_floatx('float64')`. To change just this layer, pass dtype='float64' to the layer constructor. If you are the author of this layer, you can disable autocasting by passing autocast=False to the base Layer constructor.\n",
      "\n",
      "562/562 [==============================] - 0s 558us/step - loss: 2.3391\n",
      "Epoch 2/50\n",
      "562/562 [==============================] - 0s 453us/step - loss: 1.8441\n",
      "Epoch 3/50\n",
      "562/562 [==============================] - 0s 484us/step - loss: 1.7342\n",
      "Epoch 4/50\n",
      "562/562 [==============================] - 0s 480us/step - loss: 1.6576\n",
      "Epoch 5/50\n",
      "562/562 [==============================] - 0s 477us/step - loss: 1.6001\n",
      "Epoch 6/50\n",
      "562/562 [==============================] - 0s 475us/step - loss: 1.5596\n",
      "Epoch 7/50\n",
      "562/562 [==============================] - 0s 469us/step - loss: 1.5283\n",
      "Epoch 8/50\n",
      "562/562 [==============================] - 0s 486us/step - loss: 1.5058\n",
      "Epoch 9/50\n",
      "562/562 [==============================] - 0s 543us/step - loss: 1.4860\n",
      "Epoch 10/50\n",
      "562/562 [==============================] - 0s 457us/step - loss: 1.4715\n",
      "Epoch 11/50\n",
      "562/562 [==============================] - 0s 484us/step - loss: 1.4602\n",
      "Epoch 12/50\n",
      "562/562 [==============================] - 0s 470us/step - loss: 1.4503\n",
      "Epoch 13/50\n",
      "562/562 [==============================] - 0s 486us/step - loss: 1.4414\n",
      "Epoch 14/50\n",
      "562/562 [==============================] - 0s 466us/step - loss: 1.4347\n",
      "Epoch 15/50\n",
      "562/562 [==============================] - 0s 457us/step - loss: 1.4286\n",
      "Epoch 16/50\n",
      "562/562 [==============================] - 0s 533us/step - loss: 1.4230\n",
      "Epoch 17/50\n",
      "562/562 [==============================] - 0s 526us/step - loss: 1.4177\n",
      "Epoch 18/50\n",
      "562/562 [==============================] - 0s 450us/step - loss: 1.4132\n",
      "Epoch 19/50\n",
      "562/562 [==============================] - 0s 465us/step - loss: 1.4088\n",
      "Epoch 20/50\n",
      "562/562 [==============================] - 0s 465us/step - loss: 1.4053\n",
      "Epoch 21/50\n",
      "562/562 [==============================] - 0s 459us/step - loss: 1.4022\n",
      "Epoch 22/50\n",
      "562/562 [==============================] - 0s 483us/step - loss: 1.3995\n",
      "Epoch 23/50\n",
      "562/562 [==============================] - 0s 480us/step - loss: 1.3969\n",
      "Epoch 24/50\n",
      "562/562 [==============================] - 0s 497us/step - loss: 1.3945\n",
      "Epoch 25/50\n",
      "562/562 [==============================] - 0s 578us/step - loss: 1.3922\n",
      "Epoch 26/50\n",
      "562/562 [==============================] - 0s 470us/step - loss: 1.3900\n",
      "Epoch 27/50\n",
      "562/562 [==============================] - 0s 473us/step - loss: 1.3879\n",
      "Epoch 28/50\n",
      "562/562 [==============================] - 0s 444us/step - loss: 1.3858\n",
      "Epoch 29/50\n",
      "562/562 [==============================] - 0s 481us/step - loss: 1.3837\n",
      "Epoch 30/50\n",
      "562/562 [==============================] - 0s 469us/step - loss: 1.3815\n",
      "Epoch 31/50\n",
      "562/562 [==============================] - 0s 480us/step - loss: 1.3792\n",
      "Epoch 32/50\n",
      "562/562 [==============================] - 0s 498us/step - loss: 1.3777\n",
      "Epoch 33/50\n",
      "562/562 [==============================] - 0s 535us/step - loss: 1.3758\n",
      "Epoch 34/50\n",
      "562/562 [==============================] - 0s 474us/step - loss: 1.3737\n",
      "Epoch 35/50\n",
      "562/562 [==============================] - 0s 473us/step - loss: 1.3715\n",
      "Epoch 36/50\n",
      "562/562 [==============================] - 0s 490us/step - loss: 1.3694\n",
      "Epoch 37/50\n",
      "562/562 [==============================] - 0s 444us/step - loss: 1.3673\n",
      "Epoch 38/50\n",
      "562/562 [==============================] - 0s 458us/step - loss: 1.3653\n",
      "Epoch 39/50\n",
      "562/562 [==============================] - 0s 466us/step - loss: 1.3634\n",
      "Epoch 40/50\n",
      "562/562 [==============================] - 0s 456us/step - loss: 1.3616\n",
      "Epoch 41/50\n",
      "562/562 [==============================] - 0s 541us/step - loss: 1.3600\n",
      "Epoch 42/50\n",
      "562/562 [==============================] - 0s 482us/step - loss: 1.3585\n",
      "Epoch 43/50\n",
      "562/562 [==============================] - 0s 461us/step - loss: 1.3570\n",
      "Epoch 44/50\n",
      "562/562 [==============================] - 0s 487us/step - loss: 1.3556\n",
      "Epoch 45/50\n",
      "562/562 [==============================] - 0s 492us/step - loss: 1.3543\n",
      "Epoch 46/50\n",
      "562/562 [==============================] - 0s 478us/step - loss: 1.3528\n",
      "Epoch 47/50\n",
      "562/562 [==============================] - 0s 488us/step - loss: 1.3513\n",
      "Epoch 48/50\n",
      "562/562 [==============================] - 0s 509us/step - loss: 1.3498\n",
      "Epoch 49/50\n",
      "562/562 [==============================] - 0s 540us/step - loss: 1.3484\n",
      "Epoch 50/50\n",
      "562/562 [==============================] - 0s 467us/step - loss: 1.3469\n"
     ]
    },
    {
     "data": {
      "text/plain": [
       "<tensorflow.python.keras.callbacks.History at 0x7fe0d8083700>"
      ]
     },
     "execution_count": 114,
     "metadata": {},
     "output_type": "execute_result"
    }
   ],
   "source": [
    "hidden_layer =  tf.keras.layers.Dense(32, activation='tanh', kernel_regularizer='l2')\n",
    "output_layer = tf.keras.layers.Dense(1)\n",
    "\n",
    "model = tf.keras.Sequential()\n",
    "model.add(hidden_layer)\n",
    "model.add(output_layer)\n",
    "\n",
    "model.compile(optimizer='SGD', loss='mean_squared_error')\n",
    "model.fit(train_data, epochs=50)"
   ]
  },
  {
   "cell_type": "code",
   "execution_count": 115,
   "metadata": {},
   "outputs": [
    {
     "data": {
      "image/png": "[encoded data removed]",
      "text/plain": [
       "<Figure size 432x288 with 1 Axes>"
      ]
     },
     "metadata": {},
     "output_type": "display_data"
    }
   ],
   "source": [
    "yhat = np.squeeze(model.predict(test_data))\n",
    "test_y = soldata['Solubility'].values[:test_N]\n",
    "plt.plot(test_y, yhat, '.')\n",
    "plt.plot(test_y, test_y, '-')\n",
    "plt.xlabel('Measured Solubility $y$')\n",
    "plt.ylabel('Predicted Solubility $\\hat{y}$')\n",
    "plt.text(min(test_y) + 1, max(test_y) - 2, f'correlation = {np.corrcoef(test_y, yhat)[0,1]:.3f}')\n",
    "plt.text(min(test_y) + 1, max(test_y) - 3, f'loss = {np.sqrt(np.mean((test_y - yhat)**2)):.3f}')\n",
    "plt.show()"
   ]
  },
  {
   "cell_type": "markdown",
   "metadata": {},
   "source": [
    "With that change, our test error is improved and matches the training error (the values printed out during training). You can read more about the model training process in [Keras here](https://www.tensorflow.org/guide/keras/train_and_evaluate). You can see that this process is very similar to our ML regression chapter. We use batching, loss, and gradient descent. The only change is the type of model equations. "
   ]
  }
 ],
 "metadata": {
  "celltoolbar": "Tags",
  "kernelspec": {
   "display_name": "Python 3",
   "language": "python",
   "name": "python3"
  },
  "language_info": {
   "codemirror_mode": {
    "name": "ipython",
    "version": 3
   },
   "file_extension": ".py",
   "mimetype": "text/x-python",
   "name": "python",
   "nbconvert_exporter": "python",
   "pygments_lexer": "ipython3",
   "version": "3.8.5"
  }
 },
 "nbformat": 4,
 "nbformat_minor": 4
}
